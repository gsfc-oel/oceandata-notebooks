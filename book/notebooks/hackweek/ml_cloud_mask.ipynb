{
 "cells": [
  {
   "cell_type": "markdown",
   "id": "4292ef82",
   "metadata": {},
   "source": [
    "# Machine Learning Tutorial\n",
    "\n",
    "**Tutorial Lead:** Sean Foley (NASA, MSU)\n",
    "\n",
    "<div class=\"alert alert-success\" role=\"alert\">\n",
    "\n",
    "The following notebooks are **prerequisites** for this tutorial:\n",
    "\n",
    "- [Earthdata Cloud Access](../earthdata_cloud_access)\n",
    "\n",
    "</div>\n",
    "\n",
    "## Summary\n",
    "\n",
    "This tutorial will walk you through a simple machine learning pipeline. We will apply some basic supervised learning techniques to the task of cloud masking in PACE data.\n",
    "\n",
    "## Learning Objectives\n",
    "\n",
    "At the end of this notebook you will know:\n",
    "\n",
    "- How to construct a simple machine learning dataset in Pytorch\n",
    "- The meaning of training, validation, and test sets\n",
    "- How to construct a simple neural network in Pytorch\n",
    "- How the backpropagation algorithm works\n",
    "- How to construct a training loop in Pytorch\n",
    "\n",
    "Stretch goals:\n",
    "- How to use a GPU to speed up training\n",
    "- How to use a convolutional neural network to process images better and faster\n",
    "- How to augment your training data to improve generalization\n",
    "\n",
    "## Contents\n",
    "\n",
    "1. [Setup](#1.-Setup)\n",
    "2. [Cloud Masking](#2.-Cloud-Masking)\n",
    "3. [Training, Validation, and Test Sets](#3.-Training,-Validation,-and-Test-Sets)\n",
    "4. [Datasets and DataLoaders](#4.-Datasets-and-DataLoaders)\n",
    "5. [A Simple Multi-Layer Perceptron](#5.-A-Simple-Multi-Layer-Perceptron)\n",
    "6. [Optimization](#6.-Optimization)\n",
    "7. [A Minimal Training Loop](#7.-A-Minimal-Training-Loop)\n",
    "8. [Running on GPU/CUDA](#8.-Running-on-GPU-/-CUDA)\n",
    "9. [Convolutional Neural Networks](#9.-Convolutional-Neural-Networks)\n",
    "10. [Putting It All Together](#10.-Putting-It-All-Together)\n",
    "11. [Want More?](#11.-Want-More?)"
   ]
  },
  {
   "cell_type": "markdown",
   "id": "776ee5bf",
   "metadata": {},
   "source": [
    "## 1. Setup\n",
    "\n",
    "As usual, we will begin by importing some libraries. Some of the more notable ones include:\n",
    "- matplotlib: This is the most common plotting library in python\n",
    "- numpy: For efficient array operations on CPU\n",
    "- PIL: Python Image Library, aka Pillow, will let us easily open image files.\n",
    "- torch: Short for [Pytorch](https://pytorch.org/), this is the machine learning library of choice for this tutorial. This is the most popular machine learning library among researchers as it represents a good balance between flexibility and ease-of-use.\n",
    "- tqdm: For progress bars on loops"
   ]
  },
  {
   "cell_type": "code",
   "execution_count": null,
   "id": "34e4fa7c",
   "metadata": {},
   "outputs": [],
   "source": [
    "import json\n",
    "import pathlib\n",
    "from functools import cache\n",
    "\n",
    "import matplotlib.pyplot as plt\n",
    "import numpy as np\n",
    "import torch\n",
    "import torch.nn as nn\n",
    "import torch.nn.functional as F\n",
    "from matplotlib.patches import Patch\n",
    "from PIL import Image, UnidentifiedImageError\n",
    "from torch.utils.data import DataLoader, Dataset\n",
    "from tqdm.notebook import tqdm\n",
    "\n",
    "CLDMASK_PATH = pathlib.Path(\"/home/jovyan/shared/pace-hackweek-2024/cldmask_dataset\")"
   ]
  },
  {
   "cell_type": "markdown",
   "id": "7f4ad696",
   "metadata": {},
   "source": [
    "[back to top](#Contents)"
   ]
  },
  {
   "cell_type": "markdown",
   "id": "9c4358e9",
   "metadata": {},
   "source": [
    "## 2. Cloud Masking\n",
    "\n",
    "Cloud masking refers to the task of assigning a binary value to each pixel in a satellite image, according to whether or not that location is covered by a cloud. It is essential to many other data products. For non-atmospheric scientists, this is usually useful to know what pixels to ignore, or 'mask out', in processing. For atmospheric scientists, it is often the opposite: we may exclusively wish to study the clouds.\n",
    "\n",
    "The cloud mask data we will use today comes from the PACE data, and is itself already the product of a machine learning algorithm. Normally, you wouldn't recreate the output of a machine learning algorithm with another machine learning algorithm (that takes the exact same inputs), but this will serve fine for the purposes of our tutorial.\n",
    "\n",
    "We have pre-processed the cloud mask data and associated OCI imagery into an easy-to-use dataset. We have taken OCI granules and chopped them up into 64x64 patches. The inputs include 11 of the OCI bands from the visible to the near-infrared: 413, 442, 470, 550, 650, 865, 940, 1249, 1378, 1618, and 2131 nm. The inputs also include a land vs. sea mask, which will be useful information for our model. The output is the binary cloud mask. Since there are 12 inputs, we have split each image into 3-channel groups to be able to save them as PNG files. Along with the inputs and output, we include the associated validity mask, which indicates whether each pixel is valid for processing. These files are all already stored here on the server, located in the path specified above in the CLDMASK_PATH variable.\n",
    "\n",
    "Let's look at an example. The next cell will open and display the images for a single instance."
   ]
  },
  {
   "cell_type": "code",
   "execution_count": null,
   "id": "3511958b",
   "metadata": {},
   "outputs": [],
   "source": [
    "ex_img_idx = 57  # this image index displays a meaningful cloud mask and\n",
    "input_imgs = [\n",
    "    Image.open(CLDMASK_PATH / \"input\" / f\"{ex_img_idx:07d}_{i}.png\") for i in range(4)\n",
    "]\n",
    "validity = Image.open(CLDMASK_PATH / \"input\" / f\"{ex_img_idx:07d}_mask.png\")\n",
    "cld_mask = Image.open(CLDMASK_PATH / \"output\" / f\"{ex_img_idx:07d}.png\")\n",
    "\n",
    "fig, axs = plt.subplots(1, 6, figsize=(12, 2))\n",
    "for i in range(4):\n",
    "    axs[i].imshow(input_imgs[i])\n",
    "    axs[i].axis(\"off\")\n",
    "    axs[i].set_title(f\"Input image {i}\")\n",
    "axs[4].imshow(validity)\n",
    "axs[5].imshow(cld_mask)\n",
    "axs[4].set_title(\"Validity\")\n",
    "axs[5].set_title(\"Cloud Mask\")\n",
    "for i in [4, 5]:\n",
    "    axs[i].set_xticks([])\n",
    "    axs[i].set_yticks([])\n",
    "plt.show()"
   ]
  },
  {
   "cell_type": "markdown",
   "id": "5ef3bfaa",
   "metadata": {},
   "source": [
    "Take note of a few things:\n",
    "- On the left of the images, there is a black strip. This patch partially extends past the edge of the sensor swath. Note that the validity mask indicates that these pixels should be discarded.\n",
    "- The colors appear quite different between the four input images. These bands capture quite a diversity of information about the scene.\n",
    "- The strong blue feature in input image 3 indicates the land-sea mask.\n",
    "- The cloud mask is positive where there are NOT clouds. We can invert this later.\n",
    "\n",
    "So, how many instances are there in this dataset? Let's find out:"
   ]
  },
  {
   "cell_type": "code",
   "execution_count": null,
   "id": "afb65205",
   "metadata": {},
   "outputs": [],
   "source": [
    "len(list((CLDMASK_PATH / \"output\").glob(\"*.png\")))"
   ]
  },
  {
   "cell_type": "markdown",
   "id": "8dc00332",
   "metadata": {},
   "source": [
    "Wow! That's a lot. And this represents a small fraction of the available data since PACE has launched. With PACE, we truly are drowning in data. This is why machine learning is such a valuable tool for us. Next, let's talk about how we're going to use that data.\n",
    "\n",
    "[back to top](#Contents)"
   ]
  },
  {
   "cell_type": "markdown",
   "id": "28ee82be",
   "metadata": {},
   "source": [
    "## 3. Training, Validation, and Test Sets\n",
    "\n",
    "When training a machine learning algorithm, it's important to understand how your model generalizes to data it hasn't been directly trained on. It's also important to understand how your particular choices of designing that model will generalize to data that you haven't tuned those choices for. For that reason, it is standard practice to divide your data into a training, validation, and test sets. The purpose of the training set is to fit your model. Your model will be directly supervised on that data. The purpose of the validation set is to allow you to figure out how to improve your model's design. The model parameters should NOT be fit to the validation data. Your hyperparameters (e.g. how many layers in your neural network, the learning rate, the type of data augmentation) are optimized with respect to the validation set. In other words, while you're making decisions about how to design your model, the validation set is what you base those decisions on. Finally, the test set is the last thing you use. You shouldn't make any changes (to parameters or hyperparameters) after seeing your results on the test set. Oftentimes, the maintainers of benchmark datasets will not provide labels for the testing set. To get their results, participants will send their predictions to maintainers of the benchmark, who will themselves evaluate the results.\n",
    "\n",
    "To recap, the training set is for fitting parameters, the validation set is for fitting hyperparameters, and the test set is for fitting NOTHING. You can split up your data in lots of different ways, but you typically want your training set to be the largest set, allowing your model to see the greatest diversity of data possible. The validation and test set should only be as big as is necessary to give you an accurate evaluation of your model.\n",
    "\n",
    "**NOTE:** Normally, you want to make sure you're not accidentally \"cheating\" by sampling your train/val/test from the same distribution. For example, you wouldn't want the same granule to yield patches in two different sets. You might want to enforce even stricter requirements on your splits, like having a test set from a different season than the rest of your data, to show that your method generalizes to any time of year. For simplicity's sake, we will be ignoring these good practices, and sampling our patches randomly, regardless of what granule they're from.\n",
    "\n",
    "Another common practice which we will ignore is called \"cross validation\", where you generate multiple train/val splits, fitting your model independently to each one, to get an understanding of the variance between different splits of the data.\n",
    "\n",
    "`generate_split` will generate a random training/validation/test \"split\" and save it to a JSON file. Go ahead and run it. Careful, as if you've already run this function before with the same split name, it will throw a ValueError, unless you add \"replace=True\" to the function call."
   ]
  },
  {
   "cell_type": "code",
   "execution_count": null,
   "id": "71b3e85c",
   "metadata": {},
   "outputs": [],
   "source": [
    "def generate_split(name: str, replace: bool = False) -> None:\n",
    "    \"\"\"Generate a train/val/test split, replacing an existing split with the same name only if specified.\n",
    "\n",
    "    Args:\n",
    "        name: The name of the split file to generate.\n",
    "        replace: Whether to replace an existing split file with the provided name.\n",
    "\n",
    "    \"\"\"\n",
    "    # count how many images are available in the data\n",
    "    num_imgs = len(list((CLDMASK_PATH / \"output\").glob(\"*.png\")))\n",
    "\n",
    "    # determine how many images are in the train, val, and test data, using a 70%, 15%, 15% split\n",
    "    num_train = round(0.7 * num_imgs)\n",
    "    num_val = round(0.15 * num_imgs)\n",
    "    num_test = round(0.15 * num_imgs)\n",
    "\n",
    "    # fix any rounding errors\n",
    "    num_train += num_imgs - (num_train + num_val + num_test)\n",
    "\n",
    "    # get an array of image indices, shuffle it, and assign indices to train/val/test\n",
    "    img_idxs = np.arange(num_imgs)\n",
    "    np.random.shuffle(img_idxs)\n",
    "    split = {\n",
    "        \"train\": sorted(img_idxs[:num_train].tolist()),\n",
    "        \"val\": sorted(img_idxs[num_train : num_train + num_val].tolist()),\n",
    "        \"test\": sorted(img_idxs[-num_test:].tolist()),\n",
    "    }\n",
    "\n",
    "    split_path = pathlib.Path(f\"{name}.json\")\n",
    "    if not replace and split_path.exists():\n",
    "        raise ValueError(f\"Uh oh, you tried to create a split called '{name}', but '{split_path}' already exists. \\\n",
    "                         Please either choose a different name or pass 'replace=True' to this function.\")\n",
    "\n",
    "    json.dump(split, open(split_path, \"w\"))\n",
    "\n",
    "\n",
    "generate_split(\"default_split\")"
   ]
  },
  {
   "cell_type": "markdown",
   "id": "5ea84c92",
   "metadata": {},
   "source": [
    "\n",
    "[back to top](#Contents)"
   ]
  },
  {
   "cell_type": "markdown",
   "id": "dcb2cca1",
   "metadata": {},
   "source": [
    "## 4. Datasets and DataLoaders\n",
    "\n",
    "Next, we need to write a little code to load our data. Torch gives us a nice framework to do this.  A [`torch.utils.Dataset`](https://pytorch.org/docs/stable/data.html#torch.utils.data.Dataset) is responsible for getting a single instance of data associated with a specific index. To implement a `Dataset`, we implement `__init__` (as with all classes), `__len__`, and `__getitem__`.\n",
    "\n",
    "Usually, `__getitem__` is where most of the work happens. In `CloudMaskDataset.__getitem__`, we construct the appropriate filepaths and load the PNG files with the PIL library. We concatenate the four 3-channel input images into one 12-channel array. We return the inputs, the validity mask, and the cloud mask labels. In the case where one of the images won't load, we return arrays filled with zeros. Since the validity mask will be all zero, our code will be able to handle this appropriately later.\n",
    "\n",
    "Run the next cell to define `CloudMaskDataset` and to create a dataset for each of the training, validation, and test sets."
   ]
  },
  {
   "cell_type": "code",
   "execution_count": null,
   "id": "b8b3d52e",
   "metadata": {},
   "outputs": [],
   "source": [
    "from io import BytesIO"
   ]
  },
  {
   "cell_type": "code",
   "execution_count": null,
   "id": "93b9de3d",
   "metadata": {},
   "outputs": [],
   "source": [
    "class CloudMaskDataset(Dataset):\n",
    "    def __init__(self, root_path: pathlib.Path, mode: str, split: dict) -> None:\n",
    "        \"\"\"Create a CloudMaskDataset.\n",
    "\n",
    "        Args:\n",
    "            root_path: Path to the root directory containing the dataset.\n",
    "            mode: Mode is usually 'train', 'val', or 'test', and must be a key in the provided split.\n",
    "            split: Dictionary containing indices belonging to each dataset mode.\n",
    "\n",
    "        \"\"\"\n",
    "        self.root_path = root_path\n",
    "        self.mode = mode\n",
    "        self.img_idxs = split[self.mode]\n",
    "\n",
    "    @cache  # cache decorator makes this function 'remember' what to return if the inputs haven't changed\n",
    "    def __len__(self) -> int:\n",
    "        \"\"\"Return the number of instances in this dataset.\"\"\"\n",
    "        return len(self.img_idxs)\n",
    "\n",
    "    def __getitem__(self, idx: int) -> tuple[np.ndarray]:\n",
    "        \"\"\"Get a specific instance in the dataset.\n",
    "\n",
    "        Args:\n",
    "            idx: The index of the instance to return.\n",
    "\n",
    "        Returns:\n",
    "            input: The (64, 64, 12) array of inputs to the model.\n",
    "            valid: The (64, 64) mask of which locations contain valid data.\n",
    "            labels: The (64, 64) cloud mask labels corresponding to the inputs.\n",
    "\n",
    "        \"\"\"\n",
    "        input_paths = [\n",
    "            self.root_path / \"input\" / f\"{idx:07d}_{i}.png\" for i in range(4)\n",
    "        ]\n",
    "        label_path = self.root_path / \"output\" / f\"{idx:07d}.png\"\n",
    "        try:\n",
    "            # concatenate four 3-channel images into one 12-channel array, divide by 255 as they were stored as 8-bit ints\n",
    "            # input = np.concatenate([np.array(Image.open(p)) for p in input_paths], axis=2)\n",
    "            input = np.concatenate(\n",
    "                [\n",
    "                    np.array(Image.open(BytesIO(open(p, \"rb\").read())), dtype=np.uint8)\n",
    "                    for p in input_paths\n",
    "                ],\n",
    "                axis=2,\n",
    "            )\n",
    "            valid = np.array(\n",
    "                Image.open(self.root_path / \"input\" / f\"{idx:07d}_mask.png\")\n",
    "            )  # validity mask\n",
    "            labels = ~np.array(Image.open(label_path))  # cloud mask\n",
    "            input[~valid] = 0\n",
    "            return input, valid, labels\n",
    "        except UnidentifiedImageError:\n",
    "            return np.zeros((64, 64, 12)), np.zeros((64, 64)), np.zeros((64, 64))\n",
    "\n",
    "\n",
    "split = json.load(open(\"default_split.json\"))\n",
    "train_dataset = CloudMaskDataset(CLDMASK_PATH, \"train\", split)\n",
    "val_dataset = CloudMaskDataset(CLDMASK_PATH, \"val\", split)\n",
    "test_dataset = CloudMaskDataset(CLDMASK_PATH, \"test\", split)"
   ]
  },
  {
   "cell_type": "markdown",
   "id": "9118db8e",
   "metadata": {},
   "source": [
    "When we iterate over the data while training our model, we want to convert from numpy to torch arrays, to randomly shuffle our data, and we want to load the data in batches of a fixed size. The [`torch.utils.DataLoader`](https://pytorch.org/docs/stable/data.html#torch.utils.data.DataLoader) class will handle this for us, with the `batch_size` and `shuffle` arguments. Another thing it can do for us is create subprocesses to speed up dataloading. We can specify how many subprocesses to use with `num_workers`. Let's go ahead and create a dataloader for the training, validation, and test sets:"
   ]
  },
  {
   "cell_type": "code",
   "execution_count": null,
   "id": "c97c1fb0",
   "metadata": {},
   "outputs": [],
   "source": [
    "BATCH_SIZE = 16\n",
    "train_loader = DataLoader(\n",
    "    train_dataset, batch_size=BATCH_SIZE, shuffle=True, num_workers=4\n",
    ")\n",
    "val_loader = DataLoader(val_dataset, batch_size=BATCH_SIZE, shuffle=True, num_workers=4)\n",
    "test_loader = DataLoader(\n",
    "    test_dataset, batch_size=BATCH_SIZE, shuffle=True, num_workers=4\n",
    ")"
   ]
  },
  {
   "cell_type": "markdown",
   "id": "cacdb67f",
   "metadata": {},
   "source": [
    "Let's check a batch to make sure things are working. We expect to see torch array sizes of (BATCH_SIZE, 64, 64, 12) for the input array, (BATCH_SIZE, 64, 64) for the validity mask, and (BATCH_SIZE, 64, 64) for the cloud mask."
   ]
  },
  {
   "cell_type": "code",
   "execution_count": null,
   "id": "c60f52cc",
   "metadata": {},
   "outputs": [],
   "source": [
    "for inp, validity, labels in train_loader:\n",
    "    break\n",
    "\n",
    "print(inp.shape, validity.shape, labels.shape)"
   ]
  },
  {
   "cell_type": "markdown",
   "id": "3987ea65",
   "metadata": {},
   "source": [
    "[back to top](#Contents)"
   ]
  },
  {
   "cell_type": "markdown",
   "id": "e07a4bf3",
   "metadata": {},
   "source": [
    "## 5. A Simple Multi-Layer Perceptron\n",
    "\n",
    "Next, let's design a simple multi-layer perceptron (MLP), the simplest form of neural network. MLPs consist of fully-connected layers, also known as [linear layers](https://pytorch.org/docs/stable/generated/torch.nn.Linear.html), separated by activation functions. Fully-connected simply means that, within a layer, every input is connected to every output. Let $M$ be the number of inputs to a linear layer, and let $N$ be the number of outputs. Let $W\\in\\mathbb{R}^{M\\times N}$ be the weight matrix. Let $b\\in \\mathbb{R}^{N}$ be an optional bias vector. The output $y\\in\\mathbb{R}^N$ of a linear layer, given input $x\\in\\mathbb{R}^M$, is defined as $y=xW + b$.\n",
    "\n",
    "An MLP consists of several linear layers. The output of one layer is processed by an activation function before feeding into the next layer. This activation function must be a non-linear function! Otherwise, no matter how many layers we add to our network, it will always be reducible to a single linear layer. Historically, the activation function of choice was sigmoid, as it (loosely) resembles the activation patterns of human neurons, and it constraints output to lie between 0 and 1. In practice, researchers discovered that this doesn't work well in deeper networks, and it contributes to the [vanishing gradient problem](https://en.wikipedia.org/wiki/Vanishing_gradient_problem). In practice, the [rectified linear unit (ReLU)](https://pytorch.org/docs/stable/generated/torch.nn.ReLU.html), or variants, works better. Let's plot both below:"
   ]
  },
  {
   "cell_type": "code",
   "execution_count": null,
   "id": "c9a9d807",
   "metadata": {},
   "outputs": [],
   "source": [
    "x = torch.linspace(-4, 4, 200)  # notice how similar the torch and numpy APIs are!\n",
    "y_sigmoid = F.sigmoid(x)\n",
    "y_relu = F.relu(x)\n",
    "\n",
    "fig, ax = plt.subplots(1, 1, figsize=(12, 3))\n",
    "ax.plot(x.numpy(), y_sigmoid.numpy(), label=\"sigmoid\")\n",
    "ax.plot(x.numpy(), y_relu.numpy(), label=\"relu\")\n",
    "ax.set_ylim(-0.1, 2)\n",
    "ax.set_title(\"Activation functions\")\n",
    "ax.legend()\n",
    "plt.show()"
   ]
  },
  {
   "cell_type": "markdown",
   "id": "cdd0b41e",
   "metadata": {},
   "source": [
    "If you're curious to see more activation functions, [this table](https://en.wikipedia.org/wiki/Activation_function#:~:text=is%20often%20used.-,Table%20of%20activation%20functions,-%5Bedit%5D) is a good place to start.\n",
    "\n",
    "Without activation functions, no matter how many layers we include in our MLP, and no matter how large those layers, the MLP will only ever be able to approximate linear relationships between the inputs and outputs. When we include these non-linear functions, however, it can be shown that MLPs are \"universal function approximators.\" This means that an arbitrarily wide and deep MLP is able to approximate any function up to an arbitrarily small error.\n",
    "\n",
    "Now that we have our basic components, let's construct our multi-layer perceptron. We'll start off really simple with only three layers. If we don't need anything more complicated than a simple, feed forward network, the [`torch.nn.Sequential`](https://pytorch.org/docs/stable/generated/torch.nn.Sequential.html) module is perfect. We can simply provide all of the layers we want, in order. Recall that our input has 12 channel and our output is a single channel cloud mask. Note that the output size of each layer must match the input size of the next layer. The activation functions don't need to know about sizes since they apply the same operation to each element."
   ]
  },
  {
   "cell_type": "code",
   "execution_count": null,
   "id": "48fa0b28",
   "metadata": {},
   "outputs": [],
   "source": [
    "in_channels = 12  # call this M\n",
    "out_channels = 1  # call this N\n",
    "simple_mlp_hidden_size = 16  # call this H\n",
    "\n",
    "# define the MLP\n",
    "simple_mlp = nn.Sequential(\n",
    "    nn.Linear(in_channels, simple_mlp_hidden_size),  # M -> H\n",
    "    nn.ReLU(),\n",
    "    nn.Linear(simple_mlp_hidden_size, simple_mlp_hidden_size),  # H -> H\n",
    "    nn.ReLU(),\n",
    "    nn.Linear(simple_mlp_hidden_size, out_channels),\n",
    ")  # H -> N\n",
    "\n",
    "# Get some input from our training set, pass it through the model\n",
    "for inp, valid, labels in train_loader:\n",
    "    inp_flat = inp.view(\n",
    "        -1, 12\n",
    "    )  # flatten the input (our model treats each pixel as an independent observation\n",
    "    inp_flat = inp_flat.float() / 255  # convert from uint8 to float\n",
    "    preds = simple_mlp(\n",
    "        inp_flat\n",
    "    )  # applying a model to data is as simple as treating it as a function\n",
    "    break\n",
    "\n",
    "inp.shape, preds.shape"
   ]
  },
  {
   "cell_type": "markdown",
   "id": "a547a1a0",
   "metadata": {},
   "source": [
    "You should see that the inputs are of size (BATCH_SIZE, 64, 64, 12), and the outputs are (BATCH_SIZE * 64 * 64, 1). Let's take a look at what our model spits out for this batch, with inputs on the left half, and the model's outputs on the right half:"
   ]
  },
  {
   "cell_type": "code",
   "execution_count": null,
   "id": "fa6a449b",
   "metadata": {},
   "outputs": [],
   "source": [
    "# need to be careful to use the validity mask\n",
    "outp_img = torch.zeros((BATCH_SIZE, 64, 64))\n",
    "outp_img[valid] = preds[valid.view(-1), 0]\n",
    "\n",
    "fig, axs = plt.subplots(4, 8, figsize=(12, 6))\n",
    "for i in range(16):\n",
    "    # we have to convert from torch to numpy tensors, but first we have to detach it from the computation graph\n",
    "    inp_img = inp[i, ..., :3].numpy()\n",
    "\n",
    "    axs[i // 4][i % 4].imshow(inp_img)\n",
    "    axs[i // 4][i % 4].set_xticks([])\n",
    "    axs[i // 4][i % 4].set_yticks([])\n",
    "    axs[i // 4][i % 4 + 4].imshow(outp_img[i].detach().numpy())\n",
    "    axs[i // 4][i % 4 + 4].set_xticks([])\n",
    "    axs[i // 4][i % 4 + 4].set_yticks([])\n",
    "plt.subplots_adjust(wspace=None, hspace=None)\n",
    "plt.show()"
   ]
  },
  {
   "cell_type": "markdown",
   "id": "0398eaea",
   "metadata": {},
   "source": [
    "[back to top](#Contents)"
   ]
  },
  {
   "cell_type": "markdown",
   "id": "f2527735",
   "metadata": {},
   "source": [
    "## 6. Optimization\n",
    "\n",
    "It doesn't seem like our model is doing much. Well, that makes sense, because we haven't trained it yet! Currently our model is full of random numbers and the output is likely to look pretty similar to a garbled version of the input. So... how do we train it to do better?\n",
    "\n",
    "First, we need to decide what loss function (a.k.a. objective function) to use. This function will measure how wrong our model is, and we will optimize our model to minimize this function. Our task, cloud masking, is an example of classification (as opposed to regression). We are attempting to classify each pixel into one of two categories: cloud, or not cloud. Therefore, let's use the most typical loss function for classification tasks: the [Cross Entropy Loss](https://pytorch.org/docs/stable/generated/torch.nn.CrossEntropyLoss.html).\n",
    "\n",
    "Cross entropy is a measure of the difference between two probability distributions. Since our task only has two classes, we'll use the binary cross entropy loss. Normally, binary cross entropy loss expects our predictions to probabilities, and thus constrained to lie between 0 and 1. Our outputs are not probabilities, and are instead logits (they can take any value, and must be mapped to probabilities). Therefore, we will use the [BCEWithLogitsLoss](https://pytorch.org/docs/stable/generated/torch.nn.BCEWithLogitsLoss.html)."
   ]
  },
  {
   "cell_type": "code",
   "execution_count": null,
   "id": "93f0d370",
   "metadata": {},
   "outputs": [],
   "source": [
    "objective = torch.nn.BCEWithLogitsLoss()\n",
    "loss = objective(preds[:, 0], labels.view(-1).float())\n",
    "loss.item()"
   ]
  },
  {
   "cell_type": "markdown",
   "id": "d69c6589",
   "metadata": {},
   "source": [
    "Great! Now we know how \"wrong\" the model was. But what do we do with that? How do we use our loss function to _optimize_ our model?\n",
    "\n",
    "Well, an optimizer of course! Neural networks are typically trained via gradient-based optimization. This means that we use our loss function to compute the gradient (vector version of a derivative) of each parameter in our network with respect to the loss. Since the entire forward process, including the linear layers, activation functions, and loss function, is _differentiable_, we can use the chain rule to determine the gradient of any parameter in our model. This process of going backwards through the network computing gradients is known as [\"backpropagation.\"](https://en.wikipedia.org/wiki/Backpropagation)\n",
    "\n",
    "These gradients give us the direction in which to nudge each parameter in order to lower the loss function. We can update each parameter with a step in that direction every time we see a new batch. We multiply the gradient with a hyperparameter called the \"step size\", alternatively referred to as the \"learning rate\". A larger step size will cause the model to update more quickly, but if it's too large, the model might keep overshooting the best location. A common practice is to gradually decrease the step size over the course of training.\n",
    "\n",
    "If you were to compute the loss (and the gradient) for the entire dataset at once, then take an optimization step, then this technique would be known as \"gradient descent.\" When we divide our data up into batches and take a step on each batch, it's known as \"stochastic gradient descent\" (SGD). This is because the loss/gradient is more erratic/random/stochastic with smaller batches. Still, SGD is typically better than gradient descent, as it's much faster: we don't have to iterate through our entire dataset each time we make an update. Also, a little bit of stochasticity can help to escape local minima during optimization.\n",
    "\n",
    "Ok, well that sounds like a lot of math. We have to go back and compute all the gradients of every part of our forward pass, right? How do we implement this with code?"
   ]
  },
  {
   "cell_type": "code",
   "execution_count": null,
   "id": "4750da66",
   "metadata": {},
   "outputs": [],
   "source": [
    "# first, define the optimizer, with a learning rate / step size of 0.1\n",
    "optimizer = torch.optim.SGD(simple_mlp.parameters(), lr=0.1)\n",
    "\n",
    "loss.backward()  # !!!\n",
    "optimizer.step()  # update the parameters\n",
    "optimizer.zero_grad()  # zero out the optimizer for next time (don't forget to do this!!!)"
   ]
  },
  {
   "cell_type": "markdown",
   "id": "17379197",
   "metadata": {},
   "source": [
    "That was so easy! You might be asking, how does `loss.backward()` magically know all of the gradients of all of the functions we called several cells ago? Well, that's because torch has automatic differentiation built in. Torch functions will set up the backward pass as it computes the forward pass. Under the hood, torch will build a computation graph for the operations you use. [More details about autograd here.](https://pytorch.org/tutorials/beginner/blitz/autograd_tutorial.html) This is also why torch arrays are called \"tensors.\" A tensor is like an array, but its storage can also keep track of its gradient. Torch keeps the gradient computation hidden under the hood, and allows us to operate on tensors in almost exactly the same way as numpy arrays.\n",
    "\n",
    "In practice, there are much better alternatives to SGD. A great default optimizer which will work fine in 99% of cases is called [Adam](https://pytorch.org/docs/stable/generated/torch.optim.Adam.html) (no, that's not an acronym). For the rest of the tutorial we'll use Adam instead of SGD.\n",
    "\n",
    "[back to top](#Contents)"
   ]
  },
  {
   "cell_type": "markdown",
   "id": "c08cf8f7",
   "metadata": {},
   "source": [
    "## 7. A Minimal Training Loop\n",
    "\n",
    "Let's put it all together. We'll loop over some batches, train our model, and take a look at what happens over time to the loss function. We won't run all the way through the training set, as that would take too long for demonstration purposes. Normally your model would loop over the training set multiple times, with each full pass of the training set called an \"epoch.\" This should code should take a few minutes to run on the default value of `NUM_BATCHES=1000`.\n",
    "\n",
    "While we run, we're going to track our training loss and training accuracy. Accuracy is simply the number of correctly classified pixels divided by the total number of pixels. At the end we'll display the loss, the running mean of the loss, and the accuracy in a plot."
   ]
  },
  {
   "cell_type": "code",
   "execution_count": null,
   "id": "5d0ed00d",
   "metadata": {},
   "outputs": [],
   "source": [
    "BATCH_SIZE = 16\n",
    "NUM_BATCHES = 1000\n",
    "HIDDEN_SIZE = 32  # H\n",
    "\n",
    "# re-initialize some stuff\n",
    "train_loader = DataLoader(\n",
    "    train_dataset, batch_size=BATCH_SIZE, shuffle=True, num_workers=4\n",
    ")\n",
    "\n",
    "in_channels = 12  # M\n",
    "out_channels = 1  # N\n",
    "\n",
    "# a bigger MLP\n",
    "simple_mlp = nn.Sequential(\n",
    "    nn.Linear(in_channels, HIDDEN_SIZE),  # M -> H\n",
    "    nn.ReLU(),\n",
    "    nn.Linear(HIDDEN_SIZE, HIDDEN_SIZE),  # H -> H\n",
    "    nn.ReLU(),\n",
    "    nn.Linear(HIDDEN_SIZE, HIDDEN_SIZE),  # H -> H\n",
    "    nn.ReLU(),\n",
    "    nn.Linear(HIDDEN_SIZE, HIDDEN_SIZE),  # H -> H\n",
    "    nn.ReLU(),\n",
    "    nn.Linear(HIDDEN_SIZE, HIDDEN_SIZE),  # H -> H\n",
    "    nn.ReLU(),\n",
    "    nn.Linear(HIDDEN_SIZE, out_channels),\n",
    ")  # H -> N\n",
    "objective = torch.nn.BCEWithLogitsLoss()\n",
    "optimizer = torch.optim.Adam(\n",
    "    simple_mlp.parameters()\n",
    ")  # can use Adam with the default parameters\n",
    "\n",
    "losses = []\n",
    "accs = []\n",
    "nums_valid = []\n",
    "\n",
    "for batch_idx, (inp, valid, labels) in tqdm(enumerate(train_loader), total=NUM_BATCHES):\n",
    "    # only run on NUM_BATCHES batches\n",
    "    if batch_idx >= NUM_BATCHES:\n",
    "        break\n",
    "\n",
    "    # convert from uint8 to float32\n",
    "    inp = inp.float() / 255\n",
    "\n",
    "    preds = simple_mlp(inp[valid])  # get model predictions on valid inputs\n",
    "    loss = objective(preds[:, 0], labels[valid].float())  # compute the loss function\n",
    "    optimizer.zero_grad()  # zero out the optimizer\n",
    "    loss.backward()  # backwards pass\n",
    "    optimizer.step()  # update the model\n",
    "    losses.append(loss.item())  # keep track of the loss over time\n",
    "\n",
    "    # compute and track accuracy over time (need to track num valid pixels to correctly compute the average later)\n",
    "    num_valid = valid.sum()\n",
    "    accs.append((((preds[..., 0] > 0) == labels[valid]).sum() / num_valid).item())\n",
    "    nums_valid.append(num_valid.item())\n",
    "\n",
    "# compute the running mean of the losses so far\n",
    "running_loss_mean = np.array(losses).cumsum() / (np.arange(len(losses)) + 1)"
   ]
  },
  {
   "cell_type": "code",
   "execution_count": null,
   "id": "47fab50d",
   "metadata": {},
   "outputs": [],
   "source": [
    "plt.figure(figsize=(12, 4))\n",
    "plt.plot(np.arange(len(losses)), np.array(losses), label=\"Train Loss\")\n",
    "plt.plot(np.arange(len(losses)), running_loss_mean, label=\"Train Loss: running mean\")\n",
    "plt.plot(np.arange(len(accs)), accs, label=\"Train Accuracy\")\n",
    "plt.legend()\n",
    "plt.xlabel(\"batch index\")\n",
    "plt.show()"
   ]
  },
  {
   "cell_type": "markdown",
   "id": "9d6042e1",
   "metadata": {},
   "source": [
    "You should be seeing that the training loss goes down, while the accuracy goes up. That's what we want. The model's skill seems to plateau very quickly, and it seems like our accuracy is quite high! Unfortunately, this is a little misleading. Let's take a qualitative look at some examples to see why:"
   ]
  },
  {
   "cell_type": "code",
   "execution_count": null,
   "id": "fda3f8ef",
   "metadata": {},
   "outputs": [],
   "source": [
    "for inp, valid, labels in train_loader:\n",
    "    preds = simple_mlp(inp[valid].float() / 255)\n",
    "    break\n",
    "\n",
    "preds_img = torch.zeros((BATCH_SIZE, 64, 64)).bool()\n",
    "preds_img[valid] = (\n",
    "    preds[..., 0] > 0\n",
    ")  # we have to threshold our output logits to turn them into a mask\n",
    "\n",
    "color1 = np.array([216, 27, 96])\n",
    "color2 = np.array([30, 136, 229])\n",
    "\n",
    "fig, axs = plt.subplots(4, 4, figsize=(8, 8))\n",
    "for i in range(16):\n",
    "    viz_img = np.zeros((64, 64, 3))\n",
    "    viz_img = np.clip(\n",
    "        preds_img[i].numpy()[..., None] * color1[None, None]\n",
    "        + labels[i].numpy()[..., None] * color2[None, None],\n",
    "        0,\n",
    "        255,\n",
    "    )\n",
    "    axs[i // 4][i % 4].imshow(viz_img)\n",
    "    axs[i // 4][i % 4].set_xticks([])\n",
    "    axs[i // 4][i % 4].set_yticks([])\n",
    "legend_elements = [\n",
    "    Patch(\n",
    "        facecolor=np.clip(color1 + color2, 0, 255) / 255,\n",
    "        edgecolor=np.clip(color1 + color2, 0, 255) / 255,\n",
    "        label=\"True Positive\",\n",
    "    ),\n",
    "    Patch(facecolor=color1 / 255, edgecolor=color1 / 255, label=\"False Positive\"),\n",
    "    Patch(facecolor=color2 / 255, edgecolor=color2 / 255, label=\"False Negative\"),\n",
    "    Patch(\n",
    "        facecolor=np.array([0, 0, 0]),\n",
    "        edgecolor=np.array([0, 0, 0]),\n",
    "        label=\"True Negative\",\n",
    "    ),\n",
    "]\n",
    "axs[0][0].legend(handles=legend_elements, loc=\"center\")\n",
    "plt.subplots_adjust(wspace=None, hspace=None)\n",
    "plt.show()"
   ]
  },
  {
   "cell_type": "markdown",
   "id": "3103ee00",
   "metadata": {},
   "source": [
    "If you want to check out more examples, you can rerun the cell to get a new batch every time.\n",
    "\n",
    "You might notice some problems with our predictions. You might see quite a few examples of the model misclassifying small clouds. Large clouds will dominate the data, and the model can achieve a high accuracy without accurately masking these smaller clouds. You might even see occasional images where the model is totally wrong - predicting all cloud or all no-cloud when the scene is actually partly cloudy. We can do better!\n",
    "\n",
    "[back to top](#Contents)"
   ]
  },
  {
   "cell_type": "markdown",
   "id": "f529acbb",
   "metadata": {},
   "source": [
    "## 8. Running on GPU / CUDA\n",
    "\n",
    "Until now, all the code we've run has been on just the central processing unit (CPU). This has restricted the capacity of neural network we can effectively train. During training, we need memory for the model's parameters, the gradient of those parameters, and for the intermediate tensors computed along the forward and backward passes. If we were to use too big of a network or too big of a batch size, we'd run out of memory. You may have noticed this if you tried increasing the batch size and your notebook crashed as a result.\n",
    "\n",
    "In practice, machine learning algorithms make use of graphics processing units (GPUs), which are much more effective at highly parallel operations than CPUs. NVIDIA has a software layer called CUDA which allows the use of GPUs for general purpose computing, including large matrix multiplications, which is essentially all that our neural network training is doing. Pytorch pairs tightly with CUDA, making it very simple to adapt your code to leverage the GPU.\n",
    "\n",
    "<div class=\"alert alert-info\" role=\"alert\">\n",
    "NOTE: To continue on in this notebook, your instance must be running on the \"NVIDIA Tesla T4, ~16 GB, ~4 CPUs\" instance type, otherwise you won't have a GPU to use. We do not give participants access to this instance type, by default. This is to prevent excessive costs, as GPU-hours can be expensive. We want to avoid unnecessary usage of these GPU-hours by users who did not intend or need to use them. If you are using this notebook as a participant of the PACE Hackweek, and would like access to a GPU, please come find Sean Foley for assistance.\n",
    "</div>\n",
    "\n",
    "If you're unsure about whether you're currently running in an instance with a GPU, you can easily check if CUDA is available from torch with the following:"
   ]
  },
  {
   "cell_type": "code",
   "execution_count": null,
   "id": "2ec98b0a",
   "metadata": {},
   "outputs": [],
   "source": [
    "torch.cuda.is_available()"
   ]
  },
  {
   "cell_type": "markdown",
   "id": "2038f849",
   "metadata": {},
   "source": [
    "So, now that we've ensured you have access to a GPU via CUDA, how do we convert our code to use CUDA? Well, converting a single torch tensor to CUDA is as easy as adding `.cuda()` after it. We can also convert our model with `.cuda()`. Another way to move a tensor between devices is to use the `.to(device=...)` syntax, which allows you to be a little smarter with your allocation, especially in cases where you're using multiple GPUs at the same time. The following cell illustrates the basic functionality:"
   ]
  },
  {
   "cell_type": "code",
   "execution_count": null,
   "id": "e9f86a33",
   "metadata": {
    "tags": [
     "skip-execution"
    ]
   },
   "outputs": [],
   "source": [
    "print(\n",
    "    f\"Available device count: {torch.cuda.device_count()}\\nCurrent device ID: {torch.cuda.current_device()}\"\n",
    ")\n",
    "\n",
    "rand_cpu = torch.randn(10)\n",
    "rand_gpu1 = rand_cpu.cuda()\n",
    "rand_gpu2 = rand_cpu.to(device=torch.cuda.current_device())\n",
    "print(\n",
    "    f\"Device IDs | rand_cpu: {rand_cpu.device} | rand_gpu1: {rand_gpu1.device} | rand_gpu2: {rand_gpu2.device}\"\n",
    ")"
   ]
  },
  {
   "cell_type": "markdown",
   "id": "49d8ae09",
   "metadata": {},
   "source": [
    "[back to top](#Contents)"
   ]
  },
  {
   "cell_type": "markdown",
   "id": "6fcbe584",
   "metadata": {},
   "source": [
    "## 9. Convolutional Neural Networks\n",
    "\n",
    "Our simple MLP has a big problem: it operates independently on every pixel. This means it is incapable of incorporating any _spatial context_ into its understanding of a scene. But we know that adjacent pixels are _not_ independent, and that spatial context is likely to be useful. For example, a pixel is more likely to be cloudy if many of its neighbors are cloudy. On the other hand, if a scene contains reflective surfaces (like snow and ice), then bright values might be less likely to imply that a pixel is cloudy. By allowing our network to operate on an entire image at once, we allow it to model this context.\n",
    "\n",
    "But now we have a different problem. If we were to use our simple MLP model from above on an entire image, it would mean that, instead of 12 inputs, each instance would have $12 \\times 64 \\times 64 = 49152$ inputs. And our images are pretty small. You can easily imagine how crazy this would get for a $1000\\times1000$ image, or even a 4K image. Not only will this be really slow, but it also means that our network will have to learn _extremely redundant_ features, because it will have to re-learn what a cloud looks like _in every pixel of the image_.\n",
    "\n",
    "We can fix this, but first let's take a brief tangent and talk about convolution. Convolution is an operation on two functions that produces a third function.  You can think of convolution as the multiplication of two functions as we slide one function across the other. Formally, the convolution of two continuous signals $f$ and $g$ is defined as:\n",
    "\n",
    "$f * g(t) = \\int_{-\\inf}^{\\inf}f(\\tau)g(t-\\tau)d\\tau$\n",
    "\n",
    "The [wikipedia article](https://en.wikipedia.org/wiki/Convolution) is a great resource to further understand convolution, but we've also provided you an example of (discrete) convolution below:"
   ]
  },
  {
   "cell_type": "code",
   "execution_count": null,
   "id": "a2560f5d",
   "metadata": {
    "tags": [
     "skip-execution"
    ]
   },
   "outputs": [],
   "source": [
    "# define some interesting looking functions\n",
    "x = np.linspace(-1, 1, 100)\n",
    "f_x = np.cos(x * np.pi * 2)\n",
    "f_x[x < -1 / 4] = 0\n",
    "f_x[x > 1 / 4] = 0\n",
    "g_x = x * 2 * (x > 0) * (x < 0.5)\n",
    "\n",
    "# normalize them\n",
    "f_x /= np.sum(np.abs(f_x))\n",
    "g_x /= np.sum(g_x)\n",
    "\n",
    "# convolve them\n",
    "conv_fg_x = np.convolve(f_x, g_x, mode=\"same\")\n",
    "\n",
    "plt.figure(figsize=(8, 4))\n",
    "plt.plot(x, f_x, label=\"f(x)\", linestyle=\"dotted\")\n",
    "plt.plot(x, g_x, label=\"g(x)\", linestyle=\"dashed\")\n",
    "plt.plot(x, conv_fg_x, label=\"f * g\")\n",
    "plt.legend()\n",
    "plt.show()"
   ]
  },
  {
   "cell_type": "markdown",
   "id": "9d9cc29e",
   "metadata": {},
   "source": [
    "Convolution generalizes to multiple dimensions. Two-dimensional convolution is extremely useful for image processing. [This graphic](https://en.wikipedia.org/wiki/Convolution#/media/File:2D_Convolution_Animation.gif) is a great visualization of how it works. Its as simple as multiplying where our kernel overlaps our image and summing the values, then repeating that in a sliding window fashion across the whole image.\n",
    "\n",
    "We can convolve an image with different \"kernels\" or \"filters\" to achieve specific effects on the image. For example, the 2D normal (Gaussian) distribution is useful for [blurring an image](https://en.wikipedia.org/wiki/Gaussian_blur). The standard deviation of the Gaussian will determine the strength of the blur. Another useful filter is the [Sobel filter](https://en.wikipedia.org/wiki/Sobel_operator) which is useful for extracting information about the edges in an image.\n",
    "\n",
    "Below you'll see what happens when we apply these filters to an image of a checkerboard. You can mostly ignore the code in this next cell (unless you're curious), but pay attention to the plots."
   ]
  },
  {
   "cell_type": "code",
   "execution_count": null,
   "id": "fbdaf2f3",
   "metadata": {
    "lines_to_end_of_cell_marker": 0,
    "lines_to_next_cell": 1,
    "tags": [
     "skip-execution"
    ]
   },
   "outputs": [],
   "source": [
    "# make a checkerboard pattern\n",
    "img_checkers = np.zeros((64, 64))\n",
    "mask_alt = (np.mgrid[:64] // 8) % 2 == 1  # alternates 0 -> 1\n",
    "img_checkers[mask_alt] = 1\n",
    "img_checkers[:, mask_alt] = 1 - img_checkers[:, mask_alt]\n",
    "\n",
    "# First, get a 1D discrete gaussian w. mean=0 stdev=2 over [-3, 3]\n",
    "gaussian1d = np.exp(-((np.mgrid[-3:4] / 2) ** 2) / 2) / (np.sqrt(2 * np.pi) * 2)\n",
    "# Get a 2D gaussian by taking the outer product of our 1D gaussian\n",
    "gaussian2d = gaussian1d[:, None] @ gaussian1d[None]\n",
    "\n",
    "# make 2D sobel filters\n",
    "sobel_x = np.array([[1, 0, -1], [2, 0, -2], [1, 0, -1]]).astype(float)\n",
    "sobel_y = np.array([[1, 2, 1], [0, 0, 0], [-1, -2, -1]]).astype(float)\n",
    "\n",
    "\n",
    "def conv_from_kernel_array(kernel: np.ndarray) -> nn.Conv2d:\n",
    "    \"\"\"Take a 2D array of shape (N, N) where N is odd and turn it into a torch Conv2D.\"\"\"\n",
    "    assert isinstance(kernel, np.ndarray)\n",
    "    assert (\n",
    "        len(kernel.shape) == 2\n",
    "        and kernel.shape[0] == kernel.shape[1]\n",
    "        and kernel.shape[0] % 2 == 1\n",
    "    )\n",
    "    conv = nn.Conv2d(\n",
    "        1, 1, kernel.shape[0], padding=(kernel.shape[0] - 1) // 2, bias=False\n",
    "    )\n",
    "    conv.weight = nn.Parameter(torch.from_numpy(kernel[None, None]))\n",
    "    return conv\n",
    "\n",
    "\n",
    "# get the conv2ds for each kernel\n",
    "conv_gaussian = conv_from_kernel_array(gaussian2d)\n",
    "conv_sobel_x = conv_from_kernel_array(sobel_x)\n",
    "conv_sobel_y = conv_from_kernel_array(sobel_y)\n",
    "\n",
    "# apply conv2ds to checkerboard image\n",
    "img_torch = torch.from_numpy(img_checkers)[None, None]\n",
    "img_checkers_blur = conv_gaussian(img_torch)[0, 0].detach().numpy()\n",
    "img_checkers_sobel_x = conv_sobel_x(img_torch)[0, 0].detach().numpy()\n",
    "img_checkers_sobel_y = conv_sobel_y(img_torch)[0, 0].detach().numpy()\n",
    "\n",
    "# plot everything\n",
    "fig, ax = plt.subplots(1, 1, figsize=(3, 3))\n",
    "ax.imshow(img_checkers, cmap=\"gray\")\n",
    "ax.set_title(\"Checkerboard pattern\")\n",
    "ax.set_xticks([]), ax.set_yticks([])\n",
    "\n",
    "fig, axs = plt.subplots(2, 4, figsize=(12, 6))\n",
    "axs[0][0].imshow(gaussian2d, cmap=\"gray\"), axs[0][0].set_title(\"Gaussian kernel\")\n",
    "axs[0][1].imshow(sobel_x, cmap=\"gray\"), axs[0][1].set_title(\"Sobel filter (x)\")\n",
    "axs[0][2].imshow(sobel_y, cmap=\"gray\"), axs[0][2].set_title(\"Sobel filter (y)\")\n",
    "axs[0][3].imshow(np.zeros((1, 1)), cmap=\"gray\")\n",
    "(\n",
    "    axs[1][0].imshow(img_checkers_blur, cmap=\"gray\"),\n",
    "    axs[1][0].set_title(\"Checkerboard * Gaussian\"),\n",
    ")\n",
    "(\n",
    "    axs[1][1].imshow(img_checkers_sobel_x, cmap=\"gray\"),\n",
    "    axs[1][1].set_title(\"Checkerboard * Sobel_x\"),\n",
    ")\n",
    "(\n",
    "    axs[1][2].imshow(img_checkers_sobel_y, cmap=\"gray\"),\n",
    "    axs[1][2].set_title(\"Checkerboard * Sobel_y\"),\n",
    ")\n",
    "axs[1][3].imshow(np.abs(img_checkers_sobel_x + img_checkers_sobel_y), cmap=\"gray\")\n",
    "axs[1][3].set_title(\"|Sobel_x + Sobel_y|\")\n",
    "[(a.set_xticks([]), a.set_yticks([])) for ax in axs for a in ax]\n",
    "plt.show()"
   ]
  },
  {
   "cell_type": "markdown",
   "id": "2c88da6c",
   "metadata": {},
   "source": [
    "You can see how with some very simple kernels, we are able to achieve interesting transformations of the input image. Hopefully you can imagine how, with a variety of kernels, you could extract quite a lot of useful information out of an image.\n",
    "\n",
    "A convolutional neural network is composed of multiple layers, where each layer is represented by convolutional kernels that are applied to the inputs with this same sliding window process. Unlike the simple examples shown above, a convolutional layer usually has multiple input and output channels. You can think of convolutional layers as being fully connected in the _channel dimension_, and convolutional in the _spatial dimensions_. The [documentation on `torch.nn.Conv2d`](https://pytorch.org/docs/stable/generated/torch.nn.Conv2d.html) is helpful if you want more details.\n",
    "\n",
    "There are a few more important points about 2D convs to keep in mind:\n",
    "- Convolutional layers should still be separated by non-linear activation functions, or you'll end up with the same reduction-to-linearity problem described earlier.\n",
    "- CNNs almost always use 3x3 kernels, as stacking multiple 3x3 layers works better than using one layer with a larger kernel dimension\n",
    "- There is still an optional (but typically used) bias term in convolutional layers, just like in linear layers\n",
    "- A convolutional layer will slightly crop the input image (by kernel_size - 1) unless you apply padding to the input\n",
    "\n",
    "Now, let's design a simple CNN. Instead of using `torch.nn.Sequential`, we'll create a class that implements `torch.nn.Module`, which gives us more fine-grained control over the design of our model. To do this, we only have to implement `__init__` and `forward`, which gets called when you apply the model to some input. We'll start with only 10 layers, which are all 3x3 kernels with an intermediate feature depth of 16. We'll set padding to 1 to avoid shrinking the image dimensions at the boundaries. Using 10 layers is a good starting point - if we used too many layers we'd have to start thinking more carefully about how the gradients propagate through those layers (see the [ResNet paper](https://arxiv.org/abs/1512.03385) if you'd like to know more).\n",
    "\n",
    "You'll notice we're also adding our ReLU activations, like before, and also batch normalization layers. The original [batchnorm paper](https://arxiv.org/abs/1502.03167) is a good read, but the TL;DR is that it will make our training faster."
   ]
  },
  {
   "cell_type": "code",
   "execution_count": null,
   "id": "bcc90d29",
   "metadata": {
    "lines_to_next_cell": 1,
    "tags": [
     "skip-execution"
    ]
   },
   "outputs": [],
   "source": [
    "class SimpleCNN(nn.Module):\n",
    "    def __init__(\n",
    "        self, in_channels: int, out_channels: int, num_layers: int, feature_depth: int\n",
    "    ) -> None:\n",
    "        \"\"\"Initialize a SimpleCNN. This CNN uses padding to keep the image dimensions of its inputs unchanged.\n",
    "\n",
    "        Args:\n",
    "            in_channels: The number of input channels.\n",
    "            out_channels: The number of output channels.\n",
    "            num_layers: How many convolutional layers to include in the CNN.\n",
    "            feature_depth: The channel depth of the intermediate layers.\n",
    "\n",
    "        \"\"\"\n",
    "        super().__init__()\n",
    "        assert num_layers > 2\n",
    "        self.in_channels = in_channels\n",
    "        self.out_channels = out_channels\n",
    "        self.num_layers = num_layers\n",
    "        self.feature_depth = feature_depth\n",
    "        self.first_layer = nn.Conv2d(self.in_channels, self.feature_depth, 3, padding=1)\n",
    "        mid_convs = [\n",
    "            nn.Conv2d(self.feature_depth, self.feature_depth, 3, padding=1)\n",
    "            for _ in range(self.num_layers - 2)\n",
    "        ]\n",
    "        # interleave our middle convs, batchnorms every 2 layers, and ReLUs\n",
    "        mid_layers = []\n",
    "        for i, c in enumerate(mid_convs):\n",
    "            mid_layers.append(c)\n",
    "            if i % 2 == 1:\n",
    "                mid_layers.append(nn.BatchNorm2d(self.feature_depth))\n",
    "            mid_layers.append(nn.ReLU())\n",
    "        self.mid_layers = nn.Sequential(*mid_layers)\n",
    "        self.last_layer = nn.Conv2d(self.feature_depth, self.out_channels, 3, padding=1)\n",
    "\n",
    "    def forward(self, x: torch.Tensor) -> torch.Tensor:\n",
    "        x = F.relu(self.first_layer(x))\n",
    "        x = self.mid_layers(x)\n",
    "        x = self.last_layer(x)\n",
    "        return x"
   ]
  },
  {
   "cell_type": "code",
   "execution_count": null,
   "id": "c7ccfa95",
   "metadata": {
    "tags": [
     "skip-execution"
    ]
   },
   "outputs": [],
   "source": [
    "# initialize the network and move it to the GPU\n",
    "simple_cnn = SimpleCNN(\n",
    "    in_channels=12,  # 12 input features, as discussed above\n",
    "    out_channels=1,  # 1 output, which is the cloud mask logit\n",
    "    num_layers=10,  # Let's try 10 layers to start\n",
    "    feature_depth=16,  # 16 is probably more than enough of a feature depth since there are only 12 inputs\n",
    ").cuda()\n",
    "print(simple_cnn)\n",
    "\n",
    "# test it out on some random numbers to check everything works\n",
    "test_input = torch.randn(8, 12, 64, 64).cuda()\n",
    "test_output = simple_cnn(test_input)\n",
    "print(f\"Should be (8, 1, 64, 64): {test_output.shape}\")"
   ]
  },
  {
   "cell_type": "markdown",
   "id": "f1e10e8a",
   "metadata": {},
   "source": [
    "[back to top](#Contents)"
   ]
  },
  {
   "cell_type": "markdown",
   "id": "4a6294e5",
   "metadata": {},
   "source": [
    "## 10. Putting It All Together\n",
    "\n",
    "Now we can put it all together to train our CNN on the same data! We can crank the batch size way up and see what changes. Feel free to try bigger models. The GPU on this instance can handle much heavier loads than we are currently putting it through. Try playing around with these settings and see what you learn!\n",
    "\n",
    "You'll also probably notice that this script isn't that much faster than the CPU-only training from above. The data loading is currently the bottleneck. This is very often the case in practice."
   ]
  },
  {
   "cell_type": "code",
   "execution_count": null,
   "id": "ed8e1785",
   "metadata": {
    "tags": [
     "skip-execution"
    ]
   },
   "outputs": [],
   "source": [
    "# hyperparameters\n",
    "NUM_EPOCHS = 5  # we'll go through the whole training set 5 times\n",
    "BATCH_SIZE = 256  # A bigger batch size since we're running on GPU\n",
    "NUM_LAYERS = 10  # Let's try 10 layers to start\n",
    "FEATURE_DEPTH = 16  # 16 is probably more than enough of a feature depth since there are only 12 inputs\n",
    "\n",
    "split = json.load(open(\"default_split.json\"))\n",
    "train_dataset = CloudMaskDataset(CLDMASK_PATH, \"train\", split)\n",
    "val_dataset = CloudMaskDataset(CLDMASK_PATH, \"val\", split)\n",
    "\n",
    "train_loader = DataLoader(\n",
    "    train_dataset, batch_size=BATCH_SIZE, shuffle=True, num_workers=4\n",
    ")\n",
    "val_loader = DataLoader(val_dataset, batch_size=BATCH_SIZE, shuffle=True, num_workers=4)\n",
    "\n",
    "model = SimpleCNN(\n",
    "    in_channels=12,  # 12 input features, as discussed above\n",
    "    out_channels=1,  # 1 output, which is the cloud mask logit\n",
    "    num_layers=NUM_LAYERS,\n",
    "    feature_depth=FEATURE_DEPTH,\n",
    ").cuda()\n",
    "objective = torch.nn.BCEWithLogitsLoss(reduction=\"none\")\n",
    "optimizer = torch.optim.Adam(\n",
    "    model.parameters()\n",
    ")  # can use Adam with the default parameters\n",
    "\n",
    "train_losses, val_losses = [], []\n",
    "train_accs, val_accs = [], []\n",
    "\n",
    "for epoch in range(NUM_EPOCHS):\n",
    "    print(f\"Starting epoch {epoch + 1}/{NUM_EPOCHS} training:\")\n",
    "    model.train()\n",
    "    for batch_idx, (inp, valid, labels) in tqdm(\n",
    "        enumerate(train_loader), total=len(train_loader)\n",
    "    ):\n",
    "        inp, valid, labels = inp.cuda(), valid.cuda(), labels.cuda()\n",
    "        inp = inp.float() / 255  # uint8 to float\n",
    "        preds = model(\n",
    "            inp.permute(0, 3, 1, 2)\n",
    "        )  # have to change the order to (batch, channel, Y, X)\n",
    "        # have to ignore invalid locations in the loss\n",
    "        loss = objective(preds[:, 0], labels.float())[valid].sum() / valid.numel()\n",
    "        optimizer.zero_grad()  # zero out the optimizer\n",
    "        loss.backward()  # backwards pass\n",
    "        optimizer.step()  # update the model\n",
    "        train_losses.append(loss.item())  # keep track of the loss over time\n",
    "\n",
    "        # compute and track accuracy over time (need to track num valid pixels to correctly compute the average later)\n",
    "        num_valid = valid.sum()\n",
    "        train_accs.append(\n",
    "            (((preds[:, 0] > 0) == labels)[valid].sum() / num_valid).item()\n",
    "        )  # compute accuracy\n",
    "\n",
    "    print(f\"Starting epoch {epoch + 1}/{NUM_EPOCHS} validation:\")\n",
    "    model.eval()\n",
    "    with torch.no_grad():  # don't require gradients for validation!\n",
    "        for batch_idx, (inp, valid, labels) in tqdm(\n",
    "            enumerate(val_loader), total=len(val_loader)\n",
    "        ):\n",
    "            inp, valid, labels = inp.cuda(), valid.cuda(), labels.cuda()\n",
    "            preds = model(inp.permute(0, 3, 1, 2))\n",
    "            loss = objective(preds[:, 0], labels.float())[valid].sum() / valid.numel()\n",
    "            val_losses.append(loss.item())\n",
    "            # compute and track accuracy over time (need to track num valid pixels to correctly compute the average later)\n",
    "            num_valid = valid.sum()\n",
    "            val_accs.append(\n",
    "                (((preds[:, 0] > 0) == labels)[valid].sum() / num_valid).item()\n",
    "            )  # compute accuracy"
   ]
  },
  {
   "cell_type": "code",
   "execution_count": null,
   "id": "48989f8f",
   "metadata": {
    "tags": [
     "skip-execution"
    ]
   },
   "outputs": [],
   "source": [
    "plt.figure(figsize=(12, 4))\n",
    "plt.plot(np.arange(len(train_losses)), np.array(train_losses), label=\"Train Loss\")\n",
    "plt.plot(np.arange(len(train_accs)), train_accs, label=\"Train Accuracy\")\n",
    "plt.legend()\n",
    "plt.xlabel(\"batch index\")\n",
    "\n",
    "plt.figure(figsize=(12, 4))\n",
    "plt.plot(np.arange(len(val_losses)), np.array(val_losses), label=\"Val Loss\")\n",
    "plt.plot(np.arange(len(val_accs)), val_accs, label=\"Val Accuracy\")\n",
    "plt.legend()\n",
    "plt.xlabel(\"batch index\")\n",
    "\n",
    "plt.show()"
   ]
  },
  {
   "cell_type": "markdown",
   "id": "ec6a379a",
   "metadata": {},
   "source": [
    "[back to top](#Contents)"
   ]
  },
  {
   "cell_type": "markdown",
   "id": "066b6378",
   "metadata": {},
   "source": [
    "## 11. Want More?\n",
    "\n",
    "This notebook is already massive, although there are many more topics we wish we could cover. If you'd like to continue your learning journey, we have some suggestions for you:\n",
    "- learn about [data augmentation](https://pytorch.org/vision/stable/transforms.html) to get more bang for your buck out of your training data\n",
    "- we're only scratching the surface of designing CNNs. In fact, the CNN in this notebook is pretty hastily designed. Here are some more concepts to explore:\n",
    "    - Skip connections if you want to build deeper networks\n",
    "    - Max pooling or average pooling layers\n",
    "    - Receptive field and effective receptive field\n",
    "- see [this post](https://discuss.pytorch.org/t/how-to-prefetch-data-when-processing-with-gpu/548/19) for some common ideas on how to speed up data loading\n",
    "- check out [transformers](https://arxiv.org/abs/1706.03762) and [vision transformers](https://arxiv.org/abs/2010.11929) for a newer, fancier alternative to CNNs\n",
    "- play around with [tensorboard](https://pytorch.org/tutorials/recipes/recipes/tensorboard_with_pytorch.html) to track your model's progress in real time\n",
    "\n",
    "[back to top](#Contents)"
   ]
  }
 ],
 "metadata": {
  "jupytext": {
   "cell_metadata_filter": "all,-trusted",
   "main_language": "python",
   "notebook_metadata_filter": "all,-kernelspec"
  },
  "language_info": {
   "codemirror_mode": {
    "name": "ipython",
    "version": 3
   },
   "file_extension": ".py",
   "mimetype": "text/x-python",
   "name": "python",
   "nbconvert_exporter": "python",
   "pygments_lexer": "ipython3",
   "version": "3.12.7"
  }
 },
 "nbformat": 4,
 "nbformat_minor": 5
}
