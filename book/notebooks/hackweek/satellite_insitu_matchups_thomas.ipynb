{
 "cells": [
  {
   "cell_type": "markdown",
   "id": "b88496d5",
   "metadata": {},
   "source": [
    "# Matchups of in situ data with satellite data using the ThoMaS match-up toolkit\n",
    "**Authors:** Anna Windle (NASA, SSAI), James Allen (NASA, Morgan State University), Juan Ignacio Gossn (EUMETSAT), Ben Loveday (EUMETSAT)\n",
    "\n",
    "\n",
    "## Summary\n",
    "\n",
    "In this example we will conduct matchups of in situ data with PACE OCI satellite data using the ThoMaS (Tool to generate Matchups for OC products with Sentinel-3/OLCI) package. This package provides a comprehensive set of tools to help with the validation of satellite products, supporting many common workflows including:\n",
    "\n",
    "* satellite data acquisition\n",
    "* mini file extraction\n",
    "* in situ data management\n",
    "* bidirectional reflectance distribution function (BRDF) correction\n",
    "\n",
    "ThoMaS is written in Python and is made available through a [EUMETSAT Gitlab repository](https://gitlab.eumetsat.int/eumetlab/oceans/ocean-science-studies/ThoMaS). The package can be used from the command line, or imported as a Python library, as done here. This notebook contains an example of how to use ThoMaS, but the capability shown is not exhaustive. Many more command-line examples are included in the repository, and we encourage users to familiarise themselves with both the [project README](https://gitlab.eumetsat.int/eumetlab/oceans/ocean-science-studies/ThoMaS/-/blob/main/README.md) and  [example README](https://gitlab.eumetsat.int/eumetlab/oceans/ocean-science-studies/ThoMaS/-/blob/main/README_examples.md) for more information.\n",
    "\n",
    "## Learning Objectives\n",
    "\n",
    "At the end of this notebook you will know:\n",
    "\n",
    "* How to create a configuration file for the ThoMaS matchup toolkit\n",
    "* How to run ThoMaS for a full matchup exercise: satellite extractions + minifiles + extraction statistics + matchup statistics\n",
    "* Use standard matchup protocols to apply statistics and plot matchup data\n",
    "\n",
    "## Contents\n",
    "\n",
    "1. [Setup](#1.-Setup)\n",
    "2. [Create configuration file for ThoMaS](#2.-Create configuration file for ThoMaS)\n",
    "3. [Run ThoMaS])(#3.-Run ThoMaS)"
   ]
  },
  {
   "cell_type": "markdown",
   "id": "766a9d46",
   "metadata": {},
   "source": [
    "## 1. Setup\n",
    "\n",
    "Begin by importing all of the packages used in this notebook."
   ]
  },
  {
   "cell_type": "code",
   "execution_count": null,
   "id": "d65d0ce3",
   "metadata": {},
   "outputs": [],
   "source": [
    "import os\n",
    "import sys"
   ]
  },
  {
   "cell_type": "markdown",
   "id": "ac4f6f04",
   "metadata": {},
   "source": [
    "We also need to retrieve the toolkit itself. For the hackweek, we have already saved the ThoMaS toolkit under `shared/pace-hackweek-2024/lib/ThoMaS`.\n",
    "\n",
    "ThoMaS can be used from the [command line](https://gitlab.eumetsat.int/eumetlab/oceans/ocean-science-studies/ThoMaS/-/blob/main/README_examples.md), but here we will use it as a Python library. Lets import ThoMaS into our notebook."
   ]
  },
  {
   "cell_type": "code",
   "execution_count": null,
   "id": "fbfac89c",
   "metadata": {},
   "outputs": [],
   "source": [
    "sys.path.insert(1, \"shared/pace-hackweek-2024/lib/ThoMaS\")\n",
    "from main import ThoMaS_main as ThoMaS"
   ]
  },
  {
   "cell_type": "markdown",
   "id": "396add7c",
   "metadata": {},
   "source": [
    "We also need to save our Earthdata login credentials in our home directory.\n",
    "\n",
    "Copy your username and password and store them in a JSON file under\n",
    "`~/.obpg_credentials.json` (~ stands for your home directory)\" <br>\n",
    "{\"username\": \"john.doe\", \"password\": \"jd_1234\"}"
   ]
  },
  {
   "cell_type": "markdown",
   "id": "b7953fd3",
   "metadata": {},
   "source": [
    "[back to top](#Contents)"
   ]
  },
  {
   "cell_type": "markdown",
   "id": "ca8f666c",
   "metadata": {},
   "source": [
    "## 2. Create configuration file for ThoMaS\n",
    "\n",
    "In this example we will conduct matchups of in situ AERONET-OC Rrs data with PACE OCI Rrs data. The Aerosol Robotic Network (AERONET) was developed to sustain atmospheric studies at various scales with measurements from worldwide distributed autonomous sun-photometers. This has been extended to support marine applications, called AERONET – Ocean Color [(AERONET-OC)](https://aeronet.gsfc.nasa.gov/new_web/ocean_levels_versions.html), and provides the additional capability of measuring the radiance emerging from the sea (i.e., water-leaving radiance) with modified sun-photometers installed on offshore platforms like lighthouses, oceanographic and oil towers. AERONET-OC is instrumental in satellite ocean color validation activities.\n",
    "\n",
    "In this tutorial, we will be collecting Rrs data from the Chesapeake Bay AERONET-OC site located at 39.1N, 76.3W in the upper Chesapeake Bay, Maryland, USA. The instrument is located 30m high on a USCG-controlled navigational range-light tower surrounded by highly turbid, optically deep 6-8 m depth waters.\n",
    "\n",
    "Below are our requirements for this workflow:\n",
    "1. I want to test the performance of PACE OCI at the AERONET-OC station Chesapeake_Bay during July 2024.\n",
    "2. I wish to get matchups between this Chesapeake_Bay subset and PACE/OCI Rrs using the standard extraction protocol from [Bailey and Werdell, 2006](https://oceancolor.gsfc.nasa.gov/staff/jeremy/bailey_and_werdell_2006_rse.pdf), using an extraction window of 5x5.\n",
    "3. I want to apply the [Lee et al. ??](link) BRDF correction to both satellite and in situ data.\n",
    "4. Store all outputs in the \"Chesapeake_Bay\" directory.\n"
   ]
  },
  {
   "cell_type": "markdown",
   "id": "ed881d9a",
   "metadata": {},
   "source": [
    "Let's first define and create the pathto our main output directory"
   ]
  },
  {
   "cell_type": "code",
   "execution_count": null,
   "id": "73ecb4ea",
   "metadata": {},
   "outputs": [],
   "source": [
    "output_path = os.path.join(os.getcwd(), \"Chesapeake_Bay\")\n",
    "if not os.path.exists(output_path):\n",
    "    os.mkdir(output_path)"
   ]
  },
  {
   "cell_type": "markdown",
   "id": "d6c39ea5",
   "metadata": {},
   "source": [
    "Let's now define out configuration file."
   ]
  },
  {
   "cell_type": "code",
   "execution_count": null,
   "id": "0ee36d4c",
   "metadata": {},
   "outputs": [],
   "source": [
    "path_to_config_file = os.path.join(output_path, \"config_file.ini\")\n",
    "config_params = {}\n",
    "\n",
    "# global\n",
    "config_params[\"global\"] = {}\n",
    "config_params[\"global\"][\"path_output\"] = output_path\n",
    "config_params[\"global\"][\"SetID\"] = \"Chesapeake_Bay\"\n",
    "config_params[\"global\"][\"workflow\"] = \"insitu, SatData, minifiles, EDB, MDB\"\n",
    "\n",
    "\n",
    "# AERONETOC\n",
    "config_params[\"AERONETOC\"] = {}\n",
    "config_params[\"AERONETOC\"][\"AERONETOC_pathRaw\"] = os.path.join(\n",
    "    output_path, \"Chesapeake_Bay\", \"AERONET_OC_raw\"\n",
    ")\n",
    "config_params[\"AERONETOC\"][\"AERONETOC_dateStart\"] = \"2024-07-01T00:00:00\"\n",
    "config_params[\"AERONETOC\"][\"AERONETOC_dateEnd\"] = \"2024-07-31T00:00:00\"\n",
    "config_params[\"AERONETOC\"][\"AERONETOC_dataQuality\"] = 1.5\n",
    "config_params[\"AERONETOC\"][\"AERONETOC_station\"] = \"Chesapeake_Bay\"\n",
    "\n",
    "# insitu\n",
    "config_params[\"insitu\"] = {}\n",
    "config_params[\"insitu\"][\"insitu_data2OCDBfile\"] = \"AERONETOC\"\n",
    "config_params[\"insitu\"][\"insitu_input\"] = os.path.join(\n",
    "    output_path, \"Chesapeake_Bay_OCDB.csv\"\n",
    ")\n",
    "config_params[\"insitu\"][\"insitu_satelliteTimeToleranceSeconds\"] = 3600\n",
    "config_params[\"insitu\"][\"insitu_getAncillary\"] = False\n",
    "config_params[\"insitu\"][\"insitu_BRDF\"] = \"L11\"\n",
    "\n",
    "# satellite\n",
    "config_params[\"satellite\"] = {}\n",
    "config_params[\"satellite\"][\"satellite_path-to-SatData\"] = os.path.join(\n",
    "    output_path, \"SatData\"\n",
    ")\n",
    "config_params[\"satellite\"][\"satellite_source\"] = \"NASA_OBPG\"\n",
    "config_params[\"satellite\"][\"satellite_collections\"] = \"operational\"\n",
    "config_params[\"satellite\"][\"satellite_platforms\"] = \"PACE\"\n",
    "config_params[\"satellite\"][\"satellite_resolutions\"] = \"FR\"\n",
    "config_params[\"satellite\"][\"satellite_BRDF\"] = \"L11\"\n",
    "\n",
    "# minifiles\n",
    "config_params[\"minifiles\"] = {}\n",
    "config_params[\"minifiles\"][\"minifiles_winSize\"] = 5\n",
    "\n",
    "# EDB\n",
    "config_params[\"EDB\"] = {}\n",
    "config_params[\"EDB\"][\"EDB_protocols_L2\"] = \"Bailey_and_Werdell_2006\"\n",
    "config_params[\"EDB\"][\"EDB_winSizes\"] = 5\n",
    "\n",
    "# MDB\n",
    "config_params[\"MDB\"] = {}\n",
    "config_params[\"MDB\"][\"MDB_time-interpolation\"] = \"insitu2satellite_NN\"\n",
    "config_params[\"MDB\"][\"MDB_stats_plots\"] = True\n",
    "config_params[\"MDB\"][\"MDB_stats_protocol\"] = \"Bailey_and_Werdell_2006\"\n",
    "\n",
    "# Write config_params sections into config_file.ini\n",
    "# write_config_file(path_to_config_file, config_params) # FIXME: where does this function come from?"
   ]
  },
  {
   "cell_type": "markdown",
   "id": "3474e15b",
   "metadata": {},
   "source": [
    "[back to top](#Contents)"
   ]
  },
  {
   "cell_type": "markdown",
   "id": "e4f11246",
   "metadata": {},
   "source": [
    "## 3. Run ThoMaS"
   ]
  },
  {
   "cell_type": "markdown",
   "id": "476c153d",
   "metadata": {},
   "source": [
    "Now, let's run this configuration and check our outputs"
   ]
  },
  {
   "cell_type": "code",
   "execution_count": null,
   "id": "54722cce",
   "metadata": {},
   "outputs": [],
   "source": [
    "ThoMaS(path_to_config_file)"
   ]
  },
  {
   "cell_type": "markdown",
   "id": "632691e2",
   "metadata": {},
   "source": [
    "If all went well, in our Chesapeake_Bay directory you should now have several folders that contain the outputs from the ThoMaS analysis:\n",
    "* SatData contains the full downloaded products\n",
    "* SatDataLists contains information on the inventory of downloaded data\n",
    "* minifiles contains the extracted minifiles\n",
    "* minifilesLists contains information on the inventory of downloaded data\n",
    "* EDB, the most important folder, contains the results of the extractions we made from the minifiles.\n",
    "* Summary plots of matchups"
   ]
  },
  {
   "cell_type": "markdown",
   "id": "0f81df52",
   "metadata": {},
   "source": [
    "[back to top](#Contents)"
   ]
  }
 ],
 "metadata": {
  "jupytext": {
   "cell_metadata_filter": "all,-trusted",
   "main_language": "python",
   "notebook_metadata_filter": "all,-kernelspec"
  },
  "language_info": {
   "codemirror_mode": {
    "name": "ipython",
    "version": 3
   },
   "file_extension": ".py",
   "mimetype": "text/x-python",
   "name": "python",
   "nbconvert_exporter": "python",
   "pygments_lexer": "ipython3",
   "version": "3.12.7"
  }
 },
 "nbformat": 4,
 "nbformat_minor": 5
}
