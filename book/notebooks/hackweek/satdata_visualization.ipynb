{
 "cells": [
  {
   "cell_type": "markdown",
   "id": "a51aac4e",
   "metadata": {},
   "source": [
    "# Satellite Data Visualization\n",
    "\n",
    "**Tutorial Leads:** Carina Poulin (NASA, SSAI), Ian Carroll (NASA, UMBC) and Sean Foley (NASA, MSU)\n",
    "\n",
    "<div class=\"alert alert-success\" role=\"alert\">\n",
    "\n",
    "The following notebooks are **prerequisites** for this tutorial:\n",
    "\n",
    "- [Earthdata Cloud Access](../earthdata_cloud_access)\n",
    "\n",
    "</div>\n",
    "\n",
    "## Summary\n",
    "\n",
    "This is an introductory tutorial to the visualization possibilities arising from PACE data, meant to give you ideas and tools to develop your own scientific data visualizations.\n",
    "\n",
    "## Learning Objectives\n",
    "\n",
    "At the end of this notebook you will know:\n",
    "\n",
    "- How to create an easy global map from OCI data from the cloud\n",
    "- How to create a true-color image from OCI data processed with OCSSW\n",
    "- How to make a false color image to look at clouds\n",
    "- How to make an interactive tool to explore OCI data\n",
    "- What goes into an animation of multi-angular HARP2 data\n",
    "\n",
    "## Contents\n",
    "\n",
    "1. [Setup](#1.-Setup)\n",
    "2. [Easy Global Chlorophyll-a Map](#2.-Easy-Global-Chlorophyll-a-Map)\n",
    "3. [Global Oceans in Quasi True Color](#3.-Global-Oceans-in-Quasi-True-Color)\n",
    "4. [Complete Scene in True Color](#4.-Complete-Scene-in-True-Color)\n",
    "5. [False Color for Ice Clouds](#5.-False-Color-for-Ice-Clouds)\n",
    "6. [Phytoplankton in False Color](#6.-Phytoplankton-in-False-Color)\n",
    "7. [Full Spectra from Global Oceans](#7.-Full-Spectra-from-Global-Oceans)\n",
    "8. [Animation from Multiple Angles](#8.-Animation-from-Multiple-Angles)"
   ]
  },
  {
   "cell_type": "markdown",
   "id": "b4dea10f",
   "metadata": {},
   "source": [
    "## 1. Setup\n",
    "\n",
    "Begin by importing all of the packages used in this notebook. If your kernel uses an environment defined following the guidance on the [tutorials] page, then the imports will be successful.\n",
    "\n",
    "[tutorials]: https://oceancolor.gsfc.nasa.gov/resources/docs/tutorials/"
   ]
  },
  {
   "cell_type": "code",
   "execution_count": null,
   "id": "09f7f3c9",
   "metadata": {},
   "outputs": [],
   "source": [
    "import cartopy.crs as ccrs\n",
    "import cmocean\n",
    "import earthaccess\n",
    "import holoviews as hv\n",
    "import matplotlib.pylab as pl\n",
    "import matplotlib.pyplot as plt\n",
    "import numpy as np\n",
    "import panel.widgets as pnw\n",
    "import xarray as xr\n",
    "from holoviews.streams import Tap\n",
    "from matplotlib import animation\n",
    "from matplotlib.colors import ListedColormap\n",
    "from PIL import Image, ImageEnhance\n",
    "from scipy.ndimage import gaussian_filter1d\n",
    "from xarray.backends.api import open_datatree"
   ]
  },
  {
   "cell_type": "code",
   "execution_count": null,
   "id": "11a58879",
   "metadata": {
    "lines_to_next_cell": 2
   },
   "outputs": [],
   "source": [
    "options = xr.set_options(display_expand_attrs=False)"
   ]
  },
  {
   "cell_type": "markdown",
   "id": "fc2ddf85",
   "metadata": {},
   "source": [
    "In this tutorial, we suppress runtime warnings that show up when calculating log for negative values, which is common with our datasets."
   ]
  },
  {
   "cell_type": "markdown",
   "id": "3d124836",
   "metadata": {
    "lines_to_next_cell": 2
   },
   "source": [
    "Define a function to apply enhancements, our own plus generic image enhancements from the Pillow package."
   ]
  },
  {
   "cell_type": "code",
   "execution_count": null,
   "id": "affc1cf4",
   "metadata": {},
   "outputs": [],
   "source": [
    "def enhance(\n",
    "    rgb,\n",
    "    scale=0.01,\n",
    "    vmin=0.01,\n",
    "    vmax=1.04,\n",
    "    gamma=0.95,\n",
    "    contrast=1.2,\n",
    "    brightness=1.02,\n",
    "    sharpness=2,\n",
    "    saturation=1.1,\n",
    "):\n",
    "    \"\"\"Follow the SeaDAS recipe for RGB images from Ocean Color missions.\n",
    "\n",
    "    Args:\n",
    "        rgb: a data array with three dimensions, having 3 or 4 bands in the third dimension\n",
    "        scale: scale value for the log transform\n",
    "        vmin: minimum pixel value for the image\n",
    "        vmax: maximum pixel value for the image\n",
    "        gamma: exponential factor for gamma correction\n",
    "        contrast: amount of pixel value differentiation\n",
    "        brightness: pixel values (intensity)\n",
    "        sharpness: amount of detail\n",
    "        saturation: color intensity\n",
    "\n",
    "    Returns:\n",
    "       a transformed data array better for RGB display\n",
    "\n",
    "    \"\"\"\n",
    "    rgb = rgb.where(rgb > 0)\n",
    "    rgb = np.log(rgb / scale) / np.log(1 / scale)\n",
    "    rgb = rgb.where(rgb >= vmin, vmin)\n",
    "    rgb = rgb.where(rgb <= vmax, vmax)\n",
    "    rgb_min = rgb.min((\"number_of_lines\", \"pixels_per_line\"))\n",
    "    rgb_max = rgb.max((\"number_of_lines\", \"pixels_per_line\"))\n",
    "    rgb = (rgb - rgb_min) / (rgb_max - rgb_min)\n",
    "    rgb = rgb * gamma\n",
    "    img = rgb * 255\n",
    "    img = img.where(img.notnull(), 0).astype(\"uint8\")\n",
    "    img = Image.fromarray(img.data)\n",
    "    enhancer = ImageEnhance.Contrast(img)\n",
    "    img = enhancer.enhance(contrast)\n",
    "    enhancer = ImageEnhance.Brightness(img)\n",
    "    img = enhancer.enhance(brightness)\n",
    "    enhancer = ImageEnhance.Sharpness(img)\n",
    "    img = enhancer.enhance(sharpness)\n",
    "    enhancer = ImageEnhance.Color(img)\n",
    "    img = enhancer.enhance(saturation)\n",
    "    rgb[:] = np.array(img) / 255\n",
    "    return rgb\n",
    "\n",
    "\n",
    "def enhancel3(\n",
    "    rgb,\n",
    "    scale=0.01,\n",
    "    vmin=0.01,\n",
    "    vmax=1.02,\n",
    "    gamma=0.95,\n",
    "    contrast=1.5,\n",
    "    brightness=1.02,\n",
    "    sharpness=2,\n",
    "    saturation=1.1,\n",
    "):\n",
    "    rgb = rgb.where(rgb > 0)\n",
    "    rgb = np.log(rgb / scale) / np.log(1 / scale)\n",
    "    rgb = (rgb - rgb.min()) / (rgb.max() - rgb.min())\n",
    "    rgb = rgb * gamma\n",
    "    img = rgb * 255\n",
    "    img = img.where(img.notnull(), 0).astype(\"uint8\")\n",
    "    img = Image.fromarray(img.data)\n",
    "    enhancer = ImageEnhance.Contrast(img)\n",
    "    img = enhancer.enhance(contrast)\n",
    "    enhancer = ImageEnhance.Brightness(img)\n",
    "    img = enhancer.enhance(brightness)\n",
    "    enhancer = ImageEnhance.Sharpness(img)\n",
    "    img = enhancer.enhance(sharpness)\n",
    "    enhancer = ImageEnhance.Color(img)\n",
    "    img = enhancer.enhance(saturation)\n",
    "    rgb[:] = np.array(img) / 255\n",
    "    return rgb\n",
    "\n",
    "\n",
    "def pcolormesh(rgb):\n",
    "    fig = plt.figure()\n",
    "    axes = fig.add_subplot()\n",
    "    artist = axes.pcolormesh(\n",
    "        rgb[\"longitude\"],\n",
    "        rgb[\"latitude\"],\n",
    "        rgb,\n",
    "        shading=\"nearest\",\n",
    "        rasterized=True,\n",
    "    )\n",
    "    axes.set_aspect(\"equal\")"
   ]
  },
  {
   "cell_type": "markdown",
   "id": "82f5b5a8",
   "metadata": {},
   "source": [
    "[back to top](#Contents)"
   ]
  },
  {
   "cell_type": "markdown",
   "id": "80f4e24d",
   "metadata": {},
   "source": [
    "## 2. Easy Global Chlorophyll-a Map"
   ]
  },
  {
   "cell_type": "markdown",
   "id": "472bff9f",
   "metadata": {},
   "source": [
    "Let's start with the most basic visualization. First, get level-3 chlorophyll map product, which is already gridded on latitudes and longitudes."
   ]
  },
  {
   "cell_type": "code",
   "execution_count": null,
   "id": "262a7517",
   "metadata": {},
   "outputs": [],
   "source": [
    "results = earthaccess.search_data(\n",
    "    short_name=\"PACE_OCI_L3M_CHL_NRT\",\n",
    "    granule_name=\"*.MO.*.0p1deg.*\",\n",
    ")\n",
    "paths = earthaccess.open(results)"
   ]
  },
  {
   "cell_type": "code",
   "execution_count": null,
   "id": "7e97209d",
   "metadata": {},
   "outputs": [],
   "source": [
    "dataset = xr.open_dataset(paths[-1])\n",
    "chla = dataset[\"chlor_a\"]"
   ]
  },
  {
   "cell_type": "markdown",
   "id": "974789a3",
   "metadata": {},
   "source": [
    "Now we can already create a global map. Let's use a special colormap from `cmocean` to be fancy, but this is not necessary to make a basic map. Use the `robust=\"true\"` option to remove outliers."
   ]
  },
  {
   "cell_type": "code",
   "execution_count": null,
   "id": "e4290e7f",
   "metadata": {},
   "outputs": [],
   "source": [
    "artist = chla.plot(cmap=cmocean.cm.algae, robust=\"true\")\n",
    "plt.gca().set_aspect(\"equal\")"
   ]
  },
  {
   "cell_type": "markdown",
   "id": "fb834fc6",
   "metadata": {},
   "source": [
    "## 3. Global Oceans in Quasi True Color"
   ]
  },
  {
   "cell_type": "markdown",
   "id": "f6772deb",
   "metadata": {},
   "source": [
    "True color images use three bands to create a RGB image. Let's still use a level-3 mapped product, this time we use the remote-sensing reflectance (Rrs) product."
   ]
  },
  {
   "cell_type": "code",
   "execution_count": null,
   "id": "003a8238",
   "metadata": {},
   "outputs": [],
   "source": [
    "results = earthaccess.search_data(\n",
    "    short_name=\"PACE_OCI_L3M_RRS_NRT\",\n",
    "    granule_name=\"*.MO.*.0p1deg.*\",\n",
    ")\n",
    "paths = earthaccess.open(results)"
   ]
  },
  {
   "cell_type": "markdown",
   "id": "90504620",
   "metadata": {},
   "source": [
    "The Level-3 Mapped files have no groups and have variables that XArray recognizes as \"coordinates\":\n",
    "variables that are named after their only dimension."
   ]
  },
  {
   "cell_type": "code",
   "execution_count": null,
   "id": "2e9ce846",
   "metadata": {},
   "outputs": [],
   "source": [
    "dataset = xr.open_dataset(paths[-1])"
   ]
  },
  {
   "cell_type": "markdown",
   "id": "a7d4fc72",
   "metadata": {},
   "source": [
    "Look at all the wavelentghs available!"
   ]
  },
  {
   "cell_type": "code",
   "execution_count": null,
   "id": "1d188a0b",
   "metadata": {
    "scrolled": true,
    "tags": [
     "scroll-output"
    ]
   },
   "outputs": [],
   "source": [
    "dataset[\"wavelength\"].data"
   ]
  },
  {
   "cell_type": "markdown",
   "id": "793f8a60",
   "metadata": {},
   "source": [
    "For a true color image, choose three wavelengths to represent the \"Red\", \"Green\", and \"Blue\"\n",
    "channels used to make true color images."
   ]
  },
  {
   "cell_type": "code",
   "execution_count": null,
   "id": "986d4e5e",
   "metadata": {},
   "outputs": [],
   "source": [
    "rrs_rgb = dataset[\"Rrs\"].sel({\"wavelength\": [645, 555, 368]})\n",
    "rrs_rgb"
   ]
  },
  {
   "cell_type": "markdown",
   "id": "fc6055b1",
   "metadata": {},
   "source": [
    "It is always a good practice to build meaningful labels into the dataset, and we'll see next\n",
    "that it can be very useful as we learn to use metadata while creating visualizations.\n",
    "\n",
    "For this case, we can attach another variable called \"channel\" and then swap it with\n",
    "\"wavelength\" to become the third dimension of the data array. We'll actually use these\n",
    "values for a choice of `cmap` below, just for fun."
   ]
  },
  {
   "cell_type": "code",
   "execution_count": null,
   "id": "3f2461f8",
   "metadata": {},
   "outputs": [],
   "source": [
    "rrs_rgb[\"channel\"] = (\"wavelength\", [\"Reds\", \"Greens\", \"Blues\"])\n",
    "rrs_rgb = rrs_rgb.swap_dims({\"wavelength\": \"channel\"})\n",
    "rrs_rgb"
   ]
  },
  {
   "cell_type": "markdown",
   "id": "b1072ad4",
   "metadata": {},
   "source": [
    "A complicated figure can be assembled fairly easily using the `xarray.Dataset.plot` method,\n",
    "which draws on the matplotlib package. For Level-3 data, we can specifically use `imshow`\n",
    "to visualize the RGB image on the `lat` and `lon` coordinates."
   ]
  },
  {
   "cell_type": "code",
   "execution_count": null,
   "id": "8066d051",
   "metadata": {},
   "outputs": [],
   "source": [
    "fig, axs = plt.subplots(3, 1, figsize=(8, 7), sharex=True)\n",
    "for i, item in enumerate(rrs_rgb[\"channel\"]):\n",
    "    array = rrs_rgb.sel({\"channel\": item})\n",
    "    array.plot.imshow(x=\"lon\", y=\"lat\", cmap=item.item(), ax=axs[i], robust=True)\n",
    "    axs[i].set_aspect(\"equal\")\n",
    "fig.tight_layout()\n",
    "plt.show()"
   ]
  },
  {
   "cell_type": "markdown",
   "id": "957346f3",
   "metadata": {},
   "source": [
    "We use the `enhancel3` function defined at the start of the tutorial to make adjusments to the image."
   ]
  },
  {
   "cell_type": "code",
   "execution_count": null,
   "id": "eb0bf1e1",
   "metadata": {},
   "outputs": [],
   "source": [
    "rrs_rgb_enhanced = enhancel3(rrs_rgb)"
   ]
  },
  {
   "cell_type": "markdown",
   "id": "46755884",
   "metadata": {},
   "source": [
    "And we create the image using the `imshow` function."
   ]
  },
  {
   "cell_type": "code",
   "execution_count": null,
   "id": "df84def5",
   "metadata": {
    "lines_to_next_cell": 2
   },
   "outputs": [],
   "source": [
    "artist = rrs_rgb_enhanced.plot.imshow(x=\"lon\", y=\"lat\")\n",
    "plt.gca().set_aspect(\"equal\")"
   ]
  },
  {
   "cell_type": "markdown",
   "id": "14dd42e3",
   "metadata": {},
   "source": [
    "Finally, we can add a grid and coastlines to the map with `cartopy` tools."
   ]
  },
  {
   "cell_type": "code",
   "execution_count": null,
   "id": "3fb0a403",
   "metadata": {},
   "outputs": [],
   "source": [
    "plt.figure(figsize=(7, 5))\n",
    "ax = plt.axes(projection=ccrs.PlateCarree())\n",
    "artist = rrs_rgb_enhanced.plot.imshow(x=\"lon\", y=\"lat\")\n",
    "ax.gridlines(draw_labels={\"left\": \"y\", \"bottom\": \"x\"}, color=\"white\", linewidth=0.3)\n",
    "ax.coastlines(color=\"white\", linewidth=1)\n",
    "plt.show()"
   ]
  },
  {
   "cell_type": "markdown",
   "id": "ff8479e6",
   "metadata": {},
   "source": [
    "[back to top](#Contents)"
   ]
  },
  {
   "cell_type": "markdown",
   "id": "69482765",
   "metadata": {},
   "source": [
    "## 4. Complete Scene in True Color"
   ]
  },
  {
   "cell_type": "markdown",
   "id": "3280364a",
   "metadata": {},
   "source": [
    "The best product to create a high-quality true-color image from PACE is the Surface Reflectance (rhos). Cloud-masked rhos are distributed in the SFREFL product suite. If you want to create an image that includes clouds, however, you need to process a Level-1B file to Level-2 using l2gen, like we will show in the OCSSW data processing exercise.\n",
    "\n",
    "All files created by a PACE Hackweek tutorial can be found in the `/shared/pace-hackweek-2024/` folder accessible from the JupyterLab file browser. In this tutorial, we'll use a Level-2 file created in advance. Note that the JupyterLab file browser treats `/home/jovyan` (that's your home directory, Jovyan) as the root of the browsable file system."
   ]
  },
  {
   "cell_type": "code",
   "execution_count": null,
   "id": "4f4fb4ff",
   "metadata": {},
   "outputs": [],
   "source": [
    "path = \"/home/jovyan/shared/pace-hackweek-2024/PACE_OCI.20240605T092137.L2_SFREFL.V2.nc\"\n",
    "datatree = open_datatree(path)\n",
    "dataset = xr.merge(datatree.to_dict().values())\n",
    "dataset"
   ]
  },
  {
   "cell_type": "markdown",
   "id": "ac51f961",
   "metadata": {},
   "source": [
    "The longitude and latitude variables are geolocation arrays, and while they are spatial\n",
    "coordinates they cannot be set as an index on the dataset because each array is itself\n",
    "two-dimensional. The rhos are not on a rectangular grid, but it is still useful to tell\n",
    "XArray what will become axis labels."
   ]
  },
  {
   "cell_type": "code",
   "execution_count": null,
   "id": "7b9ce2b6",
   "metadata": {},
   "outputs": [],
   "source": [
    "dataset = dataset.set_coords((\"longitude\", \"latitude\"))\n",
    "dataset"
   ]
  },
  {
   "cell_type": "markdown",
   "id": "508d2221",
   "metadata": {},
   "source": [
    "We then select the three wavelenghts that will become the red, green and blue chanels in our image."
   ]
  },
  {
   "cell_type": "code",
   "execution_count": null,
   "id": "af6470c2",
   "metadata": {},
   "outputs": [],
   "source": [
    "rhos_rgb = dataset[\"rhos\"].sel({\"wavelength_3d\": [645, 555, 368]})\n",
    "rhos_rgb"
   ]
  },
  {
   "cell_type": "markdown",
   "id": "a5da34b2",
   "metadata": {},
   "source": [
    "We are ready to have a look at our image. The most simple adjustment is normalization of the range across the three RGB channels."
   ]
  },
  {
   "cell_type": "code",
   "execution_count": null,
   "id": "bcdeeb1a",
   "metadata": {},
   "outputs": [],
   "source": [
    "rhos_rgb_max = rhos_rgb.max()\n",
    "rhos_rgb_min = rhos_rgb.min()\n",
    "rhos_rgb_enhanced = (rhos_rgb - rhos_rgb_min) / (rhos_rgb_max - rhos_rgb_min)"
   ]
  },
  {
   "cell_type": "markdown",
   "id": "7b6eeabf",
   "metadata": {},
   "source": [
    "To visualize these data, we have to use the fairly smart `pcolormesh` artists, which interprets\n",
    "the geolocation arrays as pixel centers. TODO: why the warning, though?"
   ]
  },
  {
   "cell_type": "code",
   "execution_count": null,
   "id": "5683c73c",
   "metadata": {},
   "outputs": [],
   "source": [
    "pcolormesh(rhos_rgb_enhanced)"
   ]
  },
  {
   "cell_type": "markdown",
   "id": "2f08991f",
   "metadata": {},
   "source": [
    "Let's have a look at the image's histogram that shows the pixel intensity value distribution across the image. Here, we can see that the values are skewed towards the low intensities, which makes the image dark."
   ]
  },
  {
   "cell_type": "code",
   "execution_count": null,
   "id": "742f32f9",
   "metadata": {},
   "outputs": [],
   "source": [
    "rhos_rgb_enhanced.plot.hist()"
   ]
  },
  {
   "cell_type": "markdown",
   "id": "c09892c0",
   "metadata": {},
   "source": [
    "Another type of enhancement involves a logarithmic transform of the data before normalizing to the unit range."
   ]
  },
  {
   "cell_type": "code",
   "execution_count": null,
   "id": "08779348",
   "metadata": {},
   "outputs": [],
   "source": [
    "rhos_rgb_enhanced = rhos_rgb.where(rhos_rgb > 0, np.nan)\n",
    "rhos_rgb_enhanced = np.log(rhos_rgb_enhanced / 0.01) / np.log(1 / 0.01)\n",
    "rhos_rgb_max = rhos_rgb_enhanced.max()\n",
    "rhos_rgb_min = rhos_rgb_enhanced.min()\n",
    "rhos_rgb_enhanced = (rhos_rgb_enhanced - rhos_rgb_min) / (rhos_rgb_max - rhos_rgb_min)\n",
    "pcolormesh(rhos_rgb_enhanced)"
   ]
  },
  {
   "cell_type": "markdown",
   "id": "b55b3a51",
   "metadata": {},
   "source": [
    "Perhaps it is better to do the unit normalization independently for each channel? We can use\n",
    "XArray's ability to use and align labelled dimensions for the calculation."
   ]
  },
  {
   "cell_type": "code",
   "execution_count": null,
   "id": "98379731",
   "metadata": {},
   "outputs": [],
   "source": [
    "rhos_rgb_max = rhos_rgb.max((\"number_of_lines\", \"pixels_per_line\"))\n",
    "rhos_rgb_min = rhos_rgb.min((\"number_of_lines\", \"pixels_per_line\"))\n",
    "rhos_rgb_enhanced = (rhos_rgb - rhos_rgb_min) / (rhos_rgb_max - rhos_rgb_min)\n",
    "pcolormesh(rhos_rgb_enhanced)"
   ]
  },
  {
   "cell_type": "markdown",
   "id": "eb4416ca",
   "metadata": {},
   "source": [
    "Let's go back to the log-transformed image, but this time adjust the minimum and maximum pixel values `vmin` and `vmax`."
   ]
  },
  {
   "cell_type": "code",
   "execution_count": null,
   "id": "b2125626",
   "metadata": {},
   "outputs": [],
   "source": [
    "rhos_rgb_enhanced = rhos_rgb.where(rhos_rgb > 0, np.nan)\n",
    "rhos_rgb_enhanced = np.log(rhos_rgb_enhanced / 0.01) / np.log(1 / 0.01)"
   ]
  },
  {
   "cell_type": "code",
   "execution_count": null,
   "id": "a04c19eb",
   "metadata": {},
   "outputs": [],
   "source": [
    "vmin = 0.01\n",
    "vmax = 1.04\n",
    "\n",
    "rhos_rgb_enhanced = rhos_rgb_enhanced.where(rhos_rgb_enhanced <= vmax, vmax)\n",
    "rhos_rgb_enhanced = rhos_rgb_enhanced.where(rhos_rgb_enhanced >= vmin, vmin)"
   ]
  },
  {
   "cell_type": "code",
   "execution_count": null,
   "id": "c5d84a8a",
   "metadata": {},
   "outputs": [],
   "source": [
    "rhos_rgb_max = rhos_rgb.max((\"number_of_lines\", \"pixels_per_line\"))\n",
    "rhos_rgb_min = rhos_rgb.min((\"number_of_lines\", \"pixels_per_line\"))\n",
    "rhos_rgb_enhanced = (rhos_rgb_enhanced - rhos_rgb_min) / (rhos_rgb_max - rhos_rgb_min)\n",
    "pcolormesh(rhos_rgb_enhanced)"
   ]
  },
  {
   "cell_type": "markdown",
   "id": "e43ef1e1",
   "metadata": {},
   "source": [
    "This image looks much more balanced. The histogram is also going to indicate this:"
   ]
  },
  {
   "cell_type": "code",
   "execution_count": null,
   "id": "b6a45ed0",
   "metadata": {},
   "outputs": [],
   "source": [
    "rhos_rgb_enhanced.plot.hist()"
   ]
  },
  {
   "cell_type": "markdown",
   "id": "54706b44",
   "metadata": {},
   "source": [
    "Everything we've been trying is already built into the `enhance` function, including extra goodies from the Pillow package of generic image processing filters."
   ]
  },
  {
   "cell_type": "code",
   "execution_count": null,
   "id": "66ce99a0",
   "metadata": {},
   "outputs": [],
   "source": [
    "rhos_rgb_enhanced = enhance(rhos_rgb)\n",
    "pcolormesh(rhos_rgb_enhanced)"
   ]
  },
  {
   "cell_type": "markdown",
   "id": "bf7268d1",
   "metadata": {},
   "source": [
    "Since every image is unique, we can further adjust the parameters."
   ]
  },
  {
   "cell_type": "code",
   "execution_count": null,
   "id": "7bc8fce5",
   "metadata": {},
   "outputs": [],
   "source": [
    "rhos_rgb_enhanced = enhance(rhos_rgb, contrast=1.2, brightness=1.1, saturation=0.8)\n",
    "pcolormesh(rhos_rgb_enhanced)"
   ]
  },
  {
   "cell_type": "markdown",
   "id": "c8b54c66",
   "metadata": {},
   "source": [
    "[back to top](#Contents)"
   ]
  },
  {
   "cell_type": "markdown",
   "id": "7302c5e3",
   "metadata": {},
   "source": [
    "## 5. False Color for Ice Clouds"
   ]
  },
  {
   "cell_type": "markdown",
   "id": "8c34454f",
   "metadata": {},
   "source": [
    "We can use the same RGB image method, this time with different bands, to create false-color images that highlight specific elements in an image.\n",
    "\n",
    "For example, using a combination of infrared bands can highlight ice clouds in the atmosphere, versus regular water vapor clouds. Let's try it:"
   ]
  },
  {
   "cell_type": "code",
   "execution_count": null,
   "id": "3495e2a0",
   "metadata": {},
   "outputs": [],
   "source": [
    "rhos_ice = dataset[\"rhos\"].sel({\"wavelength_3d\": [1618, 2131, 2258]})"
   ]
  },
  {
   "cell_type": "code",
   "execution_count": null,
   "id": "f7b62a9d",
   "metadata": {},
   "outputs": [],
   "source": [
    "rhos_ice_enhanced = enhance(\n",
    "    rhos_ice,\n",
    "    vmin=0,\n",
    "    vmax=0.9,\n",
    "    scale=0.1,\n",
    "    gamma=1,\n",
    "    contrast=1,\n",
    "    brightness=1,\n",
    "    saturation=1,\n",
    ")\n",
    "pcolormesh(rhos_ice_enhanced)"
   ]
  },
  {
   "cell_type": "markdown",
   "id": "a50f939f",
   "metadata": {},
   "source": [
    "Here, the ice clouds are purple and water vapor clouds are white, like we can see in the northwestern region of the scene."
   ]
  },
  {
   "cell_type": "markdown",
   "id": "38f0ca29",
   "metadata": {},
   "source": [
    "[back to top](#Contents)"
   ]
  },
  {
   "cell_type": "markdown",
   "id": "64fb73e8",
   "metadata": {},
   "source": [
    "## 6. Phytoplankton in False Color"
   ]
  },
  {
   "cell_type": "markdown",
   "id": "ae78c8f2",
   "metadata": {},
   "source": [
    "A uniquely innovative type of product from PACE is the phytoplankton community composition, using the MOANA algorithm. It gives the abundance of three types of plankton: picoeucaryotes, prochlorococcus and synechococcus. These products were used to create the first light image for PACE. Let's see how.\n",
    "\n",
    "We first open the dataset that is created with l2gen. This will be covered in the OCSSW tutorial."
   ]
  },
  {
   "cell_type": "code",
   "execution_count": null,
   "id": "e31c1ec8",
   "metadata": {},
   "outputs": [],
   "source": [
    "path = \"/home/jovyan/shared/pace-hackweek-2024/PACE_OCI.20240309T115927.L2_MOANA.V2.nc\"\n",
    "\n",
    "datatree = open_datatree(path)\n",
    "dataset = xr.merge(datatree.to_dict().values())\n",
    "dataset"
   ]
  },
  {
   "cell_type": "markdown",
   "id": "b571ea26",
   "metadata": {},
   "source": [
    "We can see the MOANA products, RGB bands and other level-2 products in the dataset. We still need to set the spatial variables as coordinates of the dataset."
   ]
  },
  {
   "cell_type": "code",
   "execution_count": null,
   "id": "6a674213",
   "metadata": {},
   "outputs": [],
   "source": [
    "dataset = dataset.set_coords((\"longitude\", \"latitude\"))"
   ]
  },
  {
   "cell_type": "markdown",
   "id": "5559c11d",
   "metadata": {},
   "source": [
    "Let's make a quick MOANA product plot to see if everything looks normal."
   ]
  },
  {
   "cell_type": "code",
   "execution_count": null,
   "id": "db715029",
   "metadata": {},
   "outputs": [],
   "source": [
    "artist = dataset[\"picoeuk_moana\"].plot(\n",
    "    x=\"longitude\", y=\"latitude\", cmap=\"viridis\", vmin=0, robust=\"true\"\n",
    ")\n",
    "plt.gca().set_aspect(\"equal\")"
   ]
  },
  {
   "cell_type": "markdown",
   "id": "79749713",
   "metadata": {},
   "source": [
    "Now we create a RGB image using our three rhos bands and the usual log-transform, vmin/vmax adjustments and normalization. We also project the map using cartopy."
   ]
  },
  {
   "cell_type": "code",
   "execution_count": null,
   "id": "f8f83496",
   "metadata": {},
   "outputs": [],
   "source": [
    "# OCI True Color 1 band -min/max adjusted\n",
    "vmin = 0.01\n",
    "vmax = 1.04  # Above 1 because whites can be higher than 1\n",
    "# ----\n",
    "\n",
    "rhos_red = dataset[\"rhos_645\"]\n",
    "rhos_green = dataset[\"rhos_555\"]\n",
    "rhos_blue = dataset[\"rhos_465\"]\n",
    "red = np.log(rhos_red / 0.01) / np.log(1 / 0.01)\n",
    "green = np.log(rhos_green / 0.01) / np.log(1 / 0.01)\n",
    "blue = np.log(rhos_blue / 0.01) / np.log(1 / 0.01)\n",
    "red = red.where((red >= vmin) & (red <= vmax), vmin, vmax)\n",
    "green = green.where((green >= vmin) & (green <= vmax), vmin, vmax)\n",
    "blue = blue.where((blue >= vmin) & (blue <= vmax), vmin, vmax)\n",
    "rgb = np.dstack((red, green, blue))\n",
    "rgb = (rgb - np.nanmin(rgb)) / (np.nanmax(rgb) - np.nanmin(rgb))  # normalize\n",
    "\n",
    "fig = plt.figure(figsize=(5, 5))\n",
    "axes = fig.add_subplot(projection=ccrs.PlateCarree())\n",
    "artist = axes.imshow(\n",
    "    rgb,\n",
    "    extent=(\n",
    "        dataset.longitude.min(),\n",
    "        dataset.longitude.max(),\n",
    "        dataset.latitude.min(),\n",
    "        dataset.latitude.max(),\n",
    "    ),\n",
    "    origin=\"lower\",\n",
    "    transform=ccrs.PlateCarree(),\n",
    "    interpolation=\"none\",\n",
    ")"
   ]
  },
  {
   "cell_type": "markdown",
   "id": "cbb34a01",
   "metadata": {},
   "source": [
    "We then enhance the image."
   ]
  },
  {
   "cell_type": "code",
   "execution_count": null,
   "id": "f0c7a4c3",
   "metadata": {
    "lines_to_next_cell": 0
   },
   "outputs": [],
   "source": [
    "# Image adjustments: change values from 0 to 2, 1 being unchanged\n",
    "contrast = 1.72\n",
    "brightness = 1\n",
    "sharpness = 2\n",
    "saturation = 1.3\n",
    "gamma = 0.43\n",
    "# ----\n",
    "\n",
    "normalized_image = (rgb - rgb.min()) / (rgb.max() - rgb.min())\n",
    "normalized_image = normalized_image**gamma\n",
    "normalized_image = (normalized_image * 255).astype(np.uint8)\n",
    "image_pil = Image.fromarray(normalized_image)\n",
    "enhancer = ImageEnhance.Contrast(image_pil)\n",
    "image_enhanced = enhancer.enhance(contrast)\n",
    "enhancer = ImageEnhance.Brightness(image_enhanced)\n",
    "image_enhanced = enhancer.enhance(brightness)\n",
    "enhancer = ImageEnhance.Sharpness(image_enhanced)\n",
    "image_enhanced = enhancer.enhance(sharpness)\n",
    "enhancer = ImageEnhance.Color(image_enhanced)\n",
    "image_enhanced = enhancer.enhance(saturation)\n",
    "enhanced_image_np = np.array(image_enhanced) / 255.0  # Normalize back to [0, 1] range\n",
    "\n",
    "fig = plt.figure(figsize=(5, 5))\n",
    "axes = fig.add_subplot(projection=ccrs.PlateCarree())\n",
    "extent = (\n",
    "    dataset.longitude.min(),\n",
    "    dataset.longitude.max(),\n",
    "    dataset.latitude.min(),\n",
    "    dataset.latitude.max(),\n",
    ")\n",
    "artist = axes.imshow(\n",
    "    enhanced_image_np,\n",
    "    extent=extent,\n",
    "    origin=\"lower\",\n",
    "    transform=ccrs.PlateCarree(),\n",
    "    alpha=1,\n",
    ")"
   ]
  },
  {
   "cell_type": "markdown",
   "id": "3d0c28c1",
   "metadata": {},
   "source": [
    "We then project the MOANA products on the same grid. We can look at Synechococcus as an example."
   ]
  },
  {
   "cell_type": "code",
   "execution_count": null,
   "id": "74a41118",
   "metadata": {},
   "outputs": [],
   "source": [
    "fig = plt.figure(figsize=(5, 5))\n",
    "axes = fig.add_subplot(projection=ccrs.PlateCarree())\n",
    "extent = (\n",
    "    dataset.longitude.min(),\n",
    "    dataset.longitude.max(),\n",
    "    dataset.latitude.min(),\n",
    "    dataset.latitude.max(),\n",
    ")\n",
    "artist = axes.imshow(\n",
    "    dataset[\"syncoccus_moana\"],\n",
    "    extent=extent,\n",
    "    origin=\"lower\",\n",
    "    transform=ccrs.PlateCarree(),\n",
    "    interpolation=\"none\",\n",
    "    cmap=\"Reds\",\n",
    "    vmin=0,\n",
    "    vmax=35000,\n",
    "    alpha=1,\n",
    ")"
   ]
  },
  {
   "cell_type": "markdown",
   "id": "0738701a",
   "metadata": {},
   "source": [
    "To layer the three products on our true-color image, we will add transparency to our colormaps for the three plankton products. Look at the Synechococcus product again."
   ]
  },
  {
   "cell_type": "code",
   "execution_count": null,
   "id": "50f70ded",
   "metadata": {},
   "outputs": [],
   "source": [
    "cmap_greens = pl.cm.Greens  # Get original color map\n",
    "my_cmap_greens = cmap_greens(np.arange(cmap_greens.N))\n",
    "my_cmap_greens[:, -1] = np.linspace(0, 1, cmap_greens.N)  # Set alpha for transparency\n",
    "my_cmap_greens = ListedColormap(my_cmap_greens)  # Create new colormap\n",
    "cmap_reds = pl.cm.Reds\n",
    "my_cmap_reds = cmap_reds(np.arange(cmap_reds.N))\n",
    "my_cmap_reds[:, -1] = np.linspace(0, 1, cmap_reds.N)\n",
    "my_cmap_reds = ListedColormap(my_cmap_reds)\n",
    "cmap_blues = pl.cm.Blues\n",
    "my_cmap_blues = cmap_blues(np.arange(cmap_blues.N))\n",
    "my_cmap_blues[:, -1] = np.linspace(0, 1, cmap_blues.N)\n",
    "my_cmap_blues = ListedColormap(my_cmap_blues)\n",
    "\n",
    "fig = plt.figure(figsize=(5, 5))\n",
    "axes = fig.add_subplot(projection=ccrs.PlateCarree())\n",
    "extent = (\n",
    "    dataset.longitude.min(),\n",
    "    dataset.longitude.max(),\n",
    "    dataset.latitude.min(),\n",
    "    dataset.latitude.max(),\n",
    ")\n",
    "artist = axes.imshow(\n",
    "    dataset[\"syncoccus_moana\"],\n",
    "    extent=extent,\n",
    "    origin=\"lower\",\n",
    "    transform=ccrs.PlateCarree(),\n",
    "    interpolation=\"none\",\n",
    "    cmap=my_cmap_reds,\n",
    "    vmin=0,\n",
    "    vmax=35000,\n",
    "    alpha=1,\n",
    ")"
   ]
  },
  {
   "cell_type": "markdown",
   "id": "7fb81623",
   "metadata": {},
   "source": [
    "We finally assemble the image using the plankton layers and the true-color base layer."
   ]
  },
  {
   "cell_type": "code",
   "execution_count": null,
   "id": "4a97ad93",
   "metadata": {},
   "outputs": [],
   "source": [
    "fig = plt.figure(figsize=(7, 7))\n",
    "axes = plt.subplot(projection=ccrs.PlateCarree())\n",
    "extent = (\n",
    "    dataset.longitude.min(),\n",
    "    dataset.longitude.max(),\n",
    "    dataset.latitude.min(),\n",
    "    dataset.latitude.max(),\n",
    ")\n",
    "axes.imshow(\n",
    "    enhanced_image_np,\n",
    "    extent=extent,\n",
    "    origin=\"lower\",\n",
    "    transform=ccrs.PlateCarree(),\n",
    "    alpha=1,\n",
    ")\n",
    "axes.imshow(\n",
    "    dataset[\"prococcus_moana\"],\n",
    "    extent=extent,\n",
    "    origin=\"lower\",\n",
    "    transform=ccrs.PlateCarree(),\n",
    "    interpolation=\"none\",\n",
    "    cmap=my_cmap_blues,\n",
    "    vmin=0,\n",
    "    vmax=300000,\n",
    "    alpha=0.5,\n",
    ")\n",
    "axes.imshow(\n",
    "    dataset[\"syncoccus_moana\"],\n",
    "    extent=extent,\n",
    "    origin=\"lower\",\n",
    "    transform=ccrs.PlateCarree(),\n",
    "    interpolation=\"none\",\n",
    "    cmap=my_cmap_reds,\n",
    "    vmin=0,\n",
    "    vmax=20000,\n",
    "    alpha=0.5,\n",
    ")\n",
    "axes.imshow(\n",
    "    dataset[\"picoeuk_moana\"],\n",
    "    extent=extent,\n",
    "    origin=\"lower\",\n",
    "    transform=ccrs.PlateCarree(),\n",
    "    interpolation=\"none\",\n",
    "    cmap=my_cmap_greens,\n",
    "    vmin=0,\n",
    "    vmax=50000,\n",
    "    alpha=0.5,\n",
    ")\n",
    "plt.show()"
   ]
  },
  {
   "cell_type": "markdown",
   "id": "2901cf76",
   "metadata": {},
   "source": [
    "[back to top](#Contents)"
   ]
  },
  {
   "cell_type": "markdown",
   "id": "f080d8f6",
   "metadata": {
    "lines_to_next_cell": 2
   },
   "source": [
    "## 7. Full Spectra from Global Oceans"
   ]
  },
  {
   "cell_type": "markdown",
   "id": "13fe2c99",
   "metadata": {},
   "source": [
    "<div class=\"alert alert-warning\" role=\"alert\">\n",
    "\n",
    "This section contains **interactive** plots that require a live Python kernel. Not all the widgets will work\n",
    "when viewing the notebook; the cells have to be executed and the kernel still running. Download the notebook\n",
    "and give it a try!\n",
    "\n",
    "</div>\n",
    "\n",
    "\n",
    "The holoview library and its bokeh extension allow us to explore datasets interactively."
   ]
  },
  {
   "cell_type": "code",
   "execution_count": null,
   "id": "86530574",
   "metadata": {},
   "outputs": [],
   "source": [
    "hv.extension(\"bokeh\")"
   ]
  },
  {
   "cell_type": "markdown",
   "id": "394c91c0",
   "metadata": {},
   "source": [
    "Let's open a level 3 Rrs map."
   ]
  },
  {
   "cell_type": "code",
   "execution_count": null,
   "id": "5d7041cd",
   "metadata": {},
   "outputs": [],
   "source": [
    "results = earthaccess.search_data(\n",
    "    short_name=\"PACE_OCI_L3M_RRS_NRT\",\n",
    "    granule_name=\"*.MO.*.1deg.*\",\n",
    ")\n",
    "paths = earthaccess.open(results)"
   ]
  },
  {
   "cell_type": "markdown",
   "id": "964a34f8",
   "metadata": {},
   "source": [
    "We can create a map from a single band in the dataset and see the Rrs value by hovering over the map."
   ]
  },
  {
   "cell_type": "code",
   "execution_count": null,
   "id": "e8f33f1f",
   "metadata": {},
   "outputs": [],
   "source": [
    "dataset = xr.open_dataset(paths[-1])"
   ]
  },
  {
   "cell_type": "code",
   "execution_count": null,
   "id": "7c1e7149",
   "metadata": {},
   "outputs": [],
   "source": [
    "def single_band(w):\n",
    "    array = dataset.sel({\"wavelength\": w})\n",
    "    return hv.Image(array, kdims=[\"lon\", \"lat\"], vdims=[\"Rrs\"]).opts(\n",
    "        aspect=\"equal\", frame_width=450, frame_height=250, tools=[\"hover\"]\n",
    "    )"
   ]
  },
  {
   "cell_type": "code",
   "execution_count": null,
   "id": "c4afa892",
   "metadata": {
    "lines_to_next_cell": 2
   },
   "outputs": [],
   "source": [
    "single_band(368)"
   ]
  },
  {
   "cell_type": "markdown",
   "id": "e62e61e0",
   "metadata": {
    "lines_to_next_cell": 2
   },
   "source": [
    "In order to explore the hyperspectral datasets from PACE, we can have a look at the Rrs Spectrum at a certain location."
   ]
  },
  {
   "cell_type": "code",
   "execution_count": null,
   "id": "390f47fa",
   "metadata": {},
   "outputs": [],
   "source": [
    "def spectrum(x, y):\n",
    "    array = dataset.sel({\"lon\": x, \"lat\": y}, method=\"nearest\")\n",
    "    return hv.Curve(array, kdims=[\"wavelength\"]).redim.range(Rrs=(-0.01, 0.04))"
   ]
  },
  {
   "cell_type": "code",
   "execution_count": null,
   "id": "1b005160",
   "metadata": {},
   "outputs": [],
   "source": [
    "spectrum(0, 0)"
   ]
  },
  {
   "cell_type": "markdown",
   "id": "92797236",
   "metadata": {},
   "source": [
    "Now we can build a truly interactive map with a slider to change the mapped band and a capability to show the spectrum where we click on the map. First, we build the slider and its interactivity with the map:"
   ]
  },
  {
   "cell_type": "code",
   "execution_count": null,
   "id": "c33092cf",
   "metadata": {},
   "outputs": [],
   "source": [
    "slider = pnw.DiscreteSlider(name=\"wavelength\", options=list(dataset[\"wavelength\"].data))\n",
    "band_dmap = hv.DynamicMap(single_band, streams={\"w\": slider.param.value})"
   ]
  },
  {
   "cell_type": "markdown",
   "id": "1b6550e3",
   "metadata": {},
   "source": [
    "Then we build the capability to show the Rrs spectrum at the point where we click on the map."
   ]
  },
  {
   "cell_type": "code",
   "execution_count": null,
   "id": "0ea09ee9",
   "metadata": {},
   "outputs": [],
   "source": [
    "points = hv.Points([])\n",
    "tap = Tap(source=points, x=0, y=0)\n",
    "spectrum_dmap = hv.DynamicMap(spectrum, streams=[tap])"
   ]
  },
  {
   "cell_type": "markdown",
   "id": "11d1d0b6",
   "metadata": {},
   "source": [
    "Now try it!"
   ]
  },
  {
   "cell_type": "code",
   "execution_count": null,
   "id": "ac3a30b4",
   "metadata": {},
   "outputs": [],
   "source": [
    "slider"
   ]
  },
  {
   "cell_type": "code",
   "execution_count": null,
   "id": "bf4560e0",
   "metadata": {},
   "outputs": [],
   "source": [
    "(band_dmap * points + spectrum_dmap).opts(shared_axes=False)"
   ]
  },
  {
   "cell_type": "markdown",
   "id": "02874920",
   "metadata": {},
   "source": [
    "[back to top](#Contents)"
   ]
  },
  {
   "cell_type": "markdown",
   "id": "fa3b886a",
   "metadata": {},
   "source": [
    "## 8. Animation from Multiple Angles\n",
    "\n",
    "Let's look at the multi-angular datasets from HARP2. First, download some HARP2 Level-1C data using the short_name value \"PACE_HARP2_L1C_SCI\" in earthaccess.search_data. Level-1C corresponds to geolocated imagery. This means the imagery coming from the satellite has been calibrated and assigned to locations on the Earth's surface.\n"
   ]
  },
  {
   "cell_type": "code",
   "execution_count": null,
   "id": "ffabe5a0",
   "metadata": {},
   "outputs": [],
   "source": [
    "tspan = (\"2024-05-20\", \"2024-05-20\")\n",
    "results = earthaccess.search_data(\n",
    "    short_name=\"PACE_HARP2_L1C_SCI\",\n",
    "    temporal=tspan,\n",
    "    count=1,\n",
    ")"
   ]
  },
  {
   "cell_type": "code",
   "execution_count": null,
   "id": "7ff68404",
   "metadata": {},
   "outputs": [],
   "source": [
    "paths = earthaccess.open(results)"
   ]
  },
  {
   "cell_type": "code",
   "execution_count": null,
   "id": "f644e36d",
   "metadata": {},
   "outputs": [],
   "source": [
    "prod = xr.open_dataset(paths[0])\n",
    "view = xr.open_dataset(paths[0], group=\"sensor_views_bands\").squeeze()\n",
    "geo = xr.open_dataset(paths[0], group=\"geolocation_data\").set_coords(\n",
    "    [\"longitude\", \"latitude\"]\n",
    ")\n",
    "obs = xr.open_dataset(paths[0], group=\"observation_data\").squeeze()"
   ]
  },
  {
   "cell_type": "markdown",
   "id": "30e90010",
   "metadata": {},
   "source": [
    "The `prod` dataset, as usual for OB.DAAC products, contains attributes but no variables. Merge it with the \"observation_data\" and \"geolocation_data\", setting latitude and longitude as auxiliary (e.e. non-index) coordinates, to get started."
   ]
  },
  {
   "cell_type": "code",
   "execution_count": null,
   "id": "71735ff0",
   "metadata": {},
   "outputs": [],
   "source": [
    "dataset = xr.merge((prod, obs, geo))\n",
    "dataset"
   ]
  },
  {
   "cell_type": "markdown",
   "id": "b54f052c",
   "metadata": {},
   "source": [
    "### Understanding Multi-Angle Data\n",
    "\n",
    "HARP2 is a multi-spectral sensor, like OCI, with 4 spectral bands. These roughly correspond to green, red, near infrared (NIR), and blue (in that order). HARP2 is also multi-angle. These angles are with respect to the satellite track. Essentially, HARP2 is always looking ahead, looking behind, and everywhere in between. The number of angles varies per sensor. The red band has 60 angles, while the green, blue, and NIR bands each have 10.\n",
    "\n",
    "In the HARP2 data, the angles and the spectral bands are combined into one axis. I'll refer to this combined axis as HARP2's \"channels.\" Below, we'll make a quick plot both the viewing angles and the wavelengths of HARP2's channels. In both plots, the x-axis is simply the channel index.\n",
    "\n",
    "Pull out the view angles and wavelengths."
   ]
  },
  {
   "cell_type": "code",
   "execution_count": null,
   "id": "51d437f2",
   "metadata": {
    "lines_to_next_cell": 2
   },
   "outputs": [],
   "source": [
    "angles = view[\"sensor_view_angle\"]\n",
    "wavelengths = view[\"intensity_wavelength\"]"
   ]
  },
  {
   "cell_type": "markdown",
   "id": "758b477b",
   "metadata": {
    "lines_to_next_cell": 2
   },
   "source": [
    "### Radiance to Reflectance\n",
    "\n",
    "We can convert radiance into reflectance. For a more in-depth explanation, see [here](https://seadas.gsfc.nasa.gov/help-9.0.0/rad2refl/Rad2ReflAlgorithmSpecification.html#:~:text=Radiance%20is%20the%20variable%20directly,it%2C%20and%20it%20is%20dimensionless). This conversion compensates for the differences in appearance due to the viewing angle and sun angle. Write the conversion as a function, because you may need to repeat it."
   ]
  },
  {
   "cell_type": "code",
   "execution_count": null,
   "id": "b239010e",
   "metadata": {},
   "outputs": [],
   "source": [
    "def rad_to_refl(rad, f0, sza, r):\n",
    "    \"\"\"Convert radiance to reflectance.\n",
    "\n",
    "    Args:\n",
    "        rad: Radiance.\n",
    "        f0: Solar irradiance.\n",
    "        sza: Solar zenith angle.\n",
    "        r: Sun-Earth distance (in AU).\n",
    "\n",
    "    Returns: Reflectance.\n",
    "\n",
    "    \"\"\"\n",
    "    return (r**2) * np.pi * rad / np.cos(sza * np.pi / 180) / f0"
   ]
  },
  {
   "cell_type": "markdown",
   "id": "69418ea9",
   "metadata": {},
   "source": [
    "The difference in appearance (after matplotlib automatically normalizes the data) is negligible, but the difference in the physical meaning of the array values is quite important."
   ]
  },
  {
   "cell_type": "code",
   "execution_count": null,
   "id": "d8e816b9",
   "metadata": {},
   "outputs": [],
   "source": [
    "refl = rad_to_refl(\n",
    "    rad=dataset[\"i\"],\n",
    "    f0=view[\"intensity_f0\"],\n",
    "    sza=dataset[\"solar_zenith_angle\"],\n",
    "    r=float(dataset.attrs[\"sun_earth_distance\"]),\n",
    ")"
   ]
  },
  {
   "cell_type": "markdown",
   "id": "f570a10f",
   "metadata": {},
   "source": [
    "### Animating an Overpass\n",
    "\n",
    "<div class=\"alert alert-warning\" role=\"alert\">\n",
    "\n",
    "WARNING: there is some flickering in the animation displayed in this section.\n",
    "\n",
    "</div>\n",
    "\n",
    "All that is great for looking at a single angle at a time, but it doesn't capture the multi-angle nature of the instrument. Multi-angle data innately captures information about 3D structure. To get a sense of that, we'll make an animation of the scene with the 60 viewing angles available for the red band.\n",
    "\n",
    "We are going to generate this animation without using the latitude and longitude coordinates. If you use XArray's `plot` as above with coordinates, you could use a projection. However, that can be a little slow for all animation \"frames\" available with HARP2. This means there will be some stripes of what seems like missing data at certain angles. These stripes actually result from the gridding of the multi-angle data, and are not a bug."
   ]
  },
  {
   "cell_type": "markdown",
   "id": "975733c5",
   "metadata": {},
   "source": [
    "Get the reflectances of just the red channel, and normalize the reflectance to lie between 0 and 1."
   ]
  },
  {
   "cell_type": "code",
   "execution_count": null,
   "id": "03c3b4c9",
   "metadata": {},
   "outputs": [],
   "source": [
    "refl_red = refl[..., 10:70]\n",
    "refl_pretty = (refl_red - refl_red.min()) / (refl_red.max() - refl_red.min())"
   ]
  },
  {
   "cell_type": "markdown",
   "id": "a059d454",
   "metadata": {},
   "source": [
    "A very mild Gaussian filter over the angular axis will improve the animation's smoothness."
   ]
  },
  {
   "cell_type": "code",
   "execution_count": null,
   "id": "cad2006b",
   "metadata": {},
   "outputs": [],
   "source": [
    "refl_pretty.data = gaussian_filter1d(refl_pretty, sigma=0.5, truncate=2, axis=2)"
   ]
  },
  {
   "cell_type": "markdown",
   "id": "e587876c",
   "metadata": {},
   "source": [
    "Raising the image to the power 2/3 will brighten it a little bit."
   ]
  },
  {
   "cell_type": "code",
   "execution_count": null,
   "id": "8f413a65",
   "metadata": {},
   "outputs": [],
   "source": [
    "refl_pretty = refl_pretty ** (2 / 3)"
   ]
  },
  {
   "cell_type": "markdown",
   "id": "035fb88a",
   "metadata": {},
   "source": [
    "Append all but the first and last frame in reverse order, to get a 'bounce' effect."
   ]
  },
  {
   "cell_type": "code",
   "execution_count": null,
   "id": "1cccd831",
   "metadata": {},
   "outputs": [],
   "source": [
    "frames = np.arange(refl_pretty.sizes[\"number_of_views\"])\n",
    "frames = np.concatenate((frames, frames[-1::-1]))\n",
    "frames"
   ]
  },
  {
   "cell_type": "markdown",
   "id": "87326a86",
   "metadata": {},
   "source": [
    "In order to display an animation in a Jupyter notebook, the \"backend\" for matplotlib has to be explicitly set to \"widget\"."
   ]
  },
  {
   "cell_type": "markdown",
   "id": "c6c00a5d",
   "metadata": {},
   "source": [
    "Now we can use `matplotlib.animation` to create an initial plot, define a function to update that plot for each new frame, and show the resulting animation. When we create the inital plot, we get back the object called `im` below. This object is an instance of `matplotlib.artist.Artist` and is responsible for rendering data on the axes. Our `update` function uses that artist's `set_data` method to leave everything in the plot the same other than the data used to make the image."
   ]
  },
  {
   "cell_type": "code",
   "execution_count": null,
   "id": "2dd27e00",
   "metadata": {},
   "outputs": [],
   "source": [
    "fig, ax = plt.subplots()\n",
    "im = ax.imshow(refl_pretty[{\"number_of_views\": 0}], cmap=\"gray\")\n",
    "\n",
    "\n",
    "def update(i):\n",
    "    im.set_data(refl_pretty[{\"number_of_views\": i}])\n",
    "    return im\n",
    "\n",
    "\n",
    "an = animation.FuncAnimation(fig=fig, func=update, frames=frames, interval=30)\n",
    "filename = f'harp2_red_anim_{dataset.attrs[\"product_name\"].split(\".\")[1]}.gif'\n",
    "an.save(filename, writer=\"pillow\")\n",
    "plt.close()"
   ]
  },
  {
   "cell_type": "markdown",
   "id": "31ac9198",
   "metadata": {},
   "source": [
    "This scene is a great example of multi-layer clouds. You can use the parallax effect to distinguish between these layers.\n",
    "\n",
    "The [sunglint](https://en.wikipedia.org/wiki/Sunglint) is an obvious feature, but you can also make out the [opposition effect](https://en.wikipedia.org/wiki/Opposition_surge) on some of the clouds in the scene. These details would be far harder to identify without multiple angles!\n",
    "\n",
    "![A multi-angle HARP2 animation](../../img/harp2_red_anim_20240519T235950.gif)\n",
    "\n",
    "Notice the cell ends with `plt.close()` rather than the usual `plt.show()`. By default, `matplotlib` will not display an animation. To view the animation, we saved it as a file and displayed the result in the next cell. Alternatively, you could change the default by executing `%matplotlib widget`. The `widget` setting, which works in Jupyter Lab but not on a static website, you can use `plt.show()` as well as `an.pause()` and `an.resume()`."
   ]
  },
  {
   "cell_type": "markdown",
   "id": "9e5c4738",
   "metadata": {},
   "source": [
    "[back to top](#Contents)"
   ]
  }
 ],
 "metadata": {
  "jupytext": {
   "cell_metadata_filter": "all,-trusted",
   "main_language": "python",
   "notebook_metadata_filter": "all,-kernelspec"
  },
  "language_info": {
   "codemirror_mode": {
    "name": "ipython",
    "version": 3
   },
   "file_extension": ".py",
   "mimetype": "text/x-python",
   "name": "python",
   "nbconvert_exporter": "python",
   "pygments_lexer": "ipython3",
   "version": "3.12.7"
  }
 },
 "nbformat": 4,
 "nbformat_minor": 5
}
