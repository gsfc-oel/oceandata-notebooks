{
 "cells": [
  {
   "cell_type": "markdown",
   "id": "c514a72a",
   "metadata": {},
   "source": [
    "# Explore Level-2 Ocean Color Data from the Moderate Resolution Imaging Spectroradiometer (MODIS)\n",
    "\n",
    "**Authors:** Guoqing Wang (NASA, GSFC), Ian Carroll (NASA, UMBC), Eli Holmes (NOAA), Anna Windle (NASA, GSFC)\n",
    "\n",
    "<div class=\"alert alert-info\" role=\"alert\">\n",
    "\n",
    "An [Earthdata Login][edl] account is required to access data from the NASA Earthdata system, including NASA ocean color data.\n",
    "\n",
    "</div>\n",
    "\n",
    "[edl]: https://urs.earthdata.nasa.gov/\n",
    "\n",
    "## Summary\n",
    "\n",
    "This tutorial demonstrates accessing and analyzing NASA ocean color data using Python from the NASA Ocean Biology Distributed Active Archive Center (OB.DAAC) archives. Currently, there are several ways to find and access ocean color data:\n",
    "\n",
    "1. [NASA's Earthdata Search](https://search.earthdata.nasa.gov/search)\n",
    "1. [NASA's CMR API](https://cmr.earthdata.nasa.gov/search/site/docs/search/api.html)\n",
    "1. [OB.DAAC OPENDAP](https://oceandata.sci.gsfc.nasa.gov/opendap/)\n",
    "1. [OB.DAAC File Search](https://oceandata.sci.gsfc.nasa.gov/api/file_search_help)\n",
    "\n",
    "In this tutorial, we will focus on using `earthaccess` Python module to access MODIS Aqua ocean color data through NASA's Common Metadata Repository (CMR), a metadata system that catalogs Earth Science data and associated metadata records. The level 2 dataset of MODIS Aqua is one of the most popular datasets of OB.DAAC. Here we will use MODIS Aqua L2 Chlorophyll *a* data of the Chesapeake Bay as an example.\n",
    "The standard NASA ocean color Chlorophyll *a* algorithm is described in the [Algorithm Theoretical Basis Document (ATBD)](https://www.earthdata.nasa.gov/apt/documents/chlor-a/v1.0).\n",
    "\n",
    "## Learning Objectives\n",
    "\n",
    "At the end of this notebok you will know:\n",
    "* How to find OB.DAAC ocean color data\n",
    "* How to download files using `earthaccess`\n",
    "* How to create a plot using `xarray`\n",
    "\n",
    "## Contents\n",
    "\n",
    "1. [Setup](#1.-Setup)\n",
    "2. [NASA Earthdata Authentication](#2.-NASA-Earthdata-Authentication)\n",
    "3. [Search for Data](#3.-Search-for-Data)\n",
    "4. [Download Data](#4.-Download-Data)\n",
    "5. [Plot Data](#5.-Plot-Data)"
   ]
  },
  {
   "cell_type": "markdown",
   "id": "d02d4576",
   "metadata": {},
   "source": [
    "## 1. Setup\n",
    "\n",
    "We begin by importing all of the packages used in this notebook. If you have created an environment following the [guidance][tutorials] provided with this tutorial, then the imports will be successful.\n",
    "\n",
    "[tutorials]: https://oceancolor.gsfc.nasa.gov/resources/docs/tutorials"
   ]
  },
  {
   "cell_type": "code",
   "execution_count": null,
   "id": "cd2f2157",
   "metadata": {
    "lines_to_next_cell": 2
   },
   "outputs": [],
   "source": [
    "import cartopy\n",
    "import earthaccess\n",
    "import matplotlib.pyplot as plt\n",
    "import numpy as np\n",
    "import xarray as xr\n",
    "from IPython.display import JSON"
   ]
  },
  {
   "cell_type": "markdown",
   "id": "67e91fd3",
   "metadata": {},
   "source": [
    "[back to top](#Contents)"
   ]
  },
  {
   "cell_type": "markdown",
   "id": "af16f76c",
   "metadata": {},
   "source": [
    "## 2. NASA Earthdata Authentication\n",
    "\n",
    "Next, we authenticate using our Earthdata Login\n",
    "credentials. Authentication is not needed to search publicaly\n",
    "available collections in Earthdata, but is always needed to access\n",
    "data. We can use the `login` method from the `earthaccess`\n",
    "package. This will create an authenticated session when we provide a\n",
    "valid Earthdata Login username and password. The `earthaccess`\n",
    "package will search for credentials defined by **environmental\n",
    "variables** or within a **.netrc** file saved in the home\n",
    "directory. If credentials are not found, an interactive prompt will\n",
    "allow you to input credentials.\n",
    "\n",
    "<div class=\"alert alert-info\" role=\"alert\">\n",
    "The <code>persist=True</code> argument ensures any discovered credentials are\n",
    "stored in a <code>.netrc</code> file, so the argument is not necessary (but\n",
    "it's also harmless) for subsequent calls to <code>earthaccess.login</code>.\n",
    "</div>"
   ]
  },
  {
   "cell_type": "code",
   "execution_count": null,
   "id": "1c06c3e5",
   "metadata": {},
   "outputs": [],
   "source": [
    "auth = earthaccess.login(persist=True)"
   ]
  },
  {
   "cell_type": "markdown",
   "id": "2ed080f9",
   "metadata": {},
   "source": [
    "[back to top](#Contents)"
   ]
  },
  {
   "cell_type": "markdown",
   "id": "22f33b8d",
   "metadata": {},
   "source": [
    "## 3. Search for Data\n",
    "\n",
    "The MODIS instrument, on board the Aqua satellite, collects ocean color data, processed from Level-1 through Level-4 and distributed by the OB.DAAC. In this example, we will use the standard Chlorophyll a data from Level-2 ocean color files. To find data we will use the `earthaccess` Python library to search on NASA's CMR API.\n",
    "\n",
    "NASA data collections, i.e. a series of related granules, are discoverable with `earthaccess.search_datasets`. Various search parameters can be used to search collections and granules using metadata attributes. See more details [here](https://github.com/nsidc/earthaccess/blob/main/notebooks/Demo.ipynb). Below, CMR Catalog are queried to find collections with **\"L2 ocean color\"** keyword in them, with the **MODIS** instrument. The returned response can be used to retrieve the `ShortName` and `concept-id` for each dataset."
   ]
  },
  {
   "cell_type": "code",
   "execution_count": null,
   "id": "98e1911c",
   "metadata": {},
   "outputs": [],
   "source": [
    "results = earthaccess.search_datasets(\n",
    "    keyword=\"L2 ocean color\",\n",
    "    instrument=\"MODIS\",\n",
    ")"
   ]
  },
  {
   "cell_type": "markdown",
   "id": "29c194e2",
   "metadata": {},
   "source": [
    "Each result has a `summary` method with information such as the collection's short-name."
   ]
  },
  {
   "cell_type": "code",
   "execution_count": null,
   "id": "7d605230",
   "metadata": {},
   "outputs": [],
   "source": [
    "set((i.summary()[\"short-name\"] for i in results))"
   ]
  },
  {
   "cell_type": "markdown",
   "id": "d6fb6f84",
   "metadata": {},
   "source": [
    "We are interested in the `MODISA_L2_OC` dataset."
   ]
  },
  {
   "cell_type": "markdown",
   "id": "58e7dc02",
   "metadata": {},
   "source": [
    "We can use spatial and temporal arguments to search for granules covering Chesapeake Bay during the time frame of Oct 15 - 23, 2020. We can also add the cloud_cover parameter to filter out granules with too much cloud coverage.\n",
    "cloud_cover = (0, 50) # max 50% of cloud coverage"
   ]
  },
  {
   "cell_type": "code",
   "execution_count": null,
   "id": "3a686f30",
   "metadata": {},
   "outputs": [],
   "source": [
    "tspan = (\"2020-10-15\", \"2020-10-23\")\n",
    "bbox = (-76.75, 36.97, -75.74, 39.01)\n",
    "cc = (0, 50)"
   ]
  },
  {
   "cell_type": "code",
   "execution_count": null,
   "id": "2650df6c",
   "metadata": {},
   "outputs": [],
   "source": [
    "results = earthaccess.search_data(\n",
    "    short_name=\"MODISA_L2_OC\",\n",
    "    temporal=tspan,\n",
    "    bounding_box=bbox,\n",
    "    cloud_cover=cc,\n",
    ")"
   ]
  },
  {
   "cell_type": "markdown",
   "id": "a6f0cfa6",
   "metadata": {},
   "source": [
    "Now we can print some info about these granules using the built-in methods. We can see how each result prefers to display itself."
   ]
  },
  {
   "cell_type": "code",
   "execution_count": null,
   "id": "5e503043",
   "metadata": {},
   "outputs": [],
   "source": [
    "results[0]"
   ]
  },
  {
   "cell_type": "markdown",
   "id": "5bda8285",
   "metadata": {},
   "source": [
    "Or we could use the `data_links` and `size` methods provided on each result."
   ]
  },
  {
   "cell_type": "code",
   "execution_count": null,
   "id": "fff03319",
   "metadata": {},
   "outputs": [],
   "source": [
    "data_links = [{\"links\": i.data_links(), \"size (MB):\": i.size()} for i in results]\n",
    "JSON(data_links, expanded=True)"
   ]
  },
  {
   "cell_type": "markdown",
   "id": "81313ea2",
   "metadata": {},
   "source": [
    "Or we can interactively inspect all the fields underlying a result."
   ]
  },
  {
   "cell_type": "code",
   "execution_count": null,
   "id": "d1b6677c",
   "metadata": {},
   "outputs": [],
   "source": [
    "JSON(results)"
   ]
  },
  {
   "cell_type": "markdown",
   "id": "e548e6c8",
   "metadata": {},
   "source": [
    "[back to top](#Contents)"
   ]
  },
  {
   "cell_type": "markdown",
   "id": "fbba84fd",
   "metadata": {},
   "source": [
    "## 4. Download Data\n",
    "\n",
    "Since the data are not hosted in the Earthdata Cloud (see output from `results[0]` above), we need to download files. This will download the data in a folder called \"data\" in your working directory."
   ]
  },
  {
   "cell_type": "code",
   "execution_count": null,
   "id": "c9a3fe7d",
   "metadata": {},
   "outputs": [],
   "source": [
    "paths = earthaccess.download(results, local_path=\"L2\")"
   ]
  },
  {
   "cell_type": "markdown",
   "id": "38a575c9",
   "metadata": {},
   "source": [
    "[back to top](#Contents)"
   ]
  },
  {
   "cell_type": "markdown",
   "id": "bf4b9a3c",
   "metadata": {},
   "source": [
    "## 5. Plot Data\n",
    "\n",
    "Step-by-step, we'll build a nice map showing the log-transformed chlorophyll a estimate for the first granule we\n",
    "downloaded. The first step is to open some of the \"groups\" present within the NetCDF files to begin preparing\n",
    "a variable to plot."
   ]
  },
  {
   "cell_type": "code",
   "execution_count": null,
   "id": "57625044",
   "metadata": {},
   "outputs": [],
   "source": [
    "prod = xr.open_dataset(paths[0])\n",
    "obs = xr.open_dataset(paths[0], group=\"geophysical_data\")\n",
    "nav = xr.open_dataset(paths[0], group=\"navigation_data\")"
   ]
  },
  {
   "cell_type": "markdown",
   "id": "b6322902",
   "metadata": {},
   "source": [
    "The \"navigation_data\" group has geospatial coordinates that we merge into the \"geophysical_data\" group, which has the\n",
    "\"chlor_a\" product."
   ]
  },
  {
   "cell_type": "code",
   "execution_count": null,
   "id": "28f23e5a",
   "metadata": {},
   "outputs": [],
   "source": [
    "nav = nav.set_coords((\"longitude\", \"latitude\")).rename(\n",
    "    {\"pixel_control_points\": \"pixels_per_line\"}\n",
    ")\n",
    "dataset = xr.merge((prod, obs, nav.coords))"
   ]
  },
  {
   "cell_type": "markdown",
   "id": "1b612a99",
   "metadata": {},
   "source": [
    "Now, we can pull out and fine-tune the \"chlor_a\" variable for visualization."
   ]
  },
  {
   "cell_type": "code",
   "execution_count": null,
   "id": "ced7bf45",
   "metadata": {},
   "outputs": [],
   "source": [
    "array = np.log10(dataset[\"chlor_a\"])\n",
    "array.attrs.update(\n",
    "    {\n",
    "        \"units\": f'log10({dataset[\"chlor_a\"].attrs[\"units\"]})',\n",
    "    }\n",
    ")"
   ]
  },
  {
   "cell_type": "markdown",
   "id": "b1f709a8",
   "metadata": {},
   "source": [
    "The `plot` method from XArray's plotting API is an easy way to take an `xr.Dataset` or `xr.DataArray` to\n",
    "a `matplotlib` figure."
   ]
  },
  {
   "cell_type": "code",
   "execution_count": null,
   "id": "70bdaf9b",
   "metadata": {},
   "outputs": [],
   "source": [
    "im = array.plot(x=\"longitude\", y=\"latitude\", aspect=2, size=4, cmap=\"jet\", robust=True)"
   ]
  },
  {
   "cell_type": "markdown",
   "id": "b6c952ea",
   "metadata": {},
   "source": [
    "We can enrich the visualiation using `matplotlib` and `cartopy`. The coordinates are latitude and longitude, so if we add the \"Plate Carree\" coordinate reference system (CRS) to our axes, we will get an improved map."
   ]
  },
  {
   "cell_type": "code",
   "execution_count": null,
   "id": "2ce9621b",
   "metadata": {},
   "outputs": [],
   "source": [
    "fig = plt.figure(figsize=(10, 7))\n",
    "ax = plt.axes(projection=cartopy.crs.PlateCarree())\n",
    "im = array.plot(x=\"longitude\", y=\"latitude\", cmap=\"jet\", robust=True, ax=ax)\n",
    "ax.gridlines(draw_labels={\"bottom\": \"x\", \"left\": \"y\"})\n",
    "ax.add_feature(cartopy.feature.STATES, linewidth=0.5)\n",
    "ax.set_title(dataset.attrs[\"product_name\"], loc=\"center\")\n",
    "plt.show()"
   ]
  },
  {
   "cell_type": "markdown",
   "id": "0221b636",
   "metadata": {},
   "source": [
    "[back to top](#Contents)\n",
    "\n",
    "<div class=\"alert alert-info\" role=\"alert\">\n",
    "\n",
    "You have completed the notebook on Aqua/MODIS L2 data exploration.\n",
    "\n",
    "</div>"
   ]
  }
 ],
 "metadata": {
  "jupytext": {
   "cell_metadata_filter": "all,-trusted",
   "main_language": "python",
   "notebook_metadata_filter": "all,-kernelspec"
  },
  "language_info": {
   "codemirror_mode": {
    "name": "ipython",
    "version": 3
   },
   "file_extension": ".py",
   "mimetype": "text/x-python",
   "name": "python",
   "nbconvert_exporter": "python",
   "pygments_lexer": "ipython3",
   "version": "3.12.7"
  }
 },
 "nbformat": 4,
 "nbformat_minor": 5
}
