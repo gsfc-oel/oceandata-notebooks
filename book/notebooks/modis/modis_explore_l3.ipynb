{
 "cells": [
  {
   "cell_type": "markdown",
   "id": "a2f88b75",
   "metadata": {},
   "source": [
    "# Explore Level-3 Ocean Color Data from the Moderate Resolution Imaging Spectroradiometer (MODIS)\n",
    "\n",
    "**Authors:** Guoqing Wang (NASA, GSFC), Ian Carroll (NASA, UMBC), Eli Holmes (NOAA)\n",
    "\n",
    "<div class=\"alert alert-success\" role=\"alert\">\n",
    "\n",
    "The following notebooks are **prerequisites** for this tutorial.\n",
    "\n",
    "- Learn with MODIS: [Explore Level-2 Ocean Color Data][modis_explore_l2]\n",
    "\n",
    "</div>\n",
    "\n",
    "<div class=\"alert alert-info\" role=\"alert\">\n",
    "\n",
    "An [Earthdata Login][edl] account is required to access data from the NASA Earthdata system, including NASA ocean color data.\n",
    "\n",
    "</div>\n",
    "\n",
    "[edl]: https://urs.earthdata.nasa.gov/\n",
    "[modis_explore_l2]: https://oceancolor.gsfc.nasa.gov/resources/docs/tutorials/notebooks/modis_explore_l2/\n",
    "\n",
    "## Summary\n",
    "\n",
    "This tutorial demonstrates accessing and analyzing NASA ocean color data from the NASA Ocean Biology Distributed Active Archive Center (OBDAAC) archives. Currently, there are several ways to find and access ocean color data:\n",
    "\n",
    "1. [NASA's Earthdata Search](https://search.earthdata.nasa.gov/search)\n",
    "2. [NASA's CMR API](https://cmr.earthdata.nasa.gov/search/site/docs/search/api.html)\n",
    "3. [OB.DAAC OPENDAP](https://oceandata.sci.gsfc.nasa.gov/opendap/)\n",
    "4. [OB.DAAC File Search](https://oceandata.sci.gsfc.nasa.gov/api/file_search_help)\n",
    "\n",
    "In this tutorial, we will focus on using `earthaccess` Python module to access ocean color data through NASA's Common Metadata Repository (CMR), a metadata system that catalogs Earth Science data and associated metadata records.\n",
    "\n",
    "The Level-3 datasets of Aqua/MODIS include multiple types of temporally and spatially aggregated data. We will look at 8-day averaged and monthly averaged data at 4km resolution. We will plot chlorophyll-a (chlor_a) and remote-sensing reflectance at 412 nm (Rrs_412) data.\n",
    "\n",
    "## Learning Objectives\n",
    "\n",
    "At the end of this notebok you will know:\n",
    "* How to find OB.DAAC ocean color data\n",
    "* How to download files using `earthaccess`\n",
    "* How to create a plot using `xarray`\n",
    "\n",
    "## Contents\n",
    "\n",
    "1. [Setup](#1.-Setup)\n",
    "2. [Access Data](#2.-Access-Data)\n",
    "3. [Plot Data](#3.-Plot-Data)"
   ]
  },
  {
   "cell_type": "markdown",
   "id": "e829c9cc",
   "metadata": {},
   "source": [
    "## 1. Setup\n",
    "\n",
    "We begin by importing all of the packages used in this notebook. If you have created an environment following the [guidance][tutorials] provided with this tutorial, then the imports will be successful.\n",
    "\n",
    "[tutorials]: https://oceancolor.gsfc.nasa.gov/resources/docs/tutorials"
   ]
  },
  {
   "cell_type": "code",
   "execution_count": null,
   "id": "a36c4b7c",
   "metadata": {},
   "outputs": [],
   "source": [
    "import cartopy\n",
    "import earthaccess\n",
    "import numpy as np\n",
    "import xarray as xr\n",
    "from matplotlib import pyplot as plt"
   ]
  },
  {
   "cell_type": "code",
   "execution_count": null,
   "id": "c5a6a6de",
   "metadata": {},
   "outputs": [],
   "source": [
    "auth = earthaccess.login(persist=True)"
   ]
  },
  {
   "cell_type": "markdown",
   "id": "c4a6cf7f",
   "metadata": {},
   "source": [
    "[back to top](#Contents)"
   ]
  },
  {
   "cell_type": "markdown",
   "id": "37867def",
   "metadata": {},
   "source": [
    "## 2. Access Data\n",
    "\n",
    "In this example, the image to be used is MODIS AQUA L3 8-day averaged 4km chlorophyll image for Sep 13-20, 2016 and the January 2020 monthly average for Rrs_412. First we need to search for that data. These data are hosted by the OB.DAAC. The `earthaccess.search_datasets` function queries the CMR for collections. To do this search we need to know something about the data information, particularly that we are looking for `L3m` or Level-3 mapped collections and MODIS AQUA."
   ]
  },
  {
   "cell_type": "code",
   "execution_count": null,
   "id": "24a5572a",
   "metadata": {},
   "outputs": [],
   "source": [
    "results = earthaccess.search_datasets(\n",
    "    keyword=\"L3m ocean color modis aqua chlorophyll\",\n",
    "    instrument=\"MODIS\",\n",
    ")"
   ]
  },
  {
   "cell_type": "code",
   "execution_count": null,
   "id": "5eb7bd5a",
   "metadata": {},
   "outputs": [],
   "source": [
    "set((i.summary()[\"short-name\"] for i in results))"
   ]
  },
  {
   "cell_type": "markdown",
   "id": "65a47b5e",
   "metadata": {},
   "source": [
    "You will want to go on to https://search.earthdata.nasa.gov/ and enter the short names to read about each data collection. We want to use the `MODISA_L3m_CHL` data collection for our first plot. We can get the files (granules) in that collection with `earthaccess.search_data()`."
   ]
  },
  {
   "cell_type": "code",
   "execution_count": null,
   "id": "0de7dde1",
   "metadata": {},
   "outputs": [],
   "source": [
    "tspan = (\"2016-09-20\", \"2016-09-20\")\n",
    "results = earthaccess.search_data(\n",
    "    short_name=\"MODISA_L3m_CHL\",\n",
    "    temporal=tspan,\n",
    ")"
   ]
  },
  {
   "cell_type": "markdown",
   "id": "f7c4fbdd",
   "metadata": {},
   "source": [
    "Clearly, that's too many granules for a single day! The OB.DAAC publishes multiple variants of a dataset under the same short name, and the only way to distinguish them is by the product or granule name. The CMR search allows a `granule_name` parameter with wildcards for\n",
    "this kind of filter. The strings we need to see in the granule name are \".8D\" and \".9km\" (the \".\" is a separator used in granule names)."
   ]
  },
  {
   "cell_type": "code",
   "execution_count": null,
   "id": "291ea7ee",
   "metadata": {},
   "outputs": [],
   "source": [
    "results = earthaccess.search_data(\n",
    "    short_name=\"MODISA_L3m_CHL\",\n",
    "    granule_name=\"*.8D*.9km*\",\n",
    "    temporal=tspan,\n",
    ")"
   ]
  },
  {
   "cell_type": "code",
   "execution_count": null,
   "id": "3bb72398",
   "metadata": {},
   "outputs": [],
   "source": [
    "results[0]"
   ]
  },
  {
   "cell_type": "markdown",
   "id": "37bde399",
   "metadata": {},
   "source": [
    "We need to check if the data are cloud-hosted. If *they* are *and we* are, we can load into memory directly without downloading. If they are not cloud-hosted, we need to download the data file."
   ]
  },
  {
   "cell_type": "code",
   "execution_count": null,
   "id": "80ae6c1f",
   "metadata": {},
   "outputs": [],
   "source": [
    "results[0].cloud_hosted"
   ]
  },
  {
   "cell_type": "markdown",
   "id": "23664077",
   "metadata": {},
   "source": [
    "The data are not cloud-hosted so we download with `earthaccess.download()`."
   ]
  },
  {
   "cell_type": "code",
   "execution_count": null,
   "id": "2f39d3fd",
   "metadata": {},
   "outputs": [],
   "source": [
    "paths = earthaccess.download(results, \"data\")"
   ]
  },
  {
   "cell_type": "code",
   "execution_count": null,
   "id": "065e3ef4",
   "metadata": {},
   "outputs": [],
   "source": [
    "dataset = xr.open_dataset(paths[0])\n",
    "dataset"
   ]
  },
  {
   "cell_type": "markdown",
   "id": "9b0cc7c1",
   "metadata": {},
   "source": [
    "[back to top](#Contents)"
   ]
  },
  {
   "cell_type": "markdown",
   "id": "3b1cb493",
   "metadata": {},
   "source": [
    "## 3. Plot Data"
   ]
  },
  {
   "cell_type": "code",
   "execution_count": null,
   "id": "5d105875",
   "metadata": {},
   "outputs": [],
   "source": [
    "array = np.log10(dataset[\"chlor_a\"])\n",
    "array.attrs.update(\n",
    "    {\n",
    "        \"units\": f'log10({dataset[\"chlor_a\"].attrs[\"units\"]})',\n",
    "    }\n",
    ")\n",
    "crs_proj = cartopy.crs.Robinson()\n",
    "crs_data = cartopy.crs.PlateCarree()"
   ]
  },
  {
   "cell_type": "code",
   "execution_count": null,
   "id": "658a0ce2",
   "metadata": {},
   "outputs": [],
   "source": [
    "fig = plt.figure(figsize=(10, 5))\n",
    "ax = fig.add_subplot(projection=crs_proj)\n",
    "im = array.plot(x=\"lon\", y=\"lat\", cmap=\"jet\", ax=ax, robust=True, transform=crs_data)\n",
    "ax.coastlines()\n",
    "ax.set_title(dataset.attrs[\"product_name\"])\n",
    "plt.show()"
   ]
  },
  {
   "cell_type": "markdown",
   "id": "908009c6",
   "metadata": {},
   "source": [
    "Repeat these steps to map the monthly Rrs_412 dataset, a temporal average of cloud-free pixels, aggregated to 9km spatial resolution, for October 2020."
   ]
  },
  {
   "cell_type": "code",
   "execution_count": null,
   "id": "552a1423",
   "metadata": {},
   "outputs": [],
   "source": [
    "tspan = (\"2020-10-01\", \"2020-10-01\")\n",
    "results = earthaccess.search_data(\n",
    "    short_name=\"MODISA_L3m_RRS\",\n",
    "    granule_name=\"*.MO*.Rrs_412*.9km*\",\n",
    "    temporal=tspan,\n",
    ")"
   ]
  },
  {
   "cell_type": "code",
   "execution_count": null,
   "id": "ac328c9f",
   "metadata": {},
   "outputs": [],
   "source": [
    "paths = earthaccess.download(results, \"data\")"
   ]
  },
  {
   "cell_type": "code",
   "execution_count": null,
   "id": "a245ecd3",
   "metadata": {},
   "outputs": [],
   "source": [
    "dataset = xr.open_dataset(paths[0])"
   ]
  },
  {
   "cell_type": "code",
   "execution_count": null,
   "id": "934e3b22",
   "metadata": {},
   "outputs": [],
   "source": [
    "fig = plt.figure(figsize=(10, 5))\n",
    "ax = plt.axes(projection=crs_proj)\n",
    "im = dataset[\"Rrs_412\"].plot(\n",
    "    x=\"lon\", y=\"lat\", cmap=\"jet\", robust=True, ax=ax, transform=crs_data\n",
    ")\n",
    "ax.coastlines()\n",
    "ax.set_title(dataset.attrs[\"product_name\"])\n",
    "plt.show()"
   ]
  },
  {
   "cell_type": "markdown",
   "id": "10ade0b5",
   "metadata": {},
   "source": [
    "[back to top](#Contents)\n",
    "\n",
    "<div class=\"alert alert-info\" role=\"alert\">\n",
    "\n",
    "You have completed the notebook on Level-3 mapped ocean color data from Aqua/MODIS.\n",
    "\n",
    "</div>"
   ]
  }
 ],
 "metadata": {
  "jupytext": {
   "cell_metadata_filter": "all,-trusted",
   "main_language": "python",
   "notebook_metadata_filter": "all,-kernelspec"
  },
  "language_info": {
   "codemirror_mode": {
    "name": "ipython",
    "version": 3
   },
   "file_extension": ".py",
   "mimetype": "text/x-python",
   "name": "python",
   "nbconvert_exporter": "python",
   "pygments_lexer": "ipython3",
   "version": "3.12.7"
  }
 },
 "nbformat": 4,
 "nbformat_minor": 5
}
