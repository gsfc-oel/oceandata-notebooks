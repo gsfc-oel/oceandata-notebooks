{
 "cells": [
  {
   "cell_type": "markdown",
   "id": "ee486928",
   "metadata": {},
   "source": [
    "# Access Data from the Ocean Color Instrument (OCI)\n",
    "\n",
    "**Authors:** Anna Windle (NASA, SSAI), Ian Carroll (NASA, UMBC), Carina Poulin (NASA, SSAI)\n",
    "\n",
    "<div class=\"alert alert-info\" role=\"alert\">\n",
    "\n",
    "An [Earthdata Login][edl] account is required to access data from the NASA Earthdata system, including NASA ocean color data.\n",
    "\n",
    "</div>\n",
    "\n",
    "[edl]: https://urs.earthdata.nasa.gov/\n",
    "\n",
    "## Summary\n",
    "\n",
    "In this example we will use the `earthaccess` package to search for\n",
    "OCI products on NASA Earthdata. The `earthaccess` package, published\n",
    "on the [Python Package Index][pypi] and [conda-forge][conda],\n",
    "facilitates discovery and use of all NASA Earth Science data\n",
    "products by providing an abstraction layer for NASA’s [Common\n",
    "Metadata Repository (CMR) API][cmr] and by simplifying requests to\n",
    "NASA's [Earthdata Cloud][edcloud]. Searching for data is more\n",
    "approachable using `earthaccess` when compared to using low-level\n",
    "HTTP requests or working diectly with S3 object stores.\n",
    "\n",
    "In short, `earthaccess` helps **authenticate** with Earthdata Login,\n",
    "makes **search** easier, and provides a stream-lined way to **load\n",
    "data** into `xarray` containers. For more on `earthaccess`, visit\n",
    "the [documentation][earthaccess-docs] site. Be aware that\n",
    "`earthaccess` is under active development.\n",
    "\n",
    "To understand the discussions below on downloading and opening data,\n",
    "we need to clearly understand **where our notebook is\n",
    "running**. There are three cases to distinguish:\n",
    "\n",
    "1. The notebook is running on the local host. A Jupyter server on your laptop is a local host.\n",
    "1. The notebook is running on a remote host, but it does not have direct access to the NASA Earthdata Cloud. For instance, [GitHub Codespaces][codespaces] is a remote host that runs on a different cloud platform than the NASA Earthdata Cloud.\n",
    "1. The notebook is running on a remote host that does have direct access to the NASA Earthdata Cloud.\n",
    "\n",
    "[pypi]: https://pypi.org/\n",
    "[conda]: https://oceancolor.gsfc.nasa.gov/resources/docs/tutorials/notebooks/oci-data-access/\n",
    "[cmr]: https://www.earthdata.nasa.gov/eosdis/science-system-description/eosdis-components/cmr\n",
    "[edcloud]: https://www.earthdata.nasa.gov/eosdis/cloud-evolution\n",
    "[earthaccess-docs]: https://earthaccess.readthedocs.io/en/latest/\n",
    "[codespaces]: https://github.com/features/codespaces\n",
    "\n",
    "## Learning Objectives\n",
    "\n",
    "At the end of this notebook you will know:\n",
    "\n",
    "* How to store your NASA Earthdata Login credentials with `earthaccess`\n",
    "* How to use `earthaccess` to search for OCI data using search filters\n",
    "* How to download OCI data, but only when you need to\n",
    "\n",
    "## Contents\n",
    "\n",
    "1. [Setup](#1.-Setup)\n",
    "2. [NASA Earthdata Authentication](#2.-NASA-Earthdata-Authentication)\n",
    "3. [Search for Data](#3.-Search-for-Data)\n",
    "4. [Open Data](#4.-Open-Data)\n",
    "5. [Download Data](#5.-Download-Data)"
   ]
  },
  {
   "cell_type": "markdown",
   "id": "158fd04a",
   "metadata": {},
   "source": [
    "## 1. Setup\n",
    "\n",
    "We begin by importing the packages used in this notebook."
   ]
  },
  {
   "cell_type": "code",
   "execution_count": null,
   "id": "b8479840",
   "metadata": {},
   "outputs": [],
   "source": [
    "import earthaccess\n",
    "import xarray as xr"
   ]
  },
  {
   "cell_type": "markdown",
   "id": "025325ab",
   "metadata": {},
   "source": [
    "[back to top](#Contents)"
   ]
  },
  {
   "cell_type": "markdown",
   "id": "692a430f",
   "metadata": {},
   "source": [
    "## 2. NASA Earthdata Authentication\n",
    "\n",
    "Next, we authenticate using our Earthdata Login\n",
    "credentials. Authentication is not needed to search publicly\n",
    "available collections in Earthdata, but is always needed to access\n",
    "data. We use the `login` method from the `earthaccess`\n",
    "package. This will create an authenticated session when we provide a\n",
    "valid Earthdata Login username and password. The `earthaccess`\n",
    "package will search for credentials defined by **environmental\n",
    "variables** or within a **.netrc** file saved in the home\n",
    "directory. If credentials are not found, an interactive prompt will\n",
    "allow you to input credentials.\n",
    "\n",
    "<div class=\"alert alert-info\" role=\"alert\">\n",
    "\n",
    "The `persist=True` argument ensures any discovered credentials are\n",
    "stored in a `.netrc` file, so the argument is not necessary (but\n",
    "it's also harmless) for subsequent calls to `earthaccess.login`.\n",
    "\n",
    "</div>"
   ]
  },
  {
   "cell_type": "code",
   "execution_count": null,
   "id": "6331a0e1",
   "metadata": {},
   "outputs": [],
   "source": [
    "auth = earthaccess.login(persist=True)"
   ]
  },
  {
   "cell_type": "markdown",
   "id": "415acf05",
   "metadata": {},
   "source": [
    "[back to top](#Contents)"
   ]
  },
  {
   "cell_type": "markdown",
   "id": "dd739a28",
   "metadata": {},
   "source": [
    "## 3. Search for Data\n",
    "\n",
    "Collections on NASA Earthdata are discovered with the\n",
    "`search_datasets` function, which accepts an `instrument` filter as an\n",
    "easy way to get started. Each item in the list of\n",
    "collections returned in the search results has a \"short-name\"."
   ]
  },
  {
   "cell_type": "code",
   "execution_count": null,
   "id": "f03b68f9",
   "metadata": {},
   "outputs": [],
   "source": [
    "results = earthaccess.search_datasets(instrument=\"oci\")"
   ]
  },
  {
   "cell_type": "code",
   "execution_count": null,
   "id": "76e55e7f",
   "metadata": {},
   "outputs": [],
   "source": [
    "for item in results:\n",
    "    summary = item.summary()\n",
    "    print(summary[\"short-name\"])"
   ]
  },
  {
   "cell_type": "markdown",
   "id": "26e5eb37",
   "metadata": {},
   "source": [
    "<div class=\"alert alert-info\" role=\"alert\">\n",
    "\n",
    "The short name can also be found on [Earthdata Search](https://search.earthdata.nasa.gov/search?fi=OCI),\n",
    "directly under the collection name, after clicking on the \"i\" button for a collection in any search result.\n",
    "\n",
    "</div>\n",
    "\n",
    "Next, we use the `search_data` function (as opposed to `search_datasets`) to\n",
    "find granules within a collection. Let's use the `short_name` for the PACE/OCI Level-2\n",
    "near real time (NRT) product for biogeochemical properties (although you can\n",
    "search for granules accross collections too).\n",
    "\n",
    "The `count` argument limits the number of granule records that are returned in the search results."
   ]
  },
  {
   "cell_type": "code",
   "execution_count": null,
   "id": "ac4221f3",
   "metadata": {},
   "outputs": [],
   "source": [
    "results = earthaccess.search_data(\n",
    "    short_name=\"PACE_OCI_L2_BGC_NRT\",\n",
    "    count=1,\n",
    ")"
   ]
  },
  {
   "cell_type": "markdown",
   "id": "1951e63f",
   "metadata": {},
   "source": [
    "Displaying results shows the direct download link (try it!), along\n",
    "with a \"quick-look\" of some variable within the granule. The\n",
    "link will download the granule to your local machine, which may or\n",
    "may not be what you want to do. Even if you are running the notebook\n",
    "on a remote host, this download link will open a new browser tab or\n",
    "window and offer to save a file to your local machine. If you are\n",
    "running the notebook locally, this may be of use. More likely, you\n",
    "want to open or download the granules by following the steps below."
   ]
  },
  {
   "cell_type": "code",
   "execution_count": null,
   "id": "43b2b206",
   "metadata": {},
   "outputs": [],
   "source": [
    "results[0]"
   ]
  },
  {
   "cell_type": "markdown",
   "id": "91cb151e",
   "metadata": {},
   "source": [
    "We can refine our search by passing more parameters that describe\n",
    "the spatiotemporal domain of our use case. Here, we use the\n",
    "`temporal` parameter to request a date range and the `bounding_box`\n",
    "parameter to request granules that intersect with a bounding box. We\n",
    "can even provide a `cloud_cover` threshold to limit files that have\n",
    "a lower percetnage of cloud cover. We do not provide a `count`, so\n",
    "we'll get all granules that satisfy the constraints."
   ]
  },
  {
   "cell_type": "code",
   "execution_count": null,
   "id": "1fa00df1",
   "metadata": {},
   "outputs": [],
   "source": [
    "tspan = (\"2024-05-01\", \"2024-05-16\")\n",
    "bbox = (-76.75, 36.97, -75.74, 39.01)\n",
    "clouds = (0, 50)"
   ]
  },
  {
   "cell_type": "code",
   "execution_count": null,
   "id": "cc7bef4e",
   "metadata": {},
   "outputs": [],
   "source": [
    "results = earthaccess.search_data(\n",
    "    short_name=\"PACE_OCI_L2_BGC_NRT\",\n",
    "    temporal=tspan,\n",
    "    bounding_box=bbox,\n",
    "    cloud_cover=clouds,\n",
    ")"
   ]
  },
  {
   "cell_type": "code",
   "execution_count": null,
   "id": "1880072e",
   "metadata": {},
   "outputs": [],
   "source": [
    "results[0]"
   ]
  },
  {
   "cell_type": "code",
   "execution_count": null,
   "id": "cdf11b73",
   "metadata": {},
   "outputs": [],
   "source": [
    "results[1]"
   ]
  },
  {
   "cell_type": "code",
   "execution_count": null,
   "id": "56d09b11",
   "metadata": {},
   "outputs": [],
   "source": [
    "results[2]"
   ]
  },
  {
   "cell_type": "markdown",
   "id": "78c1cd84",
   "metadata": {},
   "source": [
    "[back to top](#Contents)"
   ]
  },
  {
   "cell_type": "markdown",
   "id": "ed0a5a44",
   "metadata": {},
   "source": [
    "## 4. Open Data\n",
    "\n",
    "The results returned by `earthaccess.search_data` are just catalog entries, but include\n",
    "links to the data that we are able to access with `xarray`. The `earthaccess.open` function\n",
    "is used when you want to directly load data from a remote filesystem without downloading whole granules.\n",
    "When running code on a host with direct access to the NASA Earthdata Cloud, you don't need to download\n",
    "the granule and `earthaccess.open` is the way to go.\n",
    "\n",
    "Here is another search, this time for Level-3 granules from a single day, followed by `earthaccess.open`\n",
    "on the `results` list."
   ]
  },
  {
   "cell_type": "code",
   "execution_count": null,
   "id": "25c31b9e",
   "metadata": {},
   "outputs": [],
   "source": [
    "results = earthaccess.search_data(\n",
    "    short_name=\"PACE_OCI_L3M_CHL_NRT\",\n",
    "    temporal=(\"2024-06-01\", \"2024-06-01\"),\n",
    ")\n",
    "paths = earthaccess.open(results)"
   ]
  },
  {
   "cell_type": "markdown",
   "id": "352ad305",
   "metadata": {},
   "source": [
    "The list of outputs, which we called `paths`, contains references to files on a remote filesystem. They're not\n",
    "paths to a local file, but many utilities that expect a file path can also use these \"file-like\" paths."
   ]
  },
  {
   "cell_type": "code",
   "execution_count": null,
   "id": "2ef7d578",
   "metadata": {},
   "outputs": [],
   "source": [
    "paths"
   ]
  },
  {
   "cell_type": "markdown",
   "id": "d0200f1d",
   "metadata": {},
   "source": [
    "<div class=\"alert alert-danger\" role=\"alert\">\n",
    "\n",
    "The string \"ob-cumulus-prod-public\" is the name of an AWS S3 bucket in the \"us-west-2\" region. If you don't see\n",
    "that string in the output above, then `earthaccess` has determined that you do not have\n",
    "direct access to the NASA Earthdata Cloud.\n",
    "\n",
    "</div>"
   ]
  },
  {
   "cell_type": "markdown",
   "id": "fa98de31",
   "metadata": {},
   "source": [
    "Despite not having downloaded these granules, we can now access their content with `xarray`. As always,\n",
    "the `xarray` package does \"lazy loading\", so only coordinates are loaded until the daa variables are\n",
    "actually needed."
   ]
  },
  {
   "cell_type": "code",
   "execution_count": null,
   "id": "10e6ce3e",
   "metadata": {},
   "outputs": [],
   "source": [
    "dataset = xr.open_dataset(paths[0])\n",
    "dataset"
   ]
  },
  {
   "cell_type": "markdown",
   "id": "a6059aa1",
   "metadata": {},
   "source": [
    "Even if you only want to read a slice of the data, and downloading\n",
    "seems unncessary, if you use `earthaccess.open` while not running on\n",
    "a remote host with direct access to the NASA Earthdata Cloud,\n",
    "performance will be very poor. This is not a problem with the\n",
    "cloud or with `earthaccess`, it has to do with the data format and\n",
    "may soon be improved.\n",
    "\n",
    "For one reason or another, you also need to know how to download whole granules\n",
    "to the local or remote host running your code."
   ]
  },
  {
   "cell_type": "markdown",
   "id": "5f00d285",
   "metadata": {},
   "source": [
    "## 5. Download Data\n",
    "\n",
    "When you do not have direct access to the Earthdata Cloud, you'll want to download the data. You may also\n",
    "want to download a granule for faster reads while you are learning your way around the files. Rather\n",
    "than `earthaccess.open` we call `earthaccess.download` on the same search results.\n",
    "\n",
    "For this function, provide the list returned by `earthaccess.search_data`\n",
    "along with a directory for `earthaccess` to use for the downloads."
   ]
  },
  {
   "cell_type": "code",
   "execution_count": null,
   "id": "9d9f44bd",
   "metadata": {},
   "outputs": [],
   "source": [
    "paths = earthaccess.download(results, local_path=\"granules\")"
   ]
  },
  {
   "cell_type": "markdown",
   "id": "6ba71725",
   "metadata": {},
   "source": [
    "The `paths` list now contains paths to actual files."
   ]
  },
  {
   "cell_type": "code",
   "execution_count": null,
   "id": "47aad337",
   "metadata": {},
   "outputs": [],
   "source": [
    "paths"
   ]
  },
  {
   "cell_type": "markdown",
   "id": "8f4433c8",
   "metadata": {},
   "source": [
    "We can open one of these downnloaded files in just the same way with `xarray`."
   ]
  },
  {
   "cell_type": "code",
   "execution_count": null,
   "id": "de6027e2",
   "metadata": {},
   "outputs": [],
   "source": [
    "dataset = xr.open_dataset(paths[0])\n",
    "dataset"
   ]
  },
  {
   "cell_type": "markdown",
   "id": "ab8665ec",
   "metadata": {},
   "source": [
    "<div class=\"alert alert-block alert-warning\">\n",
    "\n",
    "Anywhere in any of [these notebooks](https://oceancolor.gsfc.nasa.gov/resources/docs/tutorials/) where `paths = earthaccess.open(...)` is used to read data directly from the NASA Earthdata Cloud, you need to substitute `paths = earthaccess.download(..., local_path)` before running the notebook on a local host or a remote host that does not have direct access to the NASA Earthdata Cloud.\n",
    "\n",
    "</div>"
   ]
  },
  {
   "cell_type": "markdown",
   "id": "9c2709b7",
   "metadata": {},
   "source": [
    "[back to top](#Contents)\n",
    "\n",
    "<div class=\"alert alert-info\" role=\"alert\">\n",
    "\n",
    "You have completed the notebook on downloading and opening datasets. We now suggest starting the notebook on \"File Structure at Three Processing Levels\".\n",
    "\n",
    "</div>"
   ]
  }
 ],
 "metadata": {
  "jupytext": {
   "cell_metadata_filter": "all,-trusted",
   "main_language": "python",
   "notebook_metadata_filter": "-all,jupytext,language_info.name"
  },
  "language_info": {
   "name": "python"
  }
 },
 "nbformat": 4,
 "nbformat_minor": 5
}
