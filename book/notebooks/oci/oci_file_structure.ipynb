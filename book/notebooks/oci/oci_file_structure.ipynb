{
 "cells": [
  {
   "cell_type": "markdown",
   "id": "cc1e9312",
   "metadata": {},
   "source": [
    "# File Structure at Three Processing Levels for the Ocean Color Instrument (OCI)\n",
    "\n",
    "**Authors:** Anna Windle (NASA, SSAI), Ian Carroll (NASA, UMBC), Carina Poulin (NASA, SSAI)\n",
    "\n",
    "<div class=\"alert alert-success\" role=\"alert\">\n",
    "\n",
    "The following notebooks are **prerequisites** for this tutorial.\n",
    "\n",
    "- Learn with OCI: [Data Access][oci-data-access]\n",
    "\n",
    "</div>\n",
    "\n",
    "<div class=\"alert alert-info\" role=\"alert\">\n",
    "\n",
    "An [Earthdata Login][edl] account is required to access data from the NASA Earthdata system, including NASA ocean color data.\n",
    "\n",
    "</div>\n",
    "\n",
    "[edl]: https://urs.earthdata.nasa.gov/\n",
    "[oci-data-access]: https://oceancolor.gsfc.nasa.gov/resources/docs/tutorials/notebooks/oci_data_access/\n",
    "\n",
    "## Summary\n",
    "\n",
    "In this example we will use the `earthaccess` package to access OCI Level-1B (L1B), Level-2 (L2), and Level-3 (L3) NetCDF files and open them using `xarray`. While you can learn alot exploring the datasets in this way, be ready to refer to the full [dataset documentation][user-guides] for details about the data products and processing.\n",
    "\n",
    "**NetCDF** ([Network Common Data Format][netcdf]) is a binary file format for storing multidimensional scientific data (variables). It is optimized for array-oriented data access and support a machine-independent format for representing scientific data. Files ending in `.nc` are NetCDF files.\n",
    "\n",
    "**XArray** is a [package][xarray] that supports the use of multi-dimensional arrays in Python. It is widely used to handle Earth observation data, which often involves multiple dimensions — for instance, longitude, latitude, time, and channels/bands.\n",
    "\n",
    "[netcdf]: https://www.unidata.ucar.edu/software/netcdf/\n",
    "[user-guides]: https://oceancolor.gsfc.nasa.gov/resources/docs/technical/#UG\n",
    "[xarray]: https://docs.xarray.dev/\n",
    "\n",
    "## Learning Objectives\n",
    "\n",
    "At the end of this notebok you will know:\n",
    "* How to find groups in a NetCDF file\n",
    "* How to use `xarray` to open OCI data\n",
    "* What key variables are present in the groups within OCI L1B, L2, and L3 files\n",
    "\n",
    "## Contents\n",
    "\n",
    "1. [Setup](#1.-Setup)\n",
    "2. [Explore L1B File Structure](#2.-Explore-L1B-File-Structure)\n",
    "3. [Explore L2 File Structure](#3.-Explore-L2-File-Structure)\n",
    "4. [Explore L3 File Structure](#4.-Explore-L3-File-Structure)"
   ]
  },
  {
   "cell_type": "markdown",
   "id": "cb2d265d",
   "metadata": {},
   "source": [
    "## 1. Setup\n",
    "\n",
    "Begin by importing all of the packages used in this notebook. If your kernel uses an environment defined following the guidance on the [tutorials] page, then the imports will be successful.\n",
    "\n",
    "[tutorials]: https://oceancolor.gsfc.nasa.gov/resources/docs/tutorials"
   ]
  },
  {
   "cell_type": "code",
   "execution_count": null,
   "id": "23ad73a5",
   "metadata": {},
   "outputs": [],
   "source": [
    "import cartopy.crs as ccrs\n",
    "import earthaccess\n",
    "import h5netcdf\n",
    "import matplotlib.pyplot as plt\n",
    "import numpy as np\n",
    "import pandas as pd\n",
    "import xarray as xr"
   ]
  },
  {
   "cell_type": "markdown",
   "id": "cf134dea",
   "metadata": {},
   "source": [
    "Set (and persist to your user profile on the host, if needed) your Earthdata Login credentials."
   ]
  },
  {
   "cell_type": "code",
   "execution_count": null,
   "id": "da0a8caa",
   "metadata": {},
   "outputs": [],
   "source": [
    "auth = earthaccess.login(persist=True)"
   ]
  },
  {
   "cell_type": "markdown",
   "id": "dbb553a9",
   "metadata": {},
   "source": [
    "[back to top](#Contents)"
   ]
  },
  {
   "cell_type": "markdown",
   "id": "af7a8eb6",
   "metadata": {},
   "source": [
    "## 2. Explore L1B File Structure\n",
    "\n",
    "Let's use `xarray` to open up a OCI L1B NetCDF file using `earthaccess`. We will use the same search method used in <a href=\"oci_data_access.html\">OCI Data Access</a>. Note that L1B files do not include cloud coverage metadata, so we cannot use that filter."
   ]
  },
  {
   "cell_type": "code",
   "execution_count": null,
   "id": "e0a8bcfd",
   "metadata": {},
   "outputs": [],
   "source": [
    "tspan = (\"2024-05-01\", \"2024-05-16\")\n",
    "bbox = (-76.75, 36.97, -75.74, 39.01)"
   ]
  },
  {
   "cell_type": "code",
   "execution_count": null,
   "id": "e9cca79b",
   "metadata": {},
   "outputs": [],
   "source": [
    "results = earthaccess.search_data(\n",
    "    short_name=\"PACE_OCI_L1B_SCI\",\n",
    "    temporal=tspan,\n",
    "    bounding_box=bbox,\n",
    ")"
   ]
  },
  {
   "cell_type": "code",
   "execution_count": null,
   "id": "a1a67af5",
   "metadata": {},
   "outputs": [],
   "source": [
    "paths = earthaccess.open(results)"
   ]
  },
  {
   "cell_type": "markdown",
   "id": "c43e18f6",
   "metadata": {},
   "source": [
    "We want to confirm we are running code on a remote host with direct access to the NASA Earthdata Cloud. The next cell has\n",
    "no effect if we are, and otherwise raises an error. If there is an error, consider the substitution explained in the [Data Access][data-access] notebook.\n",
    "\n",
    "[data-access]: https://oceancolor.gsfc.nasa.gov/resources/docs/tutorials/notebooks/oci_data_access/"
   ]
  },
  {
   "cell_type": "code",
   "execution_count": null,
   "id": "bf158190",
   "metadata": {},
   "outputs": [],
   "source": [
    "try:\n",
    "    paths[0].f.bucket\n",
    "except AttributeError:\n",
    "    raise Exception(\"The result opened without an S3FileSystem.\") from None"
   ]
  },
  {
   "cell_type": "markdown",
   "id": "d9781919",
   "metadata": {},
   "source": [
    "Let's open the first file of the L1B files list:"
   ]
  },
  {
   "cell_type": "code",
   "execution_count": null,
   "id": "ead0374b",
   "metadata": {},
   "outputs": [],
   "source": [
    "dataset = xr.open_dataset(paths[0])\n",
    "dataset"
   ]
  },
  {
   "cell_type": "markdown",
   "id": "84f61ceb",
   "metadata": {},
   "source": [
    "Notice that this `xarray.Dataset` has nothing but \"Attributes\". We cannot use `xarray` to open multi-group hierarchies or list groups within a NetCDF file, but it can open a specific group if you know its path. The `xarray-datatree` package is going to be merged into `xarray` in the not too distant future, which will allow `xarray` to open the entire hierarchy. In the meantime, we can use a lower level reader to see the top-level groups."
   ]
  },
  {
   "cell_type": "code",
   "execution_count": null,
   "id": "d46e3174",
   "metadata": {},
   "outputs": [],
   "source": [
    "with h5netcdf.File(paths[0]) as file:\n",
    "    groups = list(file)\n",
    "groups"
   ]
  },
  {
   "cell_type": "markdown",
   "id": "d1e69a66",
   "metadata": {},
   "source": [
    "Let's open the \"observation_data\" group, which contains the core science variables."
   ]
  },
  {
   "cell_type": "code",
   "execution_count": null,
   "id": "a0fd24ec",
   "metadata": {},
   "outputs": [],
   "source": [
    "dataset = xr.open_dataset(paths[0], group=\"observation_data\")\n",
    "dataset"
   ]
  },
  {
   "cell_type": "markdown",
   "id": "5e51e2dd",
   "metadata": {},
   "source": [
    "Now you can view the Dimensions, Coordinates, and Variables of this group. To show/hide attributes, press the paper icon on the right hand side of each variable. To show/hide data representation, press the cylinder icon. For instance, you could check the attributes on \"rhot_blue\" to see that this variable is the \"Top of Atmosphere Blue Band Reflectance\".\n",
    "\n",
    "The dimensions of the \"rhot_blue\" variable are (\"blue_bands\", \"number_of_scans\", \"ccd_pixels\"), and it has shape (119, 1709, 1272). The `sizes` attribute of a variable gives us that information as a dictionary."
   ]
  },
  {
   "cell_type": "code",
   "execution_count": null,
   "id": "eaf80fd2",
   "metadata": {},
   "outputs": [],
   "source": [
    "dataset[\"rhot_blue\"].sizes"
   ]
  },
  {
   "cell_type": "markdown",
   "id": "a286ae9b",
   "metadata": {},
   "source": [
    "Let's plot the reflectance at postion 100 in the \"blue_bands\" dimension."
   ]
  },
  {
   "cell_type": "code",
   "execution_count": null,
   "id": "5c3e37a9",
   "metadata": {},
   "outputs": [],
   "source": [
    "im = dataset[\"rhot_blue\"].sel({\"blue_bands\": 100}).plot()"
   ]
  },
  {
   "cell_type": "markdown",
   "id": "0e43a8d7",
   "metadata": {},
   "source": [
    "[back to top](#Contents)"
   ]
  },
  {
   "cell_type": "markdown",
   "id": "05789def",
   "metadata": {},
   "source": [
    "## 3. Explore L2 File Structure\n",
    "\n",
    "OCI L2 files include retrievals of geophysical variables, such as Apparent Optical Properties (AOP), for each L1 swath. We'll use the same `earthaccess` search for L2 AOP data. Although now we can use `cloud_cover` too."
   ]
  },
  {
   "cell_type": "code",
   "execution_count": null,
   "id": "d6298d08",
   "metadata": {},
   "outputs": [],
   "source": [
    "tspan = (\"2024-05-01\", \"2024-05-16\")\n",
    "bbox = (-76.75, 36.97, -75.74, 39.01)\n",
    "clouds = (0, 50)\n",
    "results = earthaccess.search_data(\n",
    "    short_name=\"PACE_OCI_L2_AOP_NRT\",\n",
    "    temporal=tspan,\n",
    "    bounding_box=bbox,\n",
    "    cloud_cover=clouds,\n",
    ")"
   ]
  },
  {
   "cell_type": "code",
   "execution_count": null,
   "id": "414c1318",
   "metadata": {},
   "outputs": [],
   "source": [
    "paths = earthaccess.open(results)"
   ]
  },
  {
   "cell_type": "code",
   "execution_count": null,
   "id": "76a7375b",
   "metadata": {},
   "outputs": [],
   "source": [
    "with h5netcdf.File(paths[0]) as file:\n",
    "    groups = list(file)\n",
    "groups"
   ]
  },
  {
   "cell_type": "markdown",
   "id": "23b5f7d9",
   "metadata": {},
   "source": [
    "Let's look at the \"geophysical_data\" group, which is a new group generated by the level 2 processing."
   ]
  },
  {
   "cell_type": "code",
   "execution_count": null,
   "id": "8249f314",
   "metadata": {},
   "outputs": [],
   "source": [
    "dataset = xr.open_dataset(paths[0], group=\"geophysical_data\")\n",
    "rrs = dataset[\"Rrs\"]\n",
    "rrs"
   ]
  },
  {
   "cell_type": "code",
   "execution_count": null,
   "id": "7735311c",
   "metadata": {},
   "outputs": [],
   "source": [
    "rrs.sizes"
   ]
  },
  {
   "cell_type": "markdown",
   "id": "9a0da8df",
   "metadata": {},
   "source": [
    "The Rrs variable has length 184 in the wavelength dimension, so the blue, red, and SWIR wavelengths have been combined. Let's map the Rrs at \"wavelength_3d\" position 100."
   ]
  },
  {
   "cell_type": "code",
   "execution_count": null,
   "id": "87656dd4",
   "metadata": {},
   "outputs": [],
   "source": [
    "im = rrs.sel({\"wavelength_3d\": 100}).plot(cmap=\"viridis\", robust=True)"
   ]
  },
  {
   "cell_type": "markdown",
   "id": "d971ad48",
   "metadata": {},
   "source": [
    "Right now, the scene is being plotted using `number_of_lines` and `pixels_per_line` as \"x\" and \"y\", respectively. We need to add latitude and longitude values to create a true map. To do this, we will create a merged `xarray.Dataset` that pulls in information from the \"navigation_data\" group."
   ]
  },
  {
   "cell_type": "code",
   "execution_count": null,
   "id": "b3eb0ead",
   "metadata": {},
   "outputs": [],
   "source": [
    "dataset = xr.open_dataset(paths[0], group=\"navigation_data\")\n",
    "dataset = dataset.set_coords((\"longitude\", \"latitude\"))\n",
    "dataset = xr.merge((rrs, dataset.coords))\n",
    "dataset"
   ]
  },
  {
   "cell_type": "markdown",
   "id": "05a77f52",
   "metadata": {},
   "source": [
    "Although we now have coordinates, they won't immediately help because the data are not gridded by latitude and longitude.\n",
    "The Level 2 data cover the original instrument swath and have not been resampled to a regular grid. Therefore latitude\n",
    "and longitude are known, but cannot be used immediately to \"look-up\" values like you can along an array's dimensions.\n",
    "\n",
    "Let's make a scatter plot of the pixel locations so we can see the irregular spacing. By selecting a `slice` with a step size larger than one, we get a subset of the locations for better visualization."
   ]
  },
  {
   "cell_type": "code",
   "execution_count": null,
   "id": "a56d9589",
   "metadata": {},
   "outputs": [],
   "source": [
    "im = dataset.sel(\n",
    "    {\n",
    "        \"number_of_lines\": slice(None, None, 1720 // 20),\n",
    "        \"pixels_per_line\": slice(None, None, 1272 // 20),\n",
    "    },\n",
    ").plot.scatter(x=\"longitude\", y=\"latitude\")"
   ]
  },
  {
   "cell_type": "markdown",
   "id": "9193b653",
   "metadata": {},
   "source": [
    "Let's plot this new `xarray.Dataset` the same way as before, but add latitude and longitude."
   ]
  },
  {
   "cell_type": "code",
   "execution_count": null,
   "id": "f4f23518",
   "metadata": {},
   "outputs": [],
   "source": [
    "rrs_sel = dataset[\"Rrs\"].sel({\"wavelength_3d\": 100})\n",
    "im = rrs_sel.plot(x=\"longitude\", y=\"latitude\", cmap=\"viridis\", robust=True)"
   ]
  },
  {
   "cell_type": "markdown",
   "id": "01096958",
   "metadata": {},
   "source": [
    "Now you can visualize the data projected onto a grid. If you wanna get fancy, add a coastline."
   ]
  },
  {
   "cell_type": "code",
   "execution_count": null,
   "id": "7271ea61",
   "metadata": {},
   "outputs": [],
   "source": [
    "fig = plt.figure()\n",
    "ax = plt.axes(projection=ccrs.PlateCarree())\n",
    "im = rrs_sel.plot(x=\"longitude\", y=\"latitude\", cmap=\"viridis\", robust=True, ax=ax)\n",
    "ax.gridlines(draw_labels={\"left\": \"y\", \"bottom\": \"x\"})\n",
    "ax.coastlines()\n",
    "plt.show()"
   ]
  },
  {
   "cell_type": "markdown",
   "id": "207337b9",
   "metadata": {},
   "source": [
    "Let's plot the full \"Rrs\" spectrum for individual pixels. A visualization with all the pixels\n",
    "wouldn't be useful, but limiting to a bounding box gives a simple way to subset pixels. Note that,\n",
    "since we still don't have gridded data (i.e. our latitude and longitude coordinates are two-dimensional),\n",
    "we can't `slice` on a built-in index. Without getting into anything complex, we can just box it out."
   ]
  },
  {
   "cell_type": "code",
   "execution_count": null,
   "id": "fa13a9b2",
   "metadata": {},
   "outputs": [],
   "source": [
    "rrs_box = dataset[\"Rrs\"].where(\n",
    "    (\n",
    "        (dataset[\"latitude\"] > 37.52)\n",
    "        & (dataset[\"latitude\"] < 37.55)\n",
    "        & (dataset[\"longitude\"] > -75.46)\n",
    "        & (dataset[\"longitude\"] < -75.43)\n",
    "    ),\n",
    "    drop=True,\n",
    ")\n",
    "rrs_box.sizes"
   ]
  },
  {
   "cell_type": "markdown",
   "id": "13d8d9f6",
   "metadata": {},
   "source": [
    "The line plotting method will only draw a line plot for 1D data, which we can get by stacking\n",
    "our two spatial dimensions and choosing to show the new \"pixel dimension\" as different colors."
   ]
  },
  {
   "cell_type": "code",
   "execution_count": null,
   "id": "4350a396",
   "metadata": {},
   "outputs": [],
   "source": [
    "rrs_stack = rrs_box.stack(\n",
    "    {\"pixel\": [\"number_of_lines\", \"pixels_per_line\"]},\n",
    "    create_index=False,\n",
    ")\n",
    "plot = rrs_stack.plot.line(hue=\"pixel\")"
   ]
  },
  {
   "cell_type": "markdown",
   "id": "2ab0debe",
   "metadata": {},
   "source": [
    "We will go over how to plot Rrs spectra with accurate wavelength values on the x-axis in an upcoming notebook.\n",
    "\n",
    "[back to top](#Contents)"
   ]
  },
  {
   "cell_type": "markdown",
   "id": "cd5150d4",
   "metadata": {},
   "source": [
    "## 4. Explore L3 File Structure\n",
    "\n",
    "At Level-3 there are binned (B) and mapped (M) products available for OCI. The L3M remote sensing reflectance (Rrs) files contain global maps of Rrs. We'll use the same `earthaccess` method to find the data."
   ]
  },
  {
   "cell_type": "code",
   "execution_count": null,
   "id": "cd65b734",
   "metadata": {},
   "outputs": [],
   "source": [
    "tspan = (\"2024-05-01\", \"2024-05-08\")\n",
    "results = earthaccess.search_data(\n",
    "    short_name=\"PACE_OCI_L3M_RRS_NRT\",\n",
    "    temporal=tspan,\n",
    "    #    count=1,\n",
    ")"
   ]
  },
  {
   "cell_type": "code",
   "execution_count": null,
   "id": "b9a8e316",
   "metadata": {},
   "outputs": [],
   "source": [
    "paths = earthaccess.open(results)"
   ]
  },
  {
   "cell_type": "markdown",
   "id": "65d8be87",
   "metadata": {},
   "source": [
    "OCI L3 data do not have any groups, so we can open the dataset without the `group` argument.\n",
    "Let's take a look at one of these files. Not just any one; we will search for the one that is a\n",
    "high resolution map."
   ]
  },
  {
   "cell_type": "code",
   "execution_count": null,
   "id": "a75df2a3",
   "metadata": {},
   "outputs": [],
   "source": [
    "for item in paths:\n",
    "    dataset = xr.open_dataset(item)\n",
    "    if dataset.sizes[\"lat\"] == 4320:\n",
    "        break\n",
    "dataset"
   ]
  },
  {
   "cell_type": "markdown",
   "id": "d5b53a50",
   "metadata": {},
   "source": [
    "Notice that OCI L3M data has `lat`, `lon`, and `wavelength` coordinates, so it's easy to slice\n",
    "out a bounding box and map the \"Rrs\" variable at a given wavelength."
   ]
  },
  {
   "cell_type": "code",
   "execution_count": null,
   "id": "576f2577",
   "metadata": {},
   "outputs": [],
   "source": [
    "rrs_slice = dataset[\"Rrs\"].sel({\"lat\": slice(-25, -45), \"lon\": slice(10, 30)})\n",
    "rrs_slice_442 = rrs_slice.sel({\"wavelength\": 442}, method=\"nearest\")\n",
    "rrs_slice_442"
   ]
  },
  {
   "cell_type": "code",
   "execution_count": null,
   "id": "33dccd4f",
   "metadata": {},
   "outputs": [],
   "source": [
    "fig = plt.figure()\n",
    "ax = plt.axes(projection=ccrs.PlateCarree())\n",
    "im = rrs_slice_442.plot(cmap=\"viridis\", robust=True, ax=ax)\n",
    "ax.gridlines(draw_labels={\"left\": \"y\", \"bottom\": \"x\"})\n",
    "ax.coastlines()\n",
    "plt.show()"
   ]
  },
  {
   "cell_type": "markdown",
   "id": "93de28bd",
   "metadata": {},
   "source": [
    "Also becuase the L3M variables have `lat` and `lon` coordinates, it's possible to stack multiple granules along a new dimension that corresponds to time.\n",
    "Instead of `xr.open_dataset`, we use `xr.open_mfdataset` to create a single `xarray.Dataset` (the \"mf\" in `open_mfdataset` stands for multiple files) from an array of paths.\n",
    "\n",
    "Rather than searching through results for particular resolutions though, we need to augment the CMR query using information\n",
    "build into the granule name. Take a look at the attribute on the previous dataset."
   ]
  },
  {
   "cell_type": "code",
   "execution_count": null,
   "id": "b87e1e7f",
   "metadata": {},
   "outputs": [],
   "source": [
    "dataset.attrs[\"product_name\"]"
   ]
  },
  {
   "cell_type": "markdown",
   "id": "fc01926d",
   "metadata": {},
   "source": [
    "We will use a new search filter available in `search_data`: the `granule_name` argument accepts strings with the \"*\" wildcard. We need this to distinguish daily (\"DAY\") from eight-day (\"8D\") composites, as well as to get the desired 0.1 degree resolution projections."
   ]
  },
  {
   "cell_type": "code",
   "execution_count": null,
   "id": "268b0266",
   "metadata": {},
   "outputs": [],
   "source": [
    "results = earthaccess.search_data(\n",
    "    short_name=\"PACE_OCI_L3M_CHL_NRT\",\n",
    "    temporal=tspan,\n",
    "    granule_name=\"*.DAY.*.0p1deg.*\",\n",
    ")"
   ]
  },
  {
   "cell_type": "code",
   "execution_count": null,
   "id": "533344bf",
   "metadata": {},
   "outputs": [],
   "source": [
    "paths = earthaccess.open(results)"
   ]
  },
  {
   "cell_type": "markdown",
   "id": "f0a87050",
   "metadata": {},
   "source": [
    "The `paths` list is sorted temporally by default, which means the shape of the `paths` array specifies the way we need to tile the files together into larger arrays. We specify `combine=\"nested\"` to combine the files according to the shape of the array of files (or file-like objects), even though `paths` is not a \"nested\" list in this case. The `concat_dim=\"date\"` argument generates a new dimension in the combined dataset, because \"date\" is not an existing dimension in the individual files."
   ]
  },
  {
   "cell_type": "code",
   "execution_count": null,
   "id": "d2f14293",
   "metadata": {},
   "outputs": [],
   "source": [
    "dataset = xr.open_mfdataset(\n",
    "    paths,\n",
    "    combine=\"nested\",\n",
    "    concat_dim=\"date\",\n",
    ")"
   ]
  },
  {
   "cell_type": "markdown",
   "id": "c0f8d765",
   "metadata": {},
   "source": [
    "Add a date dimension using the dates from the netCDF files."
   ]
  },
  {
   "cell_type": "code",
   "execution_count": null,
   "id": "c7a458a1",
   "metadata": {},
   "outputs": [],
   "source": [
    "dates = [xr.open_dataset(a).attrs[\"time_coverage_end\"] for a in paths]\n",
    "dt = pd.to_datetime(dates)\n",
    "dataset = dataset.assign_coords(date=dt.values)\n",
    "dataset"
   ]
  },
  {
   "cell_type": "markdown",
   "id": "3981c8cc",
   "metadata": {},
   "source": [
    "A common reason to generate a single dataset from multiple, daily images is to create a composite. Compare the map from a single day ..."
   ]
  },
  {
   "cell_type": "code",
   "execution_count": null,
   "id": "8eb10e46",
   "metadata": {},
   "outputs": [],
   "source": [
    "chla = np.log10(dataset[\"chlor_a\"])\n",
    "chla.attrs.update(\n",
    "    {\n",
    "        \"units\": f'log({dataset[\"chlor_a\"].attrs[\"units\"]})',\n",
    "    }\n",
    ")\n",
    "im = chla.sel(date=\"2024-05-02\").plot(aspect=2, size=4, cmap=\"GnBu_r\")"
   ]
  },
  {
   "cell_type": "markdown",
   "id": "7e9c0adb",
   "metadata": {},
   "source": [
    "... to a map of average values, skipping \"NaN\" values that result from clouds and the OCI's tilt maneuver."
   ]
  },
  {
   "cell_type": "code",
   "execution_count": null,
   "id": "821a5ee0",
   "metadata": {},
   "outputs": [],
   "source": [
    "chla_avg = chla.mean(\"date\", keep_attrs=True)\n",
    "im = chla_avg.plot(aspect=2, size=4, cmap=\"GnBu_r\")"
   ]
  },
  {
   "cell_type": "markdown",
   "id": "67bf5624",
   "metadata": {},
   "source": [
    "We can also create a time series of mean values over the whole region."
   ]
  },
  {
   "cell_type": "code",
   "execution_count": null,
   "id": "b30639cb",
   "metadata": {},
   "outputs": [],
   "source": [
    "chla_avg = chla.mean(dim=[\"lon\", \"lat\"], keep_attrs=True)\n",
    "im = chla_avg.plot(linestyle=\"-\", marker=\"o\", color=\"b\")"
   ]
  },
  {
   "cell_type": "markdown",
   "id": "7bca9528",
   "metadata": {},
   "source": [
    "[back to top](#Contents)\n",
    "\n",
    "<div class=\"alert alert-info\" role=\"alert\">\n",
    "\n",
    "You have completed the notebook on OCI file structure.\n",
    "\n",
    "</div>"
   ]
  }
 ],
 "metadata": {
  "jupytext": {
   "cell_metadata_filter": "all,-trusted",
   "main_language": "python",
   "notebook_metadata_filter": "all,-kernelspec"
  },
  "language_info": {
   "codemirror_mode": {
    "name": "ipython",
    "version": 3
   },
   "file_extension": ".py",
   "mimetype": "text/x-python",
   "name": "python",
   "nbconvert_exporter": "python",
   "pygments_lexer": "ipython3",
   "version": "3.12.7"
  }
 },
 "nbformat": 4,
 "nbformat_minor": 5
}
